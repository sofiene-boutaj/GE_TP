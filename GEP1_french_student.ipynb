{
  "cells": [
    {
      "cell_type": "markdown",
      "metadata": {
        "id": "D0BUr_7GVHZT"
      },
      "source": [
        "# **GE - TP: Segmentation avec PyTorch**\n",
        "\n",
        "\n",
        "Dans ce TP, nous allons coder un réseau de neurones pour segmenter des tumeurs sur des scan de cerveau.\n",
        "\n",
        "\n",
        "Try comparison with UNet ++ https://github.com/MrGiovanni/UNetPlusPlus\n",
        "or just add residual connections.\n",
        "Add visualization during the training.\n",
        "\n",
        "\n",
        "- Explore functions in Sitk\n",
        "- Define hyperparameters\n",
        "- Dataset split\n",
        "- ConvBatchNorm\n",
        "- How to import from github ?\n",
        "\n",
        "One additional model\n",
        "- either integrating a new model from model, train it and compare\n",
        "- or show benefits from pre-trained model"
      ]
    },
    {
      "cell_type": "markdown",
      "metadata": {
        "id": "UB4W-Jw9VHZn"
      },
      "source": [
        "# **1. Imports**"
      ]
    },
    {
      "cell_type": "code",
      "execution_count": null,
      "metadata": {
        "colab": {
          "base_uri": "https://localhost:8080/"
        },
        "id": "13YDHJHyC8td",
        "outputId": "f8b13ba4-016b-46d5-b187-da3074583af8"
      },
      "outputs": [
        {
          "name": "stdout",
          "output_type": "stream",
          "text": [
            "Looking in indexes: https://pypi.org/simple, https://us-python.pkg.dev/colab-wheels/public/simple/\n",
            "Collecting SimpleITK\n",
            "  Downloading SimpleITK-2.1.1.2-cp37-cp37m-manylinux_2_12_x86_64.manylinux2010_x86_64.whl (48.4 MB)\n",
            "\u001b[K     |████████████████████████████████| 48.4 MB 28 kB/s \n",
            "\u001b[?25hInstalling collected packages: SimpleITK\n",
            "Successfully installed SimpleITK-2.1.1.2\n",
            "Looking in indexes: https://pypi.org/simple, https://us-python.pkg.dev/colab-wheels/public/simple/\n",
            "Requirement already satisfied: tensorboard in /usr/local/lib/python3.7/dist-packages (2.8.0)\n",
            "Requirement already satisfied: werkzeug>=0.11.15 in /usr/local/lib/python3.7/dist-packages (from tensorboard) (1.0.1)\n",
            "Requirement already satisfied: requests<3,>=2.21.0 in /usr/local/lib/python3.7/dist-packages (from tensorboard) (2.23.0)\n",
            "Requirement already satisfied: google-auth-oauthlib<0.5,>=0.4.1 in /usr/local/lib/python3.7/dist-packages (from tensorboard) (0.4.6)\n",
            "Requirement already satisfied: numpy>=1.12.0 in /usr/local/lib/python3.7/dist-packages (from tensorboard) (1.21.6)\n",
            "Requirement already satisfied: markdown>=2.6.8 in /usr/local/lib/python3.7/dist-packages (from tensorboard) (3.3.7)\n",
            "Requirement already satisfied: grpcio>=1.24.3 in /usr/local/lib/python3.7/dist-packages (from tensorboard) (1.46.3)\n",
            "Requirement already satisfied: protobuf>=3.6.0 in /usr/local/lib/python3.7/dist-packages (from tensorboard) (3.17.3)\n",
            "Requirement already satisfied: tensorboard-plugin-wit>=1.6.0 in /usr/local/lib/python3.7/dist-packages (from tensorboard) (1.8.1)\n",
            "Requirement already satisfied: wheel>=0.26 in /usr/local/lib/python3.7/dist-packages (from tensorboard) (0.37.1)\n",
            "Requirement already satisfied: setuptools>=41.0.0 in /usr/local/lib/python3.7/dist-packages (from tensorboard) (57.4.0)\n",
            "Requirement already satisfied: tensorboard-data-server<0.7.0,>=0.6.0 in /usr/local/lib/python3.7/dist-packages (from tensorboard) (0.6.1)\n",
            "Requirement already satisfied: absl-py>=0.4 in /usr/local/lib/python3.7/dist-packages (from tensorboard) (1.1.0)\n",
            "Requirement already satisfied: google-auth<3,>=1.6.3 in /usr/local/lib/python3.7/dist-packages (from tensorboard) (1.35.0)\n",
            "Requirement already satisfied: cachetools<5.0,>=2.0.0 in /usr/local/lib/python3.7/dist-packages (from google-auth<3,>=1.6.3->tensorboard) (4.2.4)\n",
            "Requirement already satisfied: rsa<5,>=3.1.4 in /usr/local/lib/python3.7/dist-packages (from google-auth<3,>=1.6.3->tensorboard) (4.8)\n",
            "Requirement already satisfied: six>=1.9.0 in /usr/local/lib/python3.7/dist-packages (from google-auth<3,>=1.6.3->tensorboard) (1.15.0)\n",
            "Requirement already satisfied: pyasn1-modules>=0.2.1 in /usr/local/lib/python3.7/dist-packages (from google-auth<3,>=1.6.3->tensorboard) (0.2.8)\n",
            "Requirement already satisfied: requests-oauthlib>=0.7.0 in /usr/local/lib/python3.7/dist-packages (from google-auth-oauthlib<0.5,>=0.4.1->tensorboard) (1.3.1)\n",
            "Requirement already satisfied: importlib-metadata>=4.4 in /usr/local/lib/python3.7/dist-packages (from markdown>=2.6.8->tensorboard) (4.11.4)\n",
            "Requirement already satisfied: zipp>=0.5 in /usr/local/lib/python3.7/dist-packages (from importlib-metadata>=4.4->markdown>=2.6.8->tensorboard) (3.8.0)\n",
            "Requirement already satisfied: typing-extensions>=3.6.4 in /usr/local/lib/python3.7/dist-packages (from importlib-metadata>=4.4->markdown>=2.6.8->tensorboard) (4.1.1)\n",
            "Requirement already satisfied: pyasn1<0.5.0,>=0.4.6 in /usr/local/lib/python3.7/dist-packages (from pyasn1-modules>=0.2.1->google-auth<3,>=1.6.3->tensorboard) (0.4.8)\n",
            "Requirement already satisfied: urllib3!=1.25.0,!=1.25.1,<1.26,>=1.21.1 in /usr/local/lib/python3.7/dist-packages (from requests<3,>=2.21.0->tensorboard) (1.24.3)\n",
            "Requirement already satisfied: certifi>=2017.4.17 in /usr/local/lib/python3.7/dist-packages (from requests<3,>=2.21.0->tensorboard) (2022.6.15)\n",
            "Requirement already satisfied: chardet<4,>=3.0.2 in /usr/local/lib/python3.7/dist-packages (from requests<3,>=2.21.0->tensorboard) (3.0.4)\n",
            "Requirement already satisfied: idna<3,>=2.5 in /usr/local/lib/python3.7/dist-packages (from requests<3,>=2.21.0->tensorboard) (2.10)\n",
            "Requirement already satisfied: oauthlib>=3.0.0 in /usr/local/lib/python3.7/dist-packages (from requests-oauthlib>=0.7.0->google-auth-oauthlib<0.5,>=0.4.1->tensorboard) (3.2.0)\n"
          ]
        }
      ],
      "source": [
        "import torch\n",
        "import torch.nn as nn\n",
        "import torch.utils.data\n",
        "import torch.utils.tensorboard\n",
        "import torchvision\n",
        "import torchvision.transforms\n",
        "import os\n",
        "import time\n",
        "import numpy as np\n",
        "import skimage.transform\n",
        "import matplotlib.pyplot as plt\n",
        "import pandas as pd\n",
        "import sklearn.model_selection as model_selection\n",
        "from tqdm import tqdm\n",
        "from glob import glob\n",
        "from IPython.display import clear_output\n",
        "\n",
        "!pip install SimpleITK\n",
        "import SimpleITK as sitk\n",
        "\n",
        "!pip install tensorboard"
      ]
    },
    {
      "cell_type": "markdown",
      "metadata": {
        "id": "4t2qfPU3VHZx"
      },
      "source": [
        "# **2. Database**\n",
        "\n"
      ]
    },
    {
      "cell_type": "markdown",
      "metadata": {
        "id": "qO_00VNxVqB_"
      },
      "source": [
        "## 2.a. Télécharger la base de données.\n",
        "\n",
        "Exécutez la cellule suivante pour télécharger la base de données."
      ]
    },
    {
      "cell_type": "code",
      "execution_count": null,
      "metadata": {
        "colab": {
          "base_uri": "https://localhost:8080/"
        },
        "id": "IPENhQdf3QrC",
        "outputId": "f22ca5e8-e687-4980-c45a-b8ffb1f1dde0"
      },
      "outputs": [
        {
          "name": "stdout",
          "output_type": "stream",
          "text": [
            "fatal: destination path 'MVADLMI_TP3' already exists and is not an empty directory.\n"
          ]
        }
      ],
      "source": [
        "!git clone https://github.com/soniamartinot/GEP1.git"
      ]
    },
    {
      "cell_type": "code",
      "execution_count": null,
      "metadata": {
        "colab": {
          "base_uri": "https://localhost:8080/"
        },
        "id": "j61_jxGrYoAN",
        "outputId": "13e2b7a0-1b2b-4732-c0f1-818230bc073e"
      },
      "outputs": [
        {
          "name": "stdout",
          "output_type": "stream",
          "text": [
            "Cloning into 'MVADLMI_TP3'...\n",
            "remote: Enumerating objects: 105007, done.\u001b[K\n",
            "remote: Total 105007 (delta 0), reused 0 (delta 0), pack-reused 105007\u001b[K\n",
            "Receiving objects: 100% (105007/105007), 1.72 GiB | 42.78 MiB/s, done.\n",
            "Resolving deltas: 100% (20/20), done.\n",
            "Checking out files: 100% (130674/130674), done.\n"
          ]
        }
      ],
      "source": [
        "!git clone https://github.com/soniamartinot/MVADLMI_TP3.git"
      ]
    },
    {
      "cell_type": "markdown",
      "metadata": {
        "id": "io16YVeDYE0G"
      },
      "source": [
        "## 2.b. Aperçu de la base de données.\n",
        "\n",
        "Les données se trouvent dans le dossier `/GEP1/`.\n",
        "\n",
        "Dans ce dossier, vous trouverez:\n",
        "\n",
        "> Le dossier `origin_data` : contient 4 patients.\n",
        ">- Pour chaque patient, vous trouverez un volume entier par modalité sous format nifti.\n",
        ">- Chaque volume est de taille `(155, 192, 192)`\n",
        "\n",
        "> Le dossier `data` contient 336 patients.\n",
        ">- Les images dans ce dossier ont été pré-traitées et ont maintenant une taille de `(78, 96, 96)`. La taille plus petite rendra l'entraînement des modèles plus rapide et moins gourmand en ressoures.\n",
        ">- Si on considère un patient `BraTS19_EXAMPLE`, son dossier s'appellera `/GEP1/data/BraTS19_EXAMPLE`. Dans ce dossier, vous trouverez des fichiers nifti (`.nii.gz`) pour chaque modalité, et pour chaque coupe selon l'axe Z.\n",
        ">- Il y a 78 coupes par volume, i.e. 78 coupes par modalité.\n",
        "\n"
      ]
    },
    {
      "cell_type": "code",
      "execution_count": null,
      "metadata": {
        "id": "KJZ7vV9UVHZ7"
      },
      "outputs": [],
      "source": [
        "# The data is store in the folder /GEP1/\n",
        "data_path = './GEP1/data/'\n",
        "original_data_path = './GEP1/origin_data/'"
      ]
    },
    {
      "cell_type": "markdown",
      "metadata": {
        "id": "uPUuRxOHVHaA"
      },
      "source": [
        "### **i. Contenu de la base de données**"
      ]
    },
    {
      "cell_type": "code",
      "execution_count": null,
      "metadata": {
        "id": "ZSV6BYfEVHaD",
        "outputId": "eec3a18c-cd1e-4424-d2e9-a0c50160eab6"
      },
      "outputs": [
        {
          "name": "stdout",
          "output_type": "stream",
          "text": [
            "Content of the folder:\n",
            " ['BraTS19_TCIA01_131_1', 'BraTS19_TCIA10_442_1', 'BraTS19_CBICA_ANP_1', 'BraTS19_CBICA_AWV_1']\n",
            "Content of a patient's folder:\n",
            " ['BraTS19_TCIA01_131_1_t2.nii.gz', 'BraTS19_TCIA01_131_1_t1ce.nii.gz', 'BraTS19_TCIA01_131_1_seg.nii.gz', 'BraTS19_TCIA01_131_1_t1.nii.gz', 'BraTS19_TCIA01_131_1_flair.nii.gz']\n"
          ]
        }
      ],
      "source": [
        "# Original data\n",
        "print(\"Content of the folder:\\n\", os.listdir(original_data_path))\n",
        "patient = \"BraTS19_TCIA01_131_1\"\n",
        "print(\"Content of a patient's folder:\\n\", os.listdir(original_data_path + patient))"
      ]
    },
    {
      "cell_type": "code",
      "execution_count": null,
      "metadata": {
        "id": "bE1SY6hSVHaH",
        "outputId": "35e8bef8-0b7b-4db7-90c1-d08fddce8d17"
      },
      "outputs": [
        {
          "name": "stdout",
          "output_type": "stream",
          "text": [
            "Content of the folder ./MVADLMI_TP3/data/ \n",
            ": ['BraTS19_2013_20_1', 'BraTS19_TCIA06_211_1', 'BraTS19_2013_5_1', 'BraTS19_TCIA01_131_1', 'BraTS19_TCIA01_429_1']\n",
            "Number of files for each patient : 390\n",
            "Number of patients in ./MVADLMI_TP3/data/ : 336\n"
          ]
        }
      ],
      "source": [
        "# Processed data\n",
        "files = os.listdir(data_path) # All the files in the folder /GEP1/data/\n",
        "print('Content of the folder {} \\n: {}'.format(data_path, files[:5]))\n",
        "print('Number of files for each patient : {}'.format(len(os.listdir(data_path + files[0])) ))\n",
        "print('Number of patients in {} : {}'.format(data_path, len(files)))"
      ]
    },
    {
      "cell_type": "markdown",
      "metadata": {
        "id": "6JsQbnkhVHaK"
      },
      "source": [
        "### **ii. Contenu du dossier d'un patient**\n",
        "\n",
        "Pour chaque patient, vous trouverez 4 modalités et les masques de segmentation:\n",
        "\n",
        "- t1\n",
        "- t2\n",
        "- flair\n",
        "- t1ce (gado)\n",
        "- seg\n",
        "    \n",
        "Pour chqaue modalité, vous trouverez un fichier pour chaque coupe selon l'axe Z. Chaque patient a **78 coupes** par modalité."
      ]
    },
    {
      "cell_type": "code",
      "execution_count": null,
      "metadata": {
        "id": "QqWxq524VHaM"
      },
      "outputs": [],
      "source": [
        "modalities = ['t1', 't2', 't1ce', 'flair', 'seg']"
      ]
    },
    {
      "cell_type": "code",
      "execution_count": null,
      "metadata": {
        "id": "yI1kupGTVHaS",
        "outputId": "e9c92799-b817-46bf-e298-98b8cec4803b"
      },
      "outputs": [
        {
          "data": {
            "text/plain": [
              "['BraTS19_2013_20_1_flair_z_77.nii.gz',\n",
              " 'BraTS19_2013_20_1_t1ce_z_10.nii.gz',\n",
              " 'BraTS19_2013_20_1_flair_z_45.nii.gz',\n",
              " 'BraTS19_2013_20_1_t1ce_z_54.nii.gz',\n",
              " 'BraTS19_2013_20_1_t2_z_61.nii.gz',\n",
              " 'BraTS19_2013_20_1_t1_z_5.nii.gz',\n",
              " 'BraTS19_2013_20_1_seg_z_34.nii.gz',\n",
              " 'BraTS19_2013_20_1_t1_z_6.nii.gz',\n",
              " 'BraTS19_2013_20_1_t1ce_z_39.nii.gz',\n",
              " 'BraTS19_2013_20_1_flair_z_67.nii.gz']"
            ]
          },
          "execution_count": 7,
          "metadata": {},
          "output_type": "execute_result"
        }
      ],
      "source": [
        "patient = 'BraTS19_2013_20_1'\n",
        "patient_path = os.path.join(data_path, patient)\n",
        "patient_files = os.listdir(patient_path)\n",
        "patient_files[:10]"
      ]
    },
    {
      "cell_type": "code",
      "execution_count": null,
      "metadata": {
        "id": "oLQ4JtRjVHaV",
        "outputId": "8a97bccf-c574-4cc6-8df5-208a1b79b072"
      },
      "outputs": [
        {
          "name": "stdout",
          "output_type": "stream",
          "text": [
            "Number of Z slices: 78\n"
          ]
        },
        {
          "data": {
            "text/plain": [
              "['BraTS19_2013_20_1_flair_z_75.nii.gz',\n",
              " 'BraTS19_2013_20_1_flair_z_76.nii.gz',\n",
              " 'BraTS19_2013_20_1_flair_z_77.nii.gz',\n",
              " 'BraTS19_2013_20_1_flair_z_8.nii.gz',\n",
              " 'BraTS19_2013_20_1_flair_z_9.nii.gz']"
            ]
          },
          "execution_count": 8,
          "metadata": {},
          "output_type": "execute_result"
        }
      ],
      "source": [
        "\"\"\"\n",
        "Filter for the Flair modality\n",
        "\"\"\"\n",
        "\n",
        "flair_modality_files = sorted([e for e in patient_files if 'flair' in e])\n",
        "print(\"Number of Z slices:\", len(flair_modality_files))\n",
        "flair_modality_files[-5:]"
      ]
    },
    {
      "cell_type": "markdown",
      "metadata": {
        "id": "kmGMQt78VHaY"
      },
      "source": [
        "### **iii. SimpleITK tutorial**\n",
        "\n",
        "On utilise le package Python `SimpleITK` pour lire les fichiers nifti de la base de données.\n",
        "\n",
        "Pour ouvrir une image nifti, il faut utiliser la fonction suivante:\n",
        "\n",
        "        image = sitk.ReadImage(image_path)\n",
        "\n",
        "Grâce à ce package, vous avez accès à des informations pertinentes, physiques ou médicales, sur chaque image:\n",
        "- spacing: `image.GetSpacing()`\n",
        "- direction: `image.GetDirection()`\n",
        "- origine: `image.GetOrigin()`\n",
        "- taille: `image.GetSize()`\n",
        "- metadata: `image.GetMetaDataKeys()`\n",
        "- valeur d'un pixel: `image.GetPixel(pixel_x, pixel_y, pixel_z)`\n",
        "\n",
        "Vous pouvez passer d'une image `sitk` à un array `numpy` grâce à la commande suivante:\n",
        "\n",
        "        array = sitk.GetArrayFromImage(image)"
      ]
    },
    {
      "cell_type": "code",
      "execution_count": null,
      "metadata": {
        "id": "LPDUJ-IhVHaZ",
        "outputId": "52063918-6060-493e-baaa-0e75ac9974c9"
      },
      "outputs": [
        {
          "name": "stdout",
          "output_type": "stream",
          "text": [
            "Path to the image: ./MVADLMI_TP3/origin_data/BraTS19_CBICA_ANP_1/BraTS19_CBICA_ANP_1_flair.nii.gz\n",
            "Type of the opened image: <class 'SimpleITK.SimpleITK.Image'>\n"
          ]
        }
      ],
      "source": [
        "patient = 'BraTS19_CBICA_ANP_1'\n",
        "\n",
        "# Define the image path\n",
        "z = 3\n",
        "modality = 'flair'\n",
        "patient_folder = os.path.join(original_data_path, patient)\n",
        "image_name = \"{patient}_{modality}.nii.gz\".format(patient=patient, modality=modality)\n",
        "image_path = os.path.join(patient_folder, image_name)\n",
        "print(\"Path to the image:\", image_path)\n",
        "# We use the librairy sitk to open the nifti images\n",
        "image = sitk.ReadImage(image_path)\n",
        "print(\"Type of the opened image:\", type(image))"
      ]
    },
    {
      "cell_type": "code",
      "execution_count": null,
      "metadata": {
        "id": "0bZqYuD4VHab",
        "outputId": "58906db4-8395-46eb-bb96-0bbf292fef6d"
      },
      "outputs": [
        {
          "name": "stdout",
          "output_type": "stream",
          "text": [
            "Image Direction : (1.0, 0.0, 0.0, 0.0, 1.0, 0.0, 0.0, 0.0, 1.0)\n",
            "Image Spacing : (1.0, 1.0, 1.0)\n",
            "Image Origin : (-0.0, -239.0, 0.0)\n",
            "Image Size : (240, 240, 155)\n",
            "Pixel value: 0\n"
          ]
        }
      ],
      "source": [
        "# Print geometrical information\n",
        "print('Image Direction : {}'.format(\"\"\"Complete here\"\"\"))\n",
        "print('Image Spacing : {}'.format(\"\"\"Complete here\"\"\"))\n",
        "print('Image Origin : {}'.format(\"\"\"Complete here\"\"\"))\n",
        "print('Image Size : {}'.format(\"\"\"Complete here\"\"\"))\n",
        "print('Pixel value:', \"\"\"Complete here\"\"\")"
      ]
    },
    {
      "cell_type": "code",
      "execution_count": null,
      "metadata": {
        "id": "vADXJEgjVHad",
        "outputId": "18d3b090-1e6d-4b33-837a-e7045963a6a6"
      },
      "outputs": [
        {
          "name": "stdout",
          "output_type": "stream",
          "text": [
            "Metadata :\n",
            "ITK_FileNotes : \n",
            "ITK_original_direction : [UNKNOWN_PRINT_CHARACTERISTICS]\n",
            "\n",
            "ITK_original_spacing : [UNKNOWN_PRINT_CHARACTERISTICS]\n",
            "\n",
            "aux_file : \n",
            "bitpix : 16\n",
            "cal_max : 0\n",
            "cal_min : 0\n",
            "datatype : 4\n",
            "descrip : \n",
            "dim[0] : 3\n",
            "dim[1] : 240\n",
            "dim[2] : 240\n",
            "dim[3] : 155\n",
            "dim[4] : 1\n",
            "dim[5] : 1\n",
            "dim[6] : 1\n",
            "dim[7] : 1\n",
            "dim_info : 0\n",
            "intent_code : 0\n",
            "intent_name : \n",
            "intent_p1 : 0\n",
            "intent_p2 : 0\n",
            "intent_p3 : 0\n",
            "nifti_type : 1\n",
            "pixdim[0] : 0\n",
            "pixdim[1] : 1\n",
            "pixdim[2] : 1\n",
            "pixdim[3] : 1\n",
            "pixdim[4] : 0\n",
            "pixdim[5] : 0\n",
            "pixdim[6] : 0\n",
            "pixdim[7] : 0\n",
            "qform_code : 1\n",
            "qform_code_name : NIFTI_XFORM_SCANNER_ANAT\n",
            "qoffset_x : 0\n",
            "qoffset_y : 239\n",
            "qoffset_z : 0\n",
            "quatern_b : 0\n",
            "quatern_c : 0\n",
            "quatern_d : 1\n",
            "scl_inter : 0\n",
            "scl_slope : 0\n",
            "sform_code : 1\n",
            "sform_code_name : NIFTI_XFORM_SCANNER_ANAT\n",
            "slice_code : 0\n",
            "slice_duration : 0\n",
            "slice_end : 0\n",
            "slice_start : 0\n",
            "srow_x : -1 -0 -0 0\n",
            "srow_y : -0 -1 -0 239\n",
            "srow_z : 0 0 1 0\n",
            "toffset : 0\n",
            "vox_offset : 2880\n",
            "xyzt_units : 2\n"
          ]
        }
      ],
      "source": [
        "# Get all the information in the meta data\n",
        "keys = image.GetMetaDataKeys()\n",
        "print('Metadata :')\n",
        "for key in keys:\n",
        "    print('{} : {}'.format(key, image.GetMetaData(key)))"
      ]
    },
    {
      "cell_type": "code",
      "execution_count": null,
      "metadata": {
        "id": "ldR6c6E6VHae",
        "outputId": "33d23962-3138-431a-e4df-7880795e0745"
      },
      "outputs": [
        {
          "name": "stdout",
          "output_type": "stream",
          "text": [
            "Type of the image: <class 'numpy.ndarray'>\n",
            "Shape of the image as a numpy array: (155, 240, 240)\n",
            "Value of the first pixel of the numpy array: 0\n"
          ]
        }
      ],
      "source": [
        "# Convert the sitk image\n",
        "array = sitk.GetArrayFromImage(image)\n",
        "print(\"Type of the image:\", type(array)) # Type of the image\n",
        "print(\"Shape of the image as a numpy array:\", array.shape)\n",
        "print(\"Value of the first pixel of the numpy array:\", array[0, 0, 0])"
      ]
    },
    {
      "cell_type": "markdown",
      "metadata": {
        "id": "xrcfaqwSVHah"
      },
      "source": [
        "### **iv. Comparaison entre les données originales et pré-traitées.**\n",
        "\n",
        "\n",
        "Afin d'accélérer les temps de calcul pour obtenir de bons résultats plus rapidement, les images d'origine de taille `(155, 240, 240)` ont été pré-traitées selon les étapes suivantes:\n",
        "- Crop les images à la taille `(155, 192, 192)`\n",
        "- Réduire la résolution des images par interpolation d'échelle 0.5 (https://scikit-image.org/docs/dev/auto_examples/transform/plot_rescale.html) jusqu'à une taille de `(78, 96, 96)`\n",
        "- Sauvegarder les coupes de l'axe Z de façon **indépendemment** les unes des autres dans de nouveaux array de taille `(96, 96)`\n",
        "\n"
      ]
    },
    {
      "cell_type": "code",
      "execution_count": null,
      "metadata": {
        "id": "wswI0m1NVHai",
        "outputId": "67df4131-d1b3-47a4-e86b-50a9f9a2e45e"
      },
      "outputs": [
        {
          "name": "stdout",
          "output_type": "stream",
          "text": [
            "Original array shape : (155, 240, 240)\n",
            "Processed array shape : (96, 96)\n"
          ]
        },
        {
          "data": {
            "image/png": "[encoded data removed]",
            "text/plain": [
              "<Figure size 864x432 with 2 Axes>"
            ]
          },
          "metadata": {},
          "output_type": "display_data"
        }
      ],
      "source": [
        "patient = 'BraTS19_CBICA_ANP_1'\n",
        "\n",
        "# Define the image path in the original data\n",
        "z = 3\n",
        "modality = 'flair'\n",
        "patient_folder = os.path.join(original_data_path, patient)\n",
        "image_name = \"{patient}_{modality}.nii.gz\".format(patient=patient, modality=modality)\n",
        "image_path = os.path.join(patient_folder, image_name)\n",
        "\n",
        "# We use the librairy sitk to open the nifti images\n",
        "image = sitk.ReadImage(image_path)\n",
        "\n",
        "orig_array = sitk.GetArrayFromImage(image)\n",
        "\n",
        "print('Original array shape : {}'.format(orig_array.shape))\n",
        "\n",
        "# open corresponding preprocessed data slice\n",
        "patient_folder = os.path.join(data_path, patient)\n",
        "z_slice = 35\n",
        "path = os.path.join(patient_folder, \"{patient}_{modality}_z_{z_slice}.nii.gz\".format(patient=patient, modality=modality, z_slice=z_slice))\n",
        "processed_image = sitk.ReadImage(path)\n",
        "\n",
        "processed_array = sitk.GetArrayFromImage(processed_image)\n",
        "\n",
        "print('Processed array shape : {}'.format(processed_array.shape))\n",
        "\n",
        "plt.figure(figsize=(12, 6))\n",
        "plt.subplot(1, 2, 1)\n",
        "plt.imshow(orig_array[z_slice*2, :, :], cmap='gray')\n",
        "plt.title('Original array')\n",
        "plt.subplot(1, 2, 2)\n",
        "plt.imshow(processed_array, cmap='gray')\n",
        "plt.title('Processed array')\n",
        "plt.show()"
      ]
    },
    {
      "cell_type": "markdown",
      "metadata": {
        "id": "SXW-yIHeVHak"
      },
      "source": [
        "### **v. Visualiser toutes les modalités.**\n",
        "\n",
        "\n",
        "Considérons un patient dans le dossier `data`. Plot chaque modalité côte à côte en itérant sur les coupes Z disponibles."
      ]
    },
    {
      "cell_type": "code",
      "execution_count": null,
      "metadata": {
        "id": "-7OYGY8_VHal",
        "outputId": "b5b9f6e0-cd21-43ff-eebd-098afc7efca7"
      },
      "outputs": [
        {
          "data": {
            "image/png": "[encoded data removed]",
            "text/plain": [
              "<Figure size 1440x432 with 5 Axes>"
            ]
          },
          "metadata": {},
          "output_type": "display_data"
        }
      ],
      "source": [
        "# Go over each Z slice\n",
        "for z in range(len(flair_modality_files)):\n",
        "    f, axes = plt.subplots(1, 5, figsize=(20, 6))\n",
        "\n",
        "    # Plot each modality for that slice\n",
        "    for i, modality in enumerate(modalities):\n",
        "        # Fetch the modality-slice file and open using SimpleITK\n",
        "        file_path = data_path + \"{patient}/{patient}_{modality}_z_{z}.nii.gz\".format(patient=patient, modality=modality, z=z)\n",
        "        slice = sitk.GetArrayFromImage(sitk.ReadImage(file_path))\n",
        "\n",
        "        # Plot the slice\n",
        "        axes[i].set_title(modality)\n",
        "        axes[i].imshow(slice, cmap=\"gray\")\n",
        "\n",
        "    plt.suptitle(\"Slice {}/{}\".format(z+1, len(flair_modality_files)), y=0.85)\n",
        "    plt.show()\n",
        "    clear_output(wait=True)"
      ]
    },
    {
      "cell_type": "markdown",
      "metadata": {
        "id": "VfFJKex5VHan"
      },
      "source": [
        "## 2.c. Création des train, validation et test sets"
      ]
    },
    {
      "cell_type": "markdown",
      "metadata": {
        "id": "pWzV-qrfZ0nk"
      },
      "source": [
        "\n",
        "Les train, validation et test sets sont indiqués dans le dossier `/GEP1/datasets`. Pour chaque set, vous trouverez un fichier texte contenant une liste de patients à inclure dans le set.\n",
        "\n",
        "\n",
        "Exécutez le code suivant afin de:\n",
        "*   Charger les train, validation et test sets.\n",
        "*   Afficher les 5 premiers patients du train set.\n",
        "*   Afficher la longueur des train, validation et test sets."
      ]
    },
    {
      "cell_type": "code",
      "execution_count": null,
      "metadata": {
        "colab": {
          "base_uri": "https://localhost:8080/"
        },
        "id": "D1nxaDK_Z1AS",
        "outputId": "6152edf3-4f55-4bdb-9fa7-94ee9a47dd61"
      },
      "outputs": [
        {
          "name": "stdout",
          "output_type": "stream",
          "text": [
            "Train set, first 5 patients : ['BraTS19_CBICA_BHQ_1' 'BraTS19_CBICA_AQV_1' 'BraTS19_CBICA_ATN_1'\n",
            " 'BraTS19_TCIA01_335_1' 'BraTS19_CBICA_ASY_1']\n",
            "\n",
            "Train set length :\t 251\n",
            "Validation set length :\t 42\n",
            "Test set length :\t 42\n"
          ]
        }
      ],
      "source": [
        "datasets_path = './GEP1/datasets/'\n",
        "\n",
        "train_set = np.loadtxt(datasets_path + 'train.txt', dtype=str)\n",
        "validation_set = np.loadtxt(datasets_path + 'val.txt', dtype=str)\n",
        "test_set = np.loadtxt(datasets_path + 'test.txt', dtype=str)\n",
        "\n",
        "# Train_set, validation_set and test_set are list of patients\n",
        "print('Train set, first 5 patients : {}\\n'.format(train_set[:5])) # Print the first 5 patients of train_set\n",
        "print('Train set length :\\t {}'.format(len(train_set)))\n",
        "print('Validation set length :\\t {}'.format(len(validation_set)))\n",
        "print('Test set length :\\t {}'.format(len(test_set)))"
      ]
    },
    {
      "cell_type": "markdown",
      "metadata": {
        "id": "HcVUj8KuXXfN"
      },
      "source": [
        "# **3. Creation du réseau de neurones**"
      ]
    },
    {
      "cell_type": "markdown",
      "metadata": {
        "id": "xNVPBwaDZnFx"
      },
      "source": [
        "Dans cette partie, nous allons coder un [**UNet**](https://arxiv.org/pdf/1505.04597.pdf). Les UNets sont particulièrement utilisés pour des tâches de segmentation dans le domaine de l'imagerie médicale. Vous pouvez étudier son architecture dans la figure suivante.\n",
        "\n",
        "Le UNet a deux principales caractéristiques:\n",
        "\n",
        "1.   La taille de l'image d'entrée est divisée par 2 à chaque bloc par une couche appelée `MaxPooling` dans la partie **encoder** du modèle. dans la partie **decoder**, les features extraites sont progressivement suréchantillonnées par des Transpose Convolution  (`ConvTranspose2d` in PyTorch) jusqu'à retrouver la taille de l'image d'entrée.\n",
        "\n",
        "2.   Afin de conserver des informations de haute résolution, le modèle est doté de **skip-connections** qui passent de l'information entre l'encoder et le decoder.\n",
        "\n",
        "![](https://lmb.informatik.uni-freiburg.de/people/ronneber/u-net/u-net-architecture.png)\n",
        "\n"
      ]
    },
    {
      "cell_type": "markdown",
      "metadata": {
        "id": "5qDJ20x-8jPJ"
      },
      "source": [
        "## 3.a. Création du réseau\n"
      ]
    },
    {
      "cell_type": "markdown",
      "metadata": {
        "id": "wgpQMSW4W4hX"
      },
      "source": [
        "**Nota bene**: Sur la figure descriptive du UNet, le nombre de canaux évolue de 64 -> 128 -> 256 -> 512 -> 1024 ... Le modèle correspondant nécessite plus de RAM que ce qui est disponible sur colab.\n",
        "\n",
        "En conséquence, nous reproduirons le UNet en commençant par le nombre de canaux 16 puis 32 -> 64 -> 128 -> 256 ..."
      ]
    },
    {
      "cell_type": "markdown",
      "metadata": {
        "id": "yjY5Q--3VHat"
      },
      "source": [
        "### **i. Building blocks**\n",
        "\n",
        "Que fait la fonction `get_activation` ?"
      ]
    },
    {
      "cell_type": "code",
      "execution_count": null,
      "metadata": {
        "id": "rq0jSmv2VHat"
      },
      "outputs": [],
      "source": [
        "def get_activation(activation_type):\n",
        "    activation_type = activation_type.lower()\n",
        "    if hasattr(nn, activation_type):  return getattr(nn, activation_type)()\n",
        "    else:  return nn.ReLU()"
      ]
    },
    {
      "cell_type": "markdown",
      "metadata": {
        "id": "P_to-nG9VHau"
      },
      "source": [
        ">Complétez la classe `ConvBatchNorm`. Vous aurez besoin de:\n",
        ">- `get_activation`\n",
        ">- `BatchNorm2d`\n",
        ">- `Conv2d`"
      ]
    },
    {
      "cell_type": "code",
      "execution_count": null,
      "metadata": {
        "id": "rjI9ZLS1VHaw"
      },
      "outputs": [],
      "source": [
        "class ConvBatchNorm(nn.Module):\n",
        "    \"\"\"This block implements the sequence: (convolution => [BN] => ReLU)\"\"\"\n",
        "    def __init__(self, in_channels, out_channels, activation='ReLU'):\n",
        "        super(ConvBatchNorm, self).__init__()\n",
        "\n",
        "        self.conv = \n",
        "        self.norm =\n",
        "        self.activation = \n",
        "\n",
        "    def forward(self, x):\n",
        "        \n",
        "        return out_activation\n"
      ]
    },
    {
      "cell_type": "code",
      "execution_count": null,
      "metadata": {
        "id": "er0wWpbUR16Z"
      },
      "outputs": [],
      "source": [
        "test_conv = ConvBatchNorm(1, 64)\n",
        "\n",
        "x = torch.rand(4, 1, 96, 96)\n",
        "y = test_conv(x)\n",
        "x.shape, y.shape"
      ]
    },
    {
      "cell_type": "markdown",
      "metadata": {
        "id": "KjCygJq5VHay"
      },
      "source": [
        "Que fait la fonction `_make_nConv` ?"
      ]
    },
    {
      "cell_type": "code",
      "execution_count": null,
      "metadata": {
        "id": "M_lwX9LuVHaz"
      },
      "outputs": [],
      "source": [
        "def _make_nConv(in_channels, out_channels, nb_Conv, activation='ReLU'):\n",
        "    layers = []\n",
        "    layers.append(ConvBatchNorm(in_channels, out_channels, activation))\n",
        "    for _ in range(nb_Conv-1):\n",
        "        layers.append(ConvBatchNorm(out_channels, out_channels, activation))\n",
        "    return nn.Sequential(*layers)"
      ]
    },
    {
      "cell_type": "markdown",
      "metadata": {
        "id": "1t_cz-28VHa0"
      },
      "source": [
        ">Complétez les classes:\n",
        ">- `ConvBatchNorm`\n",
        ">- `DownConvBlock`: cette classe sera utilisée pour construire la partie **encoder**  du UNet.\n",
        ">- `UpConvBlock`: cette classe sera utilisée pour construire la partie **decoder** du UNet.\n",
        "\n",
        ">Vous aurez besoin des couches Pytorch suivantes:\n",
        ">- `MaxPool2d`,\n",
        ">- `ConvTransposed2d` ou `Upsample`,\n",
        ">- `ReLU`."
      ]
    },
    {
      "cell_type": "code",
      "execution_count": null,
      "metadata": {
        "id": "bQJbRxlfZmAb"
      },
      "outputs": [],
      "source": [
        "class DownBlock(nn.Module):\n",
        "    \"\"\"Downscaling with maxpooling and convolutions\"\"\"\n",
        "    def __init__(self, in_channels, out_channels, nb_Conv, activation='ReLU'):\n",
        "        super(DownBlock, self).__init__()\n",
        "\n",
        "        self.maxpool =\n",
        "        self.nConvs = _make_nConv(in_channels, out_channels, nb_Conv, activation)\n",
        "\n",
        "    def forward(self, x):\n",
        "        return out_nconvs\n",
        "\n",
        "class Bottleneck(nn.Module):\n",
        "    def __init__(self, in_channels, out_channels, nb_Conv=2, activation='ReLU'):\n",
        "        super(Bottleneck, self).__init__()\n",
        "        self.nConvs = _make_nConv(in_channels, out_channels, nb_Conv, activation)\n",
        "\n",
        "\n",
        "    def forward(self, input):\n",
        "        out = self.nConvs(input)\n",
        "        return out\n",
        "\n",
        "class UpBlock(nn.Module):\n",
        "    \"\"\"Upscaling then conv\"\"\"\n",
        "    def __init__(self, in_channels, out_channels, nb_Conv=2, activation='ReLU'):\n",
        "        super(UpBlock, self).__init__()\n",
        "\n",
        "        self.up = \n",
        "        self.nConvs = _make_nConv(in_channels, out_channels, nb_Conv, activation)\n",
        "\n",
        "    def forward(self, x, skip_x):\n",
        "\n",
        "        return self.nConvs(x)"
      ]
    },
    {
      "cell_type": "code",
      "execution_count": null,
      "metadata": {
        "id": "gi-HtoNlUlwQ"
      },
      "outputs": [],
      "source": [
        "test_down = DownBlock(64, 128, nb_Conv=2)\n",
        "x = torch.rand(4, 64, 96, 96)\n",
        "y = test_down(x)\n",
        "print(x.shape, y.shape)\n",
        "\n",
        "test_down = Bottleneck(512, 512, nb_Conv=2)\n",
        "x = torch.rand(4, 512, 96, 96)\n",
        "y = test_down(x)\n",
        "print(x.shape, y.shape)\n",
        "\n",
        "test_down = UpBlock(512, 512, nb_Conv=2)\n",
        "x_1 = torch.rand(4, 256, 96, 96)\n",
        "x_skip = torch.rand(4, 256, 192, 192)\n",
        "\n",
        "y = test_down(x_1, x_skip)\n",
        "print(x.shape, y.shape)"
      ]
    },
    {
      "cell_type": "markdown",
      "metadata": {
        "id": "RK4PhCrQVHa3"
      },
      "source": [
        "### **ii. UNet architecture**\n",
        "\n",
        "Ici vous utiliserez les building blocks codés précédemment pour construire l'architecture complète du UNet.\n",
        "\n",
        "- Soyez vigilant aux nombres de canaux d'entrée et de sortie de chaque bloc lorsque vous implémentez les skip connections.\n",
        "\n",
        "- Comparez le code suivant avec la figure du UNet. Où sont les `DownConvBlock`, les `UpConvBlock` ?"
      ]
    },
    {
      "cell_type": "code",
      "execution_count": null,
      "metadata": {
        "id": "xi_jPXtGZ1-p"
      },
      "outputs": [],
      "source": [
        "class UNet(nn.Module):\n",
        "    def __init__(self, n_channels=4, n_classes=4):\n",
        "        '''\n",
        "        n_channels : number of channels of the input.\n",
        "                        By default 4, because we have 4 modalities\n",
        "        n_labels : number of channels of the ouput.\n",
        "                      By default 4 (3 labels + 1 for the background)\n",
        "        '''\n",
        "        super(UNet, self).__init__()\n",
        "        self.n_channels = n_channels\n",
        "        self.n_classes = n_classes\n",
        "\n",
        "        # Question here\n",
        "\n",
        "        self.inc = ConvBatchNorm(n_channels, 64)\n",
        "        self.down1 = \n",
        "        self.down2 =\n",
        "        self.down3 = \n",
        "        self.down4 = \n",
        "\n",
        "        self.Encoder = [self.down1, self.down2, self.down3, self.down4]\n",
        "\n",
        "        self.bottleneck = \n",
        "\n",
        "        self.up1 =\n",
        "        self.up2 =\n",
        "        self.up3 = \n",
        "\n",
        "        self.Decoder = [self.up1, self.up2, self.up3]\n",
        "\n",
        "        self.outc = nn.Sequential(nn.ConvTranspose2d(64, 64,\n",
        "                                                     kernel_size=3, stride=2,\n",
        "                                                     padding=1, output_padding=1),\n",
        "                                  nn.Conv2d(64, self.n_classes, kernel_size=3, stride=1, padding=1)\n",
        "                                  )\n",
        "        self.last_activation = get_activation('Softmax')\n",
        "\n",
        "\n",
        "    def forward(self, x):\n",
        "        # Forward\n",
        "        skip_inputs = []\n",
        "        x = self.inc(x)\n",
        "\n",
        "        # Forward through encoder\n",
        "        for i, block in enumerate(self.Encoder):\n",
        "\n",
        "            x = block(x)\n",
        "            skip_inputs += [x]\n",
        "            print(x.shape)\n",
        "\n",
        "        # We are at the bottleneck.\n",
        "        bottleneck = self.bottleneck(x)\n",
        "\n",
        "        # Forward through decoder\n",
        "        skip_inputs.reverse()\n",
        "\n",
        "        decoded = bottleneck\n",
        "        for i, block in enumerate(self.Decoder):\n",
        "\n",
        "            # Concat with skipconnections\n",
        "            skipped = skip_inputs[i+1]\n",
        "            print(skipped.shape, decoded.shape)\n",
        "            decoded = block(decoded, skipped)\n",
        "\n",
        "        out = self.last_activation(self.outc(decoded))\n",
        "        return out"
      ]
    },
    {
      "cell_type": "code",
      "execution_count": null,
      "metadata": {
        "id": "B1w9PhDYbgFi"
      },
      "outputs": [],
      "source": [
        "test_unet = UNet()\n",
        "x = torch.rand(4, 4, 96, 96)\n",
        "y = test_unet(x)\n",
        "print(x.shape, y.shape)"
      ]
    },
    {
      "cell_type": "markdown",
      "metadata": {
        "id": "LNtCpyZv8t8L"
      },
      "source": [
        "## 3.b. Analyse du modèle.\n",
        "\n",
        "> Pour étudier et débugger le modèle, vous pouvez lui donner en entrée un tensor random de taille `(1, 4, 96, 96)` (batch size, number of modalites, image shape) avec la fonction `torch.rand`.\n",
        "\n",
        "> La taille de la sortie du réseau doit être la même que celle de l'image d'entrée.\n",
        "\n",
        "> Pour mieux débugger, il vous faudra peut être modifier votre code pour affichier les tailles des sorties de chaque couche du réseau .\n",
        "\n"
      ]
    },
    {
      "cell_type": "code",
      "execution_count": null,
      "metadata": {
        "colab": {
          "base_uri": "https://localhost:8080/"
        },
        "id": "ktk3C0AWapYk",
        "outputId": "12042b44-c149-4128-c2db-bc84ebc8ed71"
      },
      "outputs": [
        {
          "name": "stdout",
          "output_type": "stream",
          "text": [
            "UNet(\n",
            "  (inc): ConvBatchNorm(\n",
            "    (conv): Conv2d(4, 64, kernel_size=(3, 3), stride=(1, 1), padding=(1, 1))\n",
            "    (norm): BatchNorm2d(64, eps=1e-05, momentum=0.1, affine=True, track_running_stats=True)\n",
            "    (activation): ReLU()\n",
            "  )\n",
            "  (down1): DownBlock(\n",
            "    (maxpool): MaxPool2d(kernel_size=2, stride=2, padding=0, dilation=1, ceil_mode=False)\n",
            "    (nConvs): Sequential(\n",
            "      (0): ConvBatchNorm(\n",
            "        (conv): Conv2d(64, 128, kernel_size=(3, 3), stride=(1, 1), padding=(1, 1))\n",
            "        (norm): BatchNorm2d(128, eps=1e-05, momentum=0.1, affine=True, track_running_stats=True)\n",
            "        (activation): ReLU()\n",
            "      )\n",
            "      (1): ConvBatchNorm(\n",
            "        (conv): Conv2d(128, 128, kernel_size=(3, 3), stride=(1, 1), padding=(1, 1))\n",
            "        (norm): BatchNorm2d(128, eps=1e-05, momentum=0.1, affine=True, track_running_stats=True)\n",
            "        (activation): ReLU()\n",
            "      )\n",
            "    )\n",
            "  )\n",
            "  (down2): DownBlock(\n",
            "    (maxpool): MaxPool2d(kernel_size=2, stride=2, padding=0, dilation=1, ceil_mode=False)\n",
            "    (nConvs): Sequential(\n",
            "      (0): ConvBatchNorm(\n",
            "        (conv): Conv2d(128, 256, kernel_size=(3, 3), stride=(1, 1), padding=(1, 1))\n",
            "        (norm): BatchNorm2d(256, eps=1e-05, momentum=0.1, affine=True, track_running_stats=True)\n",
            "        (activation): ReLU()\n",
            "      )\n",
            "      (1): ConvBatchNorm(\n",
            "        (conv): Conv2d(256, 256, kernel_size=(3, 3), stride=(1, 1), padding=(1, 1))\n",
            "        (norm): BatchNorm2d(256, eps=1e-05, momentum=0.1, affine=True, track_running_stats=True)\n",
            "        (activation): ReLU()\n",
            "      )\n",
            "    )\n",
            "  )\n",
            "  (down3): DownBlock(\n",
            "    (maxpool): MaxPool2d(kernel_size=2, stride=2, padding=0, dilation=1, ceil_mode=False)\n",
            "    (nConvs): Sequential(\n",
            "      (0): ConvBatchNorm(\n",
            "        (conv): Conv2d(256, 512, kernel_size=(3, 3), stride=(1, 1), padding=(1, 1))\n",
            "        (norm): BatchNorm2d(512, eps=1e-05, momentum=0.1, affine=True, track_running_stats=True)\n",
            "        (activation): ReLU()\n",
            "      )\n",
            "      (1): ConvBatchNorm(\n",
            "        (conv): Conv2d(512, 512, kernel_size=(3, 3), stride=(1, 1), padding=(1, 1))\n",
            "        (norm): BatchNorm2d(512, eps=1e-05, momentum=0.1, affine=True, track_running_stats=True)\n",
            "        (activation): ReLU()\n",
            "      )\n",
            "    )\n",
            "  )\n",
            "  (down4): DownBlock(\n",
            "    (maxpool): MaxPool2d(kernel_size=2, stride=2, padding=0, dilation=1, ceil_mode=False)\n",
            "    (nConvs): Sequential(\n",
            "      (0): ConvBatchNorm(\n",
            "        (conv): Conv2d(512, 512, kernel_size=(3, 3), stride=(1, 1), padding=(1, 1))\n",
            "        (norm): BatchNorm2d(512, eps=1e-05, momentum=0.1, affine=True, track_running_stats=True)\n",
            "        (activation): ReLU()\n",
            "      )\n",
            "      (1): ConvBatchNorm(\n",
            "        (conv): Conv2d(512, 512, kernel_size=(3, 3), stride=(1, 1), padding=(1, 1))\n",
            "        (norm): BatchNorm2d(512, eps=1e-05, momentum=0.1, affine=True, track_running_stats=True)\n",
            "        (activation): ReLU()\n",
            "      )\n",
            "    )\n",
            "  )\n",
            "  (bottleneck): Bottleneck(\n",
            "    (nConvs): Sequential(\n",
            "      (0): ConvBatchNorm(\n",
            "        (conv): Conv2d(512, 512, kernel_size=(3, 3), stride=(1, 1), padding=(1, 1))\n",
            "        (norm): BatchNorm2d(512, eps=1e-05, momentum=0.1, affine=True, track_running_stats=True)\n",
            "        (activation): ReLU()\n",
            "      )\n",
            "      (1): ConvBatchNorm(\n",
            "        (conv): Conv2d(512, 512, kernel_size=(3, 3), stride=(1, 1), padding=(1, 1))\n",
            "        (norm): BatchNorm2d(512, eps=1e-05, momentum=0.1, affine=True, track_running_stats=True)\n",
            "        (activation): ReLU()\n",
            "      )\n",
            "    )\n",
            "    (last): ConvTranspose2d(512, 512, kernel_size=(3, 3), stride=(2, 2), padding=(1, 1), output_padding=(1, 1))\n",
            "  )\n",
            "  (up1): UpBlock(\n",
            "    (up): Upsample(scale_factor=2.0, mode=nearest)\n",
            "    (nConvs): Sequential(\n",
            "      (0): ConvBatchNorm(\n",
            "        (conv): Conv2d(1024, 256, kernel_size=(3, 3), stride=(1, 1), padding=(1, 1))\n",
            "        (norm): BatchNorm2d(256, eps=1e-05, momentum=0.1, affine=True, track_running_stats=True)\n",
            "        (activation): ReLU()\n",
            "      )\n",
            "      (1): ConvBatchNorm(\n",
            "        (conv): Conv2d(256, 256, kernel_size=(3, 3), stride=(1, 1), padding=(1, 1))\n",
            "        (norm): BatchNorm2d(256, eps=1e-05, momentum=0.1, affine=True, track_running_stats=True)\n",
            "        (activation): ReLU()\n",
            "      )\n",
            "    )\n",
            "  )\n",
            "  (up2): UpBlock(\n",
            "    (up): Upsample(scale_factor=2.0, mode=nearest)\n",
            "    (nConvs): Sequential(\n",
            "      (0): ConvBatchNorm(\n",
            "        (conv): Conv2d(512, 128, kernel_size=(3, 3), stride=(1, 1), padding=(1, 1))\n",
            "        (norm): BatchNorm2d(128, eps=1e-05, momentum=0.1, affine=True, track_running_stats=True)\n",
            "        (activation): ReLU()\n",
            "      )\n",
            "      (1): ConvBatchNorm(\n",
            "        (conv): Conv2d(128, 128, kernel_size=(3, 3), stride=(1, 1), padding=(1, 1))\n",
            "        (norm): BatchNorm2d(128, eps=1e-05, momentum=0.1, affine=True, track_running_stats=True)\n",
            "        (activation): ReLU()\n",
            "      )\n",
            "    )\n",
            "  )\n",
            "  (up3): UpBlock(\n",
            "    (up): Upsample(scale_factor=2.0, mode=nearest)\n",
            "    (nConvs): Sequential(\n",
            "      (0): ConvBatchNorm(\n",
            "        (conv): Conv2d(256, 64, kernel_size=(3, 3), stride=(1, 1), padding=(1, 1))\n",
            "        (norm): BatchNorm2d(64, eps=1e-05, momentum=0.1, affine=True, track_running_stats=True)\n",
            "        (activation): ReLU()\n",
            "      )\n",
            "      (1): ConvBatchNorm(\n",
            "        (conv): Conv2d(64, 64, kernel_size=(3, 3), stride=(1, 1), padding=(1, 1))\n",
            "        (norm): BatchNorm2d(64, eps=1e-05, momentum=0.1, affine=True, track_running_stats=True)\n",
            "        (activation): ReLU()\n",
            "      )\n",
            "    )\n",
            "  )\n",
            "  (outc): Sequential(\n",
            "    (0): ConvTranspose2d(64, 64, kernel_size=(3, 3), stride=(2, 2), padding=(1, 1), output_padding=(1, 1))\n",
            "    (1): Conv2d(64, 4, kernel_size=(3, 3), stride=(1, 1), padding=(1, 1))\n",
            "  )\n",
            "  (last_activation): ReLU()\n",
            ")\n",
            "torch.Size([1, 4, 96, 96])\n"
          ]
        }
      ],
      "source": [
        "model = UNet(n_channels=4, n_classes=4)\n",
        "print(model)\n",
        "\n",
        "# Image of size 96*96 with 4 modality + batch size = 1\n",
        "x = torch.rand(1, 4, 96, 96)\n",
        "y = model(x)\n",
        "print(y.shape)"
      ]
    },
    {
      "cell_type": "markdown",
      "metadata": {
        "id": "lyvYD-ZzAoll"
      },
      "source": [
        "# **4. Création du dataset**\n",
        "\n"
      ]
    },
    {
      "cell_type": "markdown",
      "metadata": {
        "id": "Y-E8AoHtV4PG"
      },
      "source": [
        "## 4.a. Fonctions utiles -  CODE A EXECUTER ET A CACHER\n",
        "\n",
        "\n",
        "Le code suivant est nécessaire pour entraîner correctement le modèle et est déjà codé.\n",
        "\n",
        "Exécutez la cellule suivante. Vous pouvez essayer de comprendre ce que chaque fonction fait."
      ]
    },
    {
      "cell_type": "code",
      "execution_count": null,
      "metadata": {
        "id": "1coYIDpScNmD"
      },
      "outputs": [],
      "source": [
        "end = '.nii.gz'\n",
        "seg_name = '_seg'\n",
        "\n",
        "def load_split(split_folder):\n",
        "    '''\n",
        "        return train, val, test split with loadtxt\n",
        "    '''\n",
        "    train_split = np.loadtxt(os.path.join(\n",
        "        split_folder, 'train.txt'), dtype=str)\n",
        "    val_split = np.loadtxt(os.path.join(split_folder, 'val.txt'), dtype=str)\n",
        "    test_split = np.loadtxt(os.path.join(split_folder, 'test.txt'), dtype=str)\n",
        "    return train_split, val_split, test_split\n",
        "\n",
        "\n",
        "def load_sitk(path):\n",
        "    return sitk.GetArrayFromImage(sitk.ReadImage(path))\n",
        "\n",
        "\n",
        "def find_z_slice(list_patient, threshold, dataframe):\n",
        "    \"\"\"\n",
        "    For each patient in list_patient, this function returns the list of slices where\n",
        "    the corresponding image is not empty\"\"\"\n",
        "\n",
        "    list_IDs = []\n",
        "    for patient in list_patient:\n",
        "        if threshold > 0:\n",
        "            condition = dataframe[patient].values >= threshold\n",
        "            z_slice = np.where(condition)[0]\n",
        "        else:\n",
        "            z_slice = range(155)\n",
        "        list_IDs += list(set([(patient, int(z//2)) for z in z_slice]))\n",
        "\n",
        "    return list_IDs\n",
        "\n",
        "\n",
        "def generate_IDs(train_split, val_split, test_split,\n",
        "                 tumor_percentage, csv_path, image_size=(240, 240)):\n",
        "\n",
        "    tumor_volume_dataframe = pd.read_csv(csv_path)\n",
        "    threshold = int(tumor_percentage * np.prod(image_size) / 100)\n",
        "\n",
        "    train_IDs, val_IDs, test_IDs = [], [], []\n",
        "    train_IDs = find_z_slice(train_split, threshold, tumor_volume_dataframe)\n",
        "    val_IDs = find_z_slice(val_split, threshold, tumor_volume_dataframe)\n",
        "    test_IDs = find_z_slice(test_split, 0, tumor_volume_dataframe)\n",
        "    return train_IDs, val_IDs, test_IDs\n",
        "\n",
        "\n",
        "def to_var(x, device):\n",
        "    if isinstance(x, np.ndarray):\n",
        "        x = torch.from_numpy(x)\n",
        "    x = x.to(device)\n",
        "    return x\n",
        "\n",
        "def to_numpy(x):\n",
        "    if not (isinstance(x, np.ndarray) or x is None):\n",
        "        if x.is_cuda:\n",
        "            x = x.data.cpu()\n",
        "        x = x.numpy()\n",
        "    return x\n",
        "\n",
        "def save_checkpoint(state, save_path):\n",
        "    '''\n",
        "        Save the current model.\n",
        "        If the model is the best model since beginning of the training\n",
        "        it will be copy\n",
        "    '''\n",
        "\n",
        "    if not os.path.isdir(save_path):\n",
        "        os.makedirs(save_path)\n",
        "\n",
        "    epoch = state['epoch']\n",
        "    val_loss = state['val_loss']\n",
        "    filename = save_path + '/' + \\\n",
        "        'model.{:02d}--{:.3f}.pth.tar'.format(epoch, val_loss)\n",
        "    torch.save(state, filename)\n",
        "\n",
        "\n",
        "def print_summary(epoch, i, nb_batch, loss, batch_time,\n",
        "                  average_loss, average_time, mode):\n",
        "    '''\n",
        "        mode = Train or Test\n",
        "    '''\n",
        "    summary = '[' + str(mode) + '] Epoch: [{0}][{1}/{2}]\\t'.format(\n",
        "        epoch, i, nb_batch)\n",
        "\n",
        "    string = ''\n",
        "    string += ('Dice Loss {:.4f} ').format(loss)\n",
        "    string += ('(Average {:.4f}) \\t').format(average_loss)\n",
        "    string += ('Batch Time {:.4f} ').format(batch_time)\n",
        "    string += ('(Average {:.4f}) \\t').format(average_time)\n",
        "\n",
        "    summary += string\n",
        "    print(summary)\n",
        "\n",
        "def plot(irms, masks=None, pred_masks=None):\n",
        "\n",
        "    kwargs = {'cmap': 'gray'}\n",
        "    fig, ax = plt.subplots(2, 3, gridspec_kw={'wspace': 0.15, 'hspace': 0.2,\n",
        "                                              'top': 0.85, 'bottom': 0.1,\n",
        "                                              'left': 0.05, 'right': 0.95},\n",
        "                           figsize=(12, 7))\n",
        "    ax[0, 0].imshow(irms[0, :, :], **kwargs)\n",
        "\n",
        "    if masks is not None:\n",
        "        masks = np.argmax(masks, axis=0)\n",
        "        ax[0, 1].imshow(masks, vmin=0, vmax=3)\n",
        "\n",
        "    if pred_masks is not None:\n",
        "        pred_masks = np.argmax(pred_masks, axis=0)\n",
        "        ax[0, 2].imshow(pred_masks, vmin=0, vmax=3)\n",
        "\n",
        "    for i in range(3):\n",
        "        ax[1, i].imshow(irms[i+1, :, :], **kwargs)\n",
        "\n",
        "    for i in range(2):\n",
        "        for j in range(3):\n",
        "            ax[i, j].grid(False)\n",
        "            ax[i, j].axis('off')\n",
        "            ax[i, j].set_xticks([])\n",
        "            ax[i, j].set_yticks([])\n",
        "\n",
        "    ax[0, 0].set_title('IRM T1')\n",
        "    ax[1, 0].set_title('IRM Gado')\n",
        "    ax[1, 1].set_title('IRM T2')\n",
        "    ax[1, 2].set_title('IRM Flair')\n",
        "    ax[0, 1].set_title('Ground Truth Seg')\n",
        "    ax[0, 2].set_title('Predicted Seg')\n",
        "    fig.canvas.draw()\n",
        "\n",
        "    return fig\n"
      ]
    },
    {
      "cell_type": "markdown",
      "metadata": {
        "id": "e4ehHeKmVHbD"
      },
      "source": [
        "## 4.b. Classe `Dataset`"
      ]
    },
    {
      "cell_type": "code",
      "execution_count": null,
      "metadata": {
        "id": "GREf0GN5VHbE"
      },
      "outputs": [],
      "source": [
        "class SegmentationDataset(torch.utils.data.Dataset):\n",
        "    'Generates data for torch'\n",
        "\n",
        "    def __init__(self, files_list, data_path, modalities=['t1', 't2', 't1ce', 'flair'], transform=None):\n",
        "        super(SegmentationDataset, self).__init__()\n",
        "        self.files_list = files_list\n",
        "        self.transform = transform\n",
        "        self.data_path = data_path\n",
        "        self.modalities = modalities\n",
        "\n",
        "    def __len__(self):\n",
        "        return len(self.files_list)\n",
        "\n",
        "    def __getitem__(self, idx):\n",
        "        'Get a patient given idx'\n",
        "        patient = self.files_list[idx]\n",
        "\n",
        "        # Load the patient's modalities and segmentation masks\n",
        "        irm, mask = self.load(patient)\n",
        "        sample = (irm, mask)\n",
        "\n",
        "        # Apply data transformation\n",
        "        if self.transform:\n",
        "            irm, mask = self.transform(sample)\n",
        "        return (irm, mask, patient)\n",
        "\n",
        "    def load(self, ID):\n",
        "\n",
        "        patient, z_slice = ID\n",
        "        patient_path = os.path.join(self.data_path, patient)\n",
        "\n",
        "        # Get all modalities for the given slice\n",
        "        irm = []\n",
        "        for modality in self.modalities:\n",
        "            file_name = \"{patient}_{modality}_z_{z_slice}.nii.gz\".format(patient=patient, modality=modality, z_slice=z_slice)\n",
        "            path = os.path.join(patient_path, file_name)\n",
        "            irm.append(load_sitk(path))\n",
        "        irm = np.stack(irm, axis=0)\n",
        "\n",
        "        # Get the segmentation mask for the given slice\n",
        "        seg_name = \"{patient}_seg_z_{z_slice}.nii.gz\".format(patient=patient, z_slice=z_slice)\n",
        "        mask_path = os.path.join(patient_path, seg_name)\n",
        "        mask = load_sitk(mask_path)\n",
        "        mask[mask == 4] = 3\n",
        "\n",
        "        # Convert segmentation mask to one-hot encoding\n",
        "        label = 4\n",
        "        mask = mask.astype(np.int16)\n",
        "        mask = np.rollaxis(np.eye(label, dtype=np.uint8)[mask], -1, 0)\n",
        "        return irm, mask"
      ]
    },
    {
      "cell_type": "markdown",
      "metadata": {
        "id": "28f8xpE8VHbG"
      },
      "source": [
        "## 4.c. Génération des différents datasets et des listes de coupes pour chaque patient.\n",
        "\n",
        "`train_IDs`, `val_IDs` et `test_IDs` sont des variables qui correspondent à la variable `files_list` nécessaire lors de la création d'instance de la classe `SegmentationDataset`."
      ]
    },
    {
      "cell_type": "code",
      "execution_count": null,
      "metadata": {
        "id": "BIlHj1mhVHbG"
      },
      "outputs": [],
      "source": [
        "# Load the split, generate the IDs list\n",
        "datasets_path ='./GEP1/datasets/'\n",
        "csv_path = './GEP1/data/tumor_count.csv'\n",
        "\n",
        "# The tumour percentage is the percentage of tumour in an image. It's a threshold\n",
        "# that is used when selecting relevant slice indexes in a patient's images.\n",
        "tumour_percentage = 0.5\n",
        "train_split, val_split, test_split = load_split(datasets_path)\n",
        "\n",
        "(train_IDs, val_IDs, test_IDs) = generate_IDs(train_split, val_split, test_split, tumour_percentage, csv_path)"
      ]
    },
    {
      "cell_type": "code",
      "execution_count": null,
      "metadata": {
        "id": "ug7XxwsMVHbH",
        "outputId": "f12fcc01-b20f-46af-c465-ad51f2f33c05"
      },
      "outputs": [
        {
          "data": {
            "text/plain": [
              "[('BraTS19_TCIA01_499_1', 23),\n",
              " ('BraTS19_TCIA01_499_1', 20),\n",
              " ('BraTS19_TCIA01_499_1', 26),\n",
              " ('BraTS19_TCIA01_499_1', 29),\n",
              " ('BraTS19_TCIA01_499_1', 35)]"
            ]
          },
          "execution_count": 25,
          "metadata": {},
          "output_type": "execute_result"
        }
      ],
      "source": [
        "val_IDs[:5]"
      ]
    },
    {
      "cell_type": "markdown",
      "metadata": {
        "id": "N3x2uH6IVHbJ"
      },
      "source": [
        "## 4.d. Creation des instances de la classe `SegmentationDataset` pour chaque dataset"
      ]
    },
    {
      "cell_type": "code",
      "execution_count": null,
      "metadata": {
        "id": "yLUqBzZ20vJH"
      },
      "outputs": [],
      "source": [
        "# No data augmentation implemented yet.\n",
        "transformation=None\n",
        "\n",
        "train_Dataset = SegmentationDataset(train_IDs, data_path=data_path, transform=transformation)\n",
        "\n",
        "val_Dataset = \"\"\"Complete here\"\"\"\n",
        "\n",
        "test_Dataset = \"\"\"Complete here\"\"\"\n"
      ]
    },
    {
      "cell_type": "markdown",
      "metadata": {
        "id": "7eXLezjAVHbK"
      },
      "source": [
        "The following cell calls for a sample of the training set. Running `train_Dataset[0]` actually calls the `__getitem__` method of the `SegmentationDataset` class."
      ]
    },
    {
      "cell_type": "code",
      "execution_count": null,
      "metadata": {
        "id": "fvXjeUK4VHbL"
      },
      "outputs": [],
      "source": [
        "input_modalities, segmentation_mask, patient = train_Dataset[0]"
      ]
    },
    {
      "cell_type": "code",
      "execution_count": null,
      "metadata": {
        "id": "GLHlL7QvVHbM",
        "outputId": "f6a4542b-bc68-4f5e-b0ac-08c59dd3948a"
      },
      "outputs": [
        {
          "name": "stdout",
          "output_type": "stream",
          "text": [
            "Shape of the input: (4, 96, 96)\n",
            "Shape of the segmentation masks: (4, 96, 96)\n",
            "Patient identification: BraTS19_CBICA_BHQ_1\n",
            "Selected slice: 41\n"
          ]
        }
      ],
      "source": [
        "print(\"Shape of the input:\", input_modalities.shape)\n",
        "print(\"Shape of the segmentation masks:\", segmentation_mask.shape)\n",
        "print(\"Patient identification:\", patient[0])\n",
        "print(\"Selected slice:\", patient[1])"
      ]
    },
    {
      "cell_type": "markdown",
      "metadata": {
        "id": "Ivb7gvj9VHbO"
      },
      "source": [
        "## 4.e. Création des `DataLoader` utilisés pour l'entraînement.\n",
        "\n",
        "Pour chaque dataset split (train, validation, test), vous devez spécifier:\n",
        "- la taille du batch avec la variable `batch_size`.\n",
        "- s'il faut mélanger le dataset pour donner des batch random de données au modèle avec la varibale `shuffle`.\n",
        "- s'il faut ignorer le dernier batch incomplet, dans le cas où la taille du dataset n'est pas divisible par la taille de batch choisie, avec la variable `drop_last`. Cette variable est particulièrement utile lorsqu'on utilise du multiprocessing (`num_workers` > 1) dans le `DataLoader`."
      ]
    },
    {
      "cell_type": "code",
      "execution_count": null,
      "metadata": {
        "id": "qdhN9-SfVHbQ"
      },
      "outputs": [],
      "source": [
        "# Define the batch size\n",
        "batch_size = 64\n",
        "\n",
        "\n",
        "train_loader = torch.utils.data.DataLoader(train_Dataset,\n",
        "                                           batch_size=batch_size, shuffle=True,\n",
        "                                           drop_last=True)\n",
        "\n",
        "val_loader = \"\"\"Complete here\"\"\"\n",
        "\n",
        "test_loader = \"\"\"Complete here\"\"\""
      ]
    },
    {
      "cell_type": "markdown",
      "metadata": {
        "id": "9y-dKzlyVHbR"
      },
      "source": [
        "# **5. Training**"
      ]
    },
    {
      "cell_type": "markdown",
      "metadata": {
        "id": "vbL3St5dVHbT"
      },
      "source": [
        "## 5.a. Loss function, optimizer et hyperparamètres\n",
        "\n",
        "Ici, il vous faudra choisir:\n",
        "- la fonction de perte utilisée pour optimiser les paramètres du modèle(voir [ici](https://pytorch.org/docs/stable/nn.html#loss-functions)),\n",
        "- l'optimizer (voir [ici](https://pytorch.org/docs/stable/optim.html))\n",
        "- tous les hyperparamètres correspondant: learning rate, weight decay ...\n",
        "\n",
        "\n",
        ">Pour commencer, vous pouvez:\n",
        ">- Choisir `Adam` comme optimizer\n",
        ">- Coder votre propre fonction de coût comme étant la Dice loss."
      ]
    },
    {
      "cell_type": "code",
      "execution_count": null,
      "metadata": {
        "id": "CXuDCj_bJuu_"
      },
      "outputs": [],
      "source": [
        "def dice_loss(input, target):\n",
        "    smooth = 1.\n",
        "    target = target.float()\n",
        "    input = input.float()\n",
        "    input_flat = input.contiguous().view(-1)\n",
        "    target_flat = target.contiguous().view(-1)\n",
        "    intersection = (input_flat * target_flat).sum()\n",
        "    return 1 - ((2. * intersection + smooth) /\n",
        "                (input_flat.pow(2).sum() + target_flat.pow(2).sum() + smooth))\n",
        "\n",
        "def mean_dice_loss(input, target):\n",
        "    channels = list(range(target.shape[1]))\n",
        "    loss = 0\n",
        "    for channel in channels:\n",
        "        dice = dice_loss(input[:, channel, ...],\n",
        "                         target[:, channel, ...])\n",
        "        loss += dice\n",
        "    return loss / len(channels)\n"
      ]
    },
    {
      "cell_type": "code",
      "execution_count": null,
      "metadata": {
        "id": "X3T1rsaWVHbW"
      },
      "outputs": [],
      "source": [
        "learning_rate = 1e-3\n",
        "\n",
        "criterion = mean_dice_loss # Choose loss function\n",
        "optimizer = torch.optim.Adam(model.parameters(), lr=learning_rate) # Choose optimizer"
      ]
    },
    {
      "cell_type": "markdown",
      "metadata": {
        "id": "ccumlRADVHbX"
      },
      "source": [
        "## 5.b. Le modèle\n",
        "\n",
        "Pour créer une instance de la classe `UNet`, vous devez spécifier:\n",
        "- le nombre de canaux d'entrée `n_channels` qui devrait être égal au nombre de modalités considérées (soit 4 modalités)\n",
        "- le nombre de classes de segmentation `n_classes` = 4"
      ]
    },
    {
      "cell_type": "code",
      "execution_count": null,
      "metadata": {
        "id": "oUoS5wUQVHbY"
      },
      "outputs": [],
      "source": [
        "n_modalities = 4\n",
        "n_classes = 4"
      ]
    },
    {
      "cell_type": "code",
      "execution_count": null,
      "metadata": {
        "collapsed": true,
        "id": "o2_ojZwTVHbY",
        "outputId": "ed81b76e-6b71-4366-c591-5944cc409f19"
      },
      "outputs": [
        {
          "data": {
            "text/plain": [
              "UNet(\n",
              "  (inc): ConvBatchNorm(\n",
              "    (conv): Conv2d(4, 64, kernel_size=(3, 3), stride=(1, 1), padding=(1, 1))\n",
              "    (norm): BatchNorm2d(64, eps=1e-05, momentum=0.1, affine=True, track_running_stats=True)\n",
              "    (activation): ReLU()\n",
              "  )\n",
              "  (down1): DownBlock(\n",
              "    (maxpool): MaxPool2d(kernel_size=2, stride=2, padding=0, dilation=1, ceil_mode=False)\n",
              "    (nConvs): Sequential(\n",
              "      (0): ConvBatchNorm(\n",
              "        (conv): Conv2d(64, 128, kernel_size=(3, 3), stride=(1, 1), padding=(1, 1))\n",
              "        (norm): BatchNorm2d(128, eps=1e-05, momentum=0.1, affine=True, track_running_stats=True)\n",
              "        (activation): ReLU()\n",
              "      )\n",
              "      (1): ConvBatchNorm(\n",
              "        (conv): Conv2d(128, 128, kernel_size=(3, 3), stride=(1, 1), padding=(1, 1))\n",
              "        (norm): BatchNorm2d(128, eps=1e-05, momentum=0.1, affine=True, track_running_stats=True)\n",
              "        (activation): ReLU()\n",
              "      )\n",
              "    )\n",
              "  )\n",
              "  (down2): DownBlock(\n",
              "    (maxpool): MaxPool2d(kernel_size=2, stride=2, padding=0, dilation=1, ceil_mode=False)\n",
              "    (nConvs): Sequential(\n",
              "      (0): ConvBatchNorm(\n",
              "        (conv): Conv2d(128, 256, kernel_size=(3, 3), stride=(1, 1), padding=(1, 1))\n",
              "        (norm): BatchNorm2d(256, eps=1e-05, momentum=0.1, affine=True, track_running_stats=True)\n",
              "        (activation): ReLU()\n",
              "      )\n",
              "      (1): ConvBatchNorm(\n",
              "        (conv): Conv2d(256, 256, kernel_size=(3, 3), stride=(1, 1), padding=(1, 1))\n",
              "        (norm): BatchNorm2d(256, eps=1e-05, momentum=0.1, affine=True, track_running_stats=True)\n",
              "        (activation): ReLU()\n",
              "      )\n",
              "    )\n",
              "  )\n",
              "  (down3): DownBlock(\n",
              "    (maxpool): MaxPool2d(kernel_size=2, stride=2, padding=0, dilation=1, ceil_mode=False)\n",
              "    (nConvs): Sequential(\n",
              "      (0): ConvBatchNorm(\n",
              "        (conv): Conv2d(256, 512, kernel_size=(3, 3), stride=(1, 1), padding=(1, 1))\n",
              "        (norm): BatchNorm2d(512, eps=1e-05, momentum=0.1, affine=True, track_running_stats=True)\n",
              "        (activation): ReLU()\n",
              "      )\n",
              "      (1): ConvBatchNorm(\n",
              "        (conv): Conv2d(512, 512, kernel_size=(3, 3), stride=(1, 1), padding=(1, 1))\n",
              "        (norm): BatchNorm2d(512, eps=1e-05, momentum=0.1, affine=True, track_running_stats=True)\n",
              "        (activation): ReLU()\n",
              "      )\n",
              "    )\n",
              "  )\n",
              "  (down4): DownBlock(\n",
              "    (maxpool): MaxPool2d(kernel_size=2, stride=2, padding=0, dilation=1, ceil_mode=False)\n",
              "    (nConvs): Sequential(\n",
              "      (0): ConvBatchNorm(\n",
              "        (conv): Conv2d(512, 512, kernel_size=(3, 3), stride=(1, 1), padding=(1, 1))\n",
              "        (norm): BatchNorm2d(512, eps=1e-05, momentum=0.1, affine=True, track_running_stats=True)\n",
              "        (activation): ReLU()\n",
              "      )\n",
              "      (1): ConvBatchNorm(\n",
              "        (conv): Conv2d(512, 512, kernel_size=(3, 3), stride=(1, 1), padding=(1, 1))\n",
              "        (norm): BatchNorm2d(512, eps=1e-05, momentum=0.1, affine=True, track_running_stats=True)\n",
              "        (activation): ReLU()\n",
              "      )\n",
              "    )\n",
              "  )\n",
              "  (bottleneck): Bottleneck(\n",
              "    (nConvs): Sequential(\n",
              "      (0): ConvBatchNorm(\n",
              "        (conv): Conv2d(512, 512, kernel_size=(3, 3), stride=(1, 1), padding=(1, 1))\n",
              "        (norm): BatchNorm2d(512, eps=1e-05, momentum=0.1, affine=True, track_running_stats=True)\n",
              "        (activation): ReLU()\n",
              "      )\n",
              "      (1): ConvBatchNorm(\n",
              "        (conv): Conv2d(512, 512, kernel_size=(3, 3), stride=(1, 1), padding=(1, 1))\n",
              "        (norm): BatchNorm2d(512, eps=1e-05, momentum=0.1, affine=True, track_running_stats=True)\n",
              "        (activation): ReLU()\n",
              "      )\n",
              "    )\n",
              "    (last): ConvTranspose2d(512, 512, kernel_size=(3, 3), stride=(2, 2), padding=(1, 1), output_padding=(1, 1))\n",
              "  )\n",
              "  (up1): UpBlock(\n",
              "    (up): Upsample(scale_factor=2.0, mode=nearest)\n",
              "    (nConvs): Sequential(\n",
              "      (0): ConvBatchNorm(\n",
              "        (conv): Conv2d(1024, 256, kernel_size=(3, 3), stride=(1, 1), padding=(1, 1))\n",
              "        (norm): BatchNorm2d(256, eps=1e-05, momentum=0.1, affine=True, track_running_stats=True)\n",
              "        (activation): ReLU()\n",
              "      )\n",
              "      (1): ConvBatchNorm(\n",
              "        (conv): Conv2d(256, 256, kernel_size=(3, 3), stride=(1, 1), padding=(1, 1))\n",
              "        (norm): BatchNorm2d(256, eps=1e-05, momentum=0.1, affine=True, track_running_stats=True)\n",
              "        (activation): ReLU()\n",
              "      )\n",
              "    )\n",
              "  )\n",
              "  (up2): UpBlock(\n",
              "    (up): Upsample(scale_factor=2.0, mode=nearest)\n",
              "    (nConvs): Sequential(\n",
              "      (0): ConvBatchNorm(\n",
              "        (conv): Conv2d(512, 128, kernel_size=(3, 3), stride=(1, 1), padding=(1, 1))\n",
              "        (norm): BatchNorm2d(128, eps=1e-05, momentum=0.1, affine=True, track_running_stats=True)\n",
              "        (activation): ReLU()\n",
              "      )\n",
              "      (1): ConvBatchNorm(\n",
              "        (conv): Conv2d(128, 128, kernel_size=(3, 3), stride=(1, 1), padding=(1, 1))\n",
              "        (norm): BatchNorm2d(128, eps=1e-05, momentum=0.1, affine=True, track_running_stats=True)\n",
              "        (activation): ReLU()\n",
              "      )\n",
              "    )\n",
              "  )\n",
              "  (up3): UpBlock(\n",
              "    (up): Upsample(scale_factor=2.0, mode=nearest)\n",
              "    (nConvs): Sequential(\n",
              "      (0): ConvBatchNorm(\n",
              "        (conv): Conv2d(256, 64, kernel_size=(3, 3), stride=(1, 1), padding=(1, 1))\n",
              "        (norm): BatchNorm2d(64, eps=1e-05, momentum=0.1, affine=True, track_running_stats=True)\n",
              "        (activation): ReLU()\n",
              "      )\n",
              "      (1): ConvBatchNorm(\n",
              "        (conv): Conv2d(64, 64, kernel_size=(3, 3), stride=(1, 1), padding=(1, 1))\n",
              "        (norm): BatchNorm2d(64, eps=1e-05, momentum=0.1, affine=True, track_running_stats=True)\n",
              "        (activation): ReLU()\n",
              "      )\n",
              "    )\n",
              "  )\n",
              "  (outc): Sequential(\n",
              "    (0): ConvTranspose2d(64, 64, kernel_size=(3, 3), stride=(2, 2), padding=(1, 1), output_padding=(1, 1))\n",
              "    (1): Conv2d(64, 4, kernel_size=(3, 3), stride=(1, 1), padding=(1, 1))\n",
              "  )\n",
              "  (last_activation): ReLU()\n",
              ")"
            ]
          },
          "execution_count": 41,
          "metadata": {},
          "output_type": "execute_result"
        }
      ],
      "source": [
        "# torch.cuda.set_device(3)\n",
        "\n",
        "model = UNet()# Create model\n",
        "model.cuda() # move model to GPU"
      ]
    },
    {
      "cell_type": "markdown",
      "metadata": {
        "id": "eOzLyZKWVHbZ"
      },
      "source": [
        "## 5.c. Training loop pour une seule époque\n",
        "\n",
        "\n",
        "Ici, vous devez compléter la fonciton `train_loop`, qui parcours tout le dataset `loader` une seule fois.\n",
        "\n",
        "Quand le modèle est en entraînement, soit `model.training == True`, il est nécessaire que cette fonction performe aussi la rétropropagation et la mise-à-jour des paramètres du modèle."
      ]
    },
    {
      "cell_type": "code",
      "execution_count": null,
      "metadata": {
        "id": "3AHqde7wdTkM"
      },
      "outputs": [],
      "source": [
        "# Train the model\n",
        "def train_loop(loader, model, criterion, optimizer, writer, epoch):\n",
        "\n",
        "    logging_mode = 'Train' if model.training else 'Val'\n",
        "\n",
        "\n",
        "    epoch_time_sum, epoch_loss_sum = [], []\n",
        "\n",
        "    for i, sample in enumerate(loader, 1):\n",
        "        start = time.time()\n",
        "        # Take variable\n",
        "        (irms, masks, patients) = sample\n",
        "        # print(irms.shape) # Batch * Number of Modalities * Width * Height\n",
        "\n",
        "        # Put variables to GPU\n",
        "        irms = irms.float().cuda()\n",
        "        masks = masks.float().cuda()\n",
        "\n",
        "        # compute model prediction\n",
        "        pred_masks = \n",
        "\n",
        "        # compute loss\n",
        "        dice_loss = \n",
        "\n",
        "        # If in training mode ...\n",
        "        if model.training:\n",
        "            # Initialize optimizer gradients to zero\n",
        "            \n",
        "            # Perform backpropagation\n",
        "\n",
        "            # Update the model's trainable parameters using the computed gradients\n",
        "\n",
        "\n",
        "        # Compute elapsed time\n",
        "        batch_time = time.time() - start\n",
        "\n",
        "        epoch_time_sum += [batch_time]\n",
        "        epoch_loss_sum += [dice_loss.item()]\n",
        "\n",
        "        average_time = np.mean(epoch_time_sum)\n",
        "        average_loss = np.mean(epoch_loss_sum)\n",
        "\n",
        "        if i % print_frequency == 0:\n",
        "            print_summary(epoch + 1, i, len(loader), dice_loss, batch_time,\n",
        "                          average_loss, average_time, logging_mode)\n",
        "        step = epoch*len(loader) + i\n",
        "        writer.add_scalar(logging_mode + '_dice', dice_loss.item(),step)\n",
        "\n",
        "\n",
        "\n",
        "    writer.add_scalar(logging_mode + '_global_loss', np.mean(epoch_loss_sum), epoch)\n",
        "\n",
        "\n",
        "    # Save some figures to monitor segmentation quality\n",
        "    n_modalities = irms.shape[0]\n",
        "    irms = to_numpy(irms)\n",
        "    masks = to_numpy(masks)\n",
        "    pred_masks = to_numpy(pred_masks)\n",
        "\n",
        "    for batch in range(n_modalities):\n",
        "        fig = plot(irms[batch, ...], masks[batch, ...], pred_masks[batch, ...])\n",
        "        writer.add_figure(logging_mode + str(batch), fig, epoch)\n",
        "    writer.flush()\n",
        "    return np.mean(epoch_loss_sum)"
      ]
    },
    {
      "cell_type": "markdown",
      "metadata": {
        "id": "dPelDIO4VHbb"
      },
      "source": [
        "## 5.d. Entraînez votre modèle\n",
        " Vous utiliserez **Tensorboard** afin de surveiller que la fonction de loss diminue."
      ]
    },
    {
      "cell_type": "code",
      "execution_count": null,
      "metadata": {
        "id": "ZiIfIBakVHbc"
      },
      "outputs": [],
      "source": [
        "save_path = \"./GEP1/save/\"\n",
        "session_name = 'Test_session' + '_' + time.strftime('%m.%d %Hh%M')\n",
        "model_path = save_path + 'models/' + session_name + '/'"
      ]
    },
    {
      "cell_type": "code",
      "execution_count": null,
      "metadata": {
        "id": "-umPqFHnVHbe"
      },
      "outputs": [],
      "source": [
        "# Start tensorboard\n",
        "session_name = 'Test_session' + '_' + time.strftime('%m.%d %Hh%M')\n",
        "tensorboard_folder = save_path + 'tensorboard_logs/'\n",
        "log_dir = tensorboard_folder + session_name + '/'\n",
        "\n",
        "if not os.path.isdir(log_dir):\n",
        "    os.makedirs(log_dir)\n",
        "writer = torch.utils.tensorboard.SummaryWriter(log_dir)"
      ]
    },
    {
      "cell_type": "code",
      "execution_count": null,
      "metadata": {
        "id": "d8q7mWgOcwnb"
      },
      "outputs": [],
      "source": [
        "epochs = 5\n",
        "print_frequency = 10\n",
        "save_frequency = 10\n",
        "save_model = True"
      ]
    },
    {
      "cell_type": "code",
      "execution_count": null,
      "metadata": {
        "colab": {
          "base_uri": "https://localhost:8080/"
        },
        "id": "SxyPwfvYw5d5",
        "outputId": "28ce2a03-3715-4f6b-fea5-c643c7541618"
      },
      "outputs": [
        {
          "name": "stdout",
          "output_type": "stream",
          "text": [
            "******** Epoch [1/6]  ********\n",
            "Test_session_10.06 18h24\n",
            "Training\n",
            "[Train] Epoch: [1][5/106]\tDice Loss 0.2488 (Average 0.2554) \tBatch Time 0.0586 (Average 0.0484) \t\n",
            "[Train] Epoch: [1][10/106]\tDice Loss 0.2303 (Average 0.2524) \tBatch Time 0.0568 (Average 0.0529) \t\n",
            "[Train] Epoch: [1][15/106]\tDice Loss 0.2391 (Average 0.2508) \tBatch Time 0.0580 (Average 0.0545) \t\n",
            "[Train] Epoch: [1][20/106]\tDice Loss 0.2609 (Average 0.2522) \tBatch Time 0.0575 (Average 0.0552) \t\n",
            "[Train] Epoch: [1][25/106]\tDice Loss 0.2221 (Average 0.2506) \tBatch Time 0.0566 (Average 0.0557) \t\n",
            "[Train] Epoch: [1][30/106]\tDice Loss 0.2215 (Average 0.2464) \tBatch Time 0.0575 (Average 0.0561) \t\n",
            "[Train] Epoch: [1][35/106]\tDice Loss 0.2058 (Average 0.2445) \tBatch Time 0.0571 (Average 0.0563) \t\n",
            "[Train] Epoch: [1][40/106]\tDice Loss 0.2444 (Average 0.2418) \tBatch Time 0.0561 (Average 0.0563) \t\n",
            "[Train] Epoch: [1][45/106]\tDice Loss 0.2157 (Average 0.2397) \tBatch Time 0.0577 (Average 0.0564) \t\n",
            "[Train] Epoch: [1][50/106]\tDice Loss 0.2647 (Average 0.2403) \tBatch Time 0.0588 (Average 0.0551) \t\n",
            "[Train] Epoch: [1][55/106]\tDice Loss 0.2195 (Average 0.2386) \tBatch Time 0.0569 (Average 0.0543) \t\n",
            "[Train] Epoch: [1][60/106]\tDice Loss 0.1929 (Average 0.2370) \tBatch Time 0.0315 (Average 0.0532) \t\n",
            "[Train] Epoch: [1][65/106]\tDice Loss 0.1975 (Average 0.2354) \tBatch Time 0.0569 (Average 0.0519) \t\n",
            "[Train] Epoch: [1][70/106]\tDice Loss 0.1898 (Average 0.2334) \tBatch Time 0.0313 (Average 0.0511) \t\n",
            "[Train] Epoch: [1][75/106]\tDice Loss 0.2373 (Average 0.2319) \tBatch Time 0.0306 (Average 0.0499) \t\n",
            "[Train] Epoch: [1][80/106]\tDice Loss 0.2009 (Average 0.2303) \tBatch Time 0.0318 (Average 0.0487) \t\n",
            "[Train] Epoch: [1][85/106]\tDice Loss 0.1886 (Average 0.2288) \tBatch Time 0.0305 (Average 0.0476) \t\n",
            "[Train] Epoch: [1][90/106]\tDice Loss 0.1901 (Average 0.2267) \tBatch Time 0.0391 (Average 0.0468) \t\n",
            "[Train] Epoch: [1][95/106]\tDice Loss 0.2231 (Average 0.2259) \tBatch Time 0.0571 (Average 0.0467) \t\n",
            "[Train] Epoch: [1][100/106]\tDice Loss 0.1938 (Average 0.2245) \tBatch Time 0.0305 (Average 0.0464) \t\n",
            "[Train] Epoch: [1][105/106]\tDice Loss 0.1916 (Average 0.2230) \tBatch Time 0.0579 (Average 0.0470) \t\n",
            "Validation\n",
            "[Val] Epoch: [1][5/19]\tDice Loss 0.3280 (Average 0.2455) \tBatch Time 0.0097 (Average 0.0165) \t\n",
            "[Val] Epoch: [1][10/19]\tDice Loss 0.3541 (Average 0.2678) \tBatch Time 0.0107 (Average 0.0133) \t\n",
            "[Val] Epoch: [1][15/19]\tDice Loss 0.2090 (Average 0.2618) \tBatch Time 0.0108 (Average 0.0123) \t\n",
            "******** Epoch [2/6]  ********\n",
            "Test_session_10.06 18h24\n",
            "Training\n",
            "[Train] Epoch: [2][5/106]\tDice Loss 0.1920 (Average 0.1902) \tBatch Time 0.0569 (Average 0.0586) \t\n",
            "[Train] Epoch: [2][10/106]\tDice Loss 0.1839 (Average 0.1932) \tBatch Time 0.0563 (Average 0.0580) \t\n",
            "[Train] Epoch: [2][15/106]\tDice Loss 0.2102 (Average 0.1945) \tBatch Time 0.0558 (Average 0.0522) \t\n",
            "[Train] Epoch: [2][20/106]\tDice Loss 0.1987 (Average 0.1924) \tBatch Time 0.0585 (Average 0.0536) \t\n",
            "[Train] Epoch: [2][25/106]\tDice Loss 0.1781 (Average 0.1931) \tBatch Time 0.0558 (Average 0.0543) \t\n",
            "[Train] Epoch: [2][30/106]\tDice Loss 0.2122 (Average 0.1940) \tBatch Time 0.0562 (Average 0.0550) \t\n",
            "[Train] Epoch: [2][35/106]\tDice Loss 0.1718 (Average 0.1942) \tBatch Time 0.0578 (Average 0.0553) \t\n",
            "[Train] Epoch: [2][40/106]\tDice Loss 0.1918 (Average 0.1938) \tBatch Time 0.0564 (Average 0.0555) \t\n",
            "[Train] Epoch: [2][45/106]\tDice Loss 0.1732 (Average 0.1933) \tBatch Time 0.0557 (Average 0.0557) \t\n",
            "[Train] Epoch: [2][50/106]\tDice Loss 0.1827 (Average 0.1917) \tBatch Time 0.0556 (Average 0.0559) \t\n",
            "[Train] Epoch: [2][55/106]\tDice Loss 0.1745 (Average 0.1909) \tBatch Time 0.0570 (Average 0.0560) \t\n",
            "[Train] Epoch: [2][60/106]\tDice Loss 0.1832 (Average 0.1898) \tBatch Time 0.0308 (Average 0.0547) \t\n",
            "[Train] Epoch: [2][65/106]\tDice Loss 0.1957 (Average 0.1897) \tBatch Time 0.0310 (Average 0.0541) \t\n",
            "[Train] Epoch: [2][70/106]\tDice Loss 0.1788 (Average 0.1894) \tBatch Time 0.0292 (Average 0.0535) \t\n",
            "[Train] Epoch: [2][75/106]\tDice Loss 0.1782 (Average 0.1887) \tBatch Time 0.0301 (Average 0.0520) \t\n",
            "[Train] Epoch: [2][80/106]\tDice Loss 0.1724 (Average 0.1880) \tBatch Time 0.0290 (Average 0.0506) \t\n",
            "[Train] Epoch: [2][85/106]\tDice Loss 0.1692 (Average 0.1868) \tBatch Time 0.0317 (Average 0.0495) \t\n",
            "[Train] Epoch: [2][90/106]\tDice Loss 0.1748 (Average 0.1856) \tBatch Time 0.0314 (Average 0.0484) \t\n",
            "[Train] Epoch: [2][95/106]\tDice Loss 0.1613 (Average 0.1844) \tBatch Time 0.0306 (Average 0.0476) \t\n",
            "[Train] Epoch: [2][100/106]\tDice Loss 0.1603 (Average 0.1835) \tBatch Time 0.0301 (Average 0.0468) \t\n",
            "[Train] Epoch: [2][105/106]\tDice Loss 0.1691 (Average 0.1823) \tBatch Time 0.0314 (Average 0.0460) \t\n",
            "Validation\n",
            "[Val] Epoch: [2][5/19]\tDice Loss 0.2680 (Average 0.2218) \tBatch Time 0.0096 (Average 0.0117) \t\n",
            "[Val] Epoch: [2][10/19]\tDice Loss 0.3225 (Average 0.2435) \tBatch Time 0.0097 (Average 0.0110) \t\n",
            "[Val] Epoch: [2][15/19]\tDice Loss 0.2247 (Average 0.2448) \tBatch Time 0.0096 (Average 0.0106) \t\n",
            "******** Epoch [3/6]  ********\n",
            "Test_session_10.06 18h24\n",
            "Training\n",
            "[Train] Epoch: [3][5/106]\tDice Loss 0.1545 (Average 0.1634) \tBatch Time 0.0301 (Average 0.0354) \t\n",
            "[Train] Epoch: [3][10/106]\tDice Loss 0.1597 (Average 0.1629) \tBatch Time 0.0316 (Average 0.0331) \t\n",
            "[Train] Epoch: [3][15/106]\tDice Loss 0.1660 (Average 0.1631) \tBatch Time 0.0300 (Average 0.0322) \t\n",
            "[Train] Epoch: [3][20/106]\tDice Loss 0.1656 (Average 0.1625) \tBatch Time 0.0313 (Average 0.0316) \t\n",
            "[Train] Epoch: [3][25/106]\tDice Loss 0.1668 (Average 0.1622) \tBatch Time 0.0303 (Average 0.0314) \t\n",
            "[Train] Epoch: [3][30/106]\tDice Loss 0.1605 (Average 0.1621) \tBatch Time 0.0300 (Average 0.0312) \t\n",
            "[Train] Epoch: [3][35/106]\tDice Loss 0.1602 (Average 0.1620) \tBatch Time 0.0300 (Average 0.0311) \t\n",
            "[Train] Epoch: [3][40/106]\tDice Loss 0.1594 (Average 0.1618) \tBatch Time 0.0299 (Average 0.0312) \t\n",
            "[Train] Epoch: [3][45/106]\tDice Loss 0.1476 (Average 0.1614) \tBatch Time 0.0305 (Average 0.0311) \t\n",
            "[Train] Epoch: [3][50/106]\tDice Loss 0.1618 (Average 0.1610) \tBatch Time 0.0308 (Average 0.0310) \t\n",
            "[Train] Epoch: [3][55/106]\tDice Loss 0.1494 (Average 0.1597) \tBatch Time 0.0325 (Average 0.0310) \t\n",
            "[Train] Epoch: [3][60/106]\tDice Loss 0.1431 (Average 0.1588) \tBatch Time 0.0297 (Average 0.0310) \t\n",
            "[Train] Epoch: [3][65/106]\tDice Loss 0.1521 (Average 0.1580) \tBatch Time 0.0299 (Average 0.0309) \t\n",
            "[Train] Epoch: [3][70/106]\tDice Loss 0.1498 (Average 0.1577) \tBatch Time 0.0294 (Average 0.0309) \t\n",
            "[Train] Epoch: [3][75/106]\tDice Loss 0.1608 (Average 0.1573) \tBatch Time 0.0316 (Average 0.0308) \t\n",
            "[Train] Epoch: [3][80/106]\tDice Loss 0.1613 (Average 0.1571) \tBatch Time 0.0317 (Average 0.0308) \t\n",
            "[Train] Epoch: [3][85/106]\tDice Loss 0.1478 (Average 0.1570) \tBatch Time 0.0419 (Average 0.0311) \t\n",
            "[Train] Epoch: [3][90/106]\tDice Loss 0.1485 (Average 0.1564) \tBatch Time 0.0366 (Average 0.0317) \t\n",
            "[Train] Epoch: [3][95/106]\tDice Loss 0.1470 (Average 0.1563) \tBatch Time 0.0304 (Average 0.0317) \t\n",
            "[Train] Epoch: [3][100/106]\tDice Loss 0.1456 (Average 0.1560) \tBatch Time 0.0329 (Average 0.0317) \t\n",
            "[Train] Epoch: [3][105/106]\tDice Loss 0.1346 (Average 0.1555) \tBatch Time 0.0303 (Average 0.0316) \t\n",
            "Validation\n",
            "[Val] Epoch: [3][5/19]\tDice Loss 0.2690 (Average 0.2150) \tBatch Time 0.0098 (Average 0.0126) \t\n",
            "[Val] Epoch: [3][10/19]\tDice Loss 0.3312 (Average 0.2434) \tBatch Time 0.0094 (Average 0.0111) \t\n",
            "[Val] Epoch: [3][15/19]\tDice Loss 0.1844 (Average 0.2467) \tBatch Time 0.0095 (Average 0.0105) \t\n",
            "******** Epoch [4/6]  ********\n",
            "Test_session_10.06 18h24\n",
            "Training\n",
            "[Train] Epoch: [4][5/106]\tDice Loss 0.1425 (Average 0.1465) \tBatch Time 0.0344 (Average 0.0376) \t\n",
            "[Train] Epoch: [4][10/106]\tDice Loss 0.1455 (Average 0.1450) \tBatch Time 0.0372 (Average 0.0374) \t\n",
            "[Train] Epoch: [4][15/106]\tDice Loss 0.1328 (Average 0.1430) \tBatch Time 0.0296 (Average 0.0352) \t\n",
            "[Train] Epoch: [4][20/106]\tDice Loss 0.1301 (Average 0.1388) \tBatch Time 0.0325 (Average 0.0341) \t\n",
            "[Train] Epoch: [4][25/106]\tDice Loss 0.1188 (Average 0.1352) \tBatch Time 0.0313 (Average 0.0333) \t\n",
            "[Train] Epoch: [4][30/106]\tDice Loss 0.1081 (Average 0.1326) \tBatch Time 0.0378 (Average 0.0331) \t\n",
            "[Train] Epoch: [4][35/106]\tDice Loss 0.1075 (Average 0.1308) \tBatch Time 0.0322 (Average 0.0328) \t\n",
            "[Train] Epoch: [4][40/106]\tDice Loss 0.1138 (Average 0.1296) \tBatch Time 0.0314 (Average 0.0326) \t\n",
            "[Train] Epoch: [4][45/106]\tDice Loss 0.1093 (Average 0.1279) \tBatch Time 0.0314 (Average 0.0324) \t\n",
            "[Train] Epoch: [4][50/106]\tDice Loss 0.1260 (Average 0.1269) \tBatch Time 0.0307 (Average 0.0321) \t\n",
            "[Train] Epoch: [4][55/106]\tDice Loss 0.1104 (Average 0.1256) \tBatch Time 0.0298 (Average 0.0318) \t\n",
            "[Train] Epoch: [4][60/106]\tDice Loss 0.1060 (Average 0.1250) \tBatch Time 0.0313 (Average 0.0317) \t\n",
            "[Train] Epoch: [4][65/106]\tDice Loss 0.1118 (Average 0.1243) \tBatch Time 0.0308 (Average 0.0316) \t\n",
            "[Train] Epoch: [4][70/106]\tDice Loss 0.1192 (Average 0.1240) \tBatch Time 0.0309 (Average 0.0317) \t\n",
            "[Train] Epoch: [4][75/106]\tDice Loss 0.1067 (Average 0.1233) \tBatch Time 0.0297 (Average 0.0315) \t\n",
            "[Train] Epoch: [4][80/106]\tDice Loss 0.1162 (Average 0.1228) \tBatch Time 0.0301 (Average 0.0315) \t\n",
            "[Train] Epoch: [4][85/106]\tDice Loss 0.1214 (Average 0.1224) \tBatch Time 0.0310 (Average 0.0314) \t\n",
            "[Train] Epoch: [4][90/106]\tDice Loss 0.0979 (Average 0.1217) \tBatch Time 0.0300 (Average 0.0314) \t\n",
            "[Train] Epoch: [4][95/106]\tDice Loss 0.1131 (Average 0.1212) \tBatch Time 0.0287 (Average 0.0313) \t\n",
            "[Train] Epoch: [4][100/106]\tDice Loss 0.1085 (Average 0.1208) \tBatch Time 0.0296 (Average 0.0312) \t\n",
            "[Train] Epoch: [4][105/106]\tDice Loss 0.1313 (Average 0.1208) \tBatch Time 0.0301 (Average 0.0312) \t\n",
            "Validation\n",
            "[Val] Epoch: [4][5/19]\tDice Loss 0.1428 (Average 0.2098) \tBatch Time 0.0096 (Average 0.0104) \t\n",
            "[Val] Epoch: [4][10/19]\tDice Loss 0.3111 (Average 0.2328) \tBatch Time 0.0097 (Average 0.0101) \t\n",
            "[Val] Epoch: [4][15/19]\tDice Loss 0.1705 (Average 0.2350) \tBatch Time 0.0097 (Average 0.0100) \t\n",
            "******** Epoch [5/6]  ********\n",
            "Test_session_10.06 18h24\n",
            "Training\n",
            "[Train] Epoch: [5][5/106]\tDice Loss 0.1066 (Average 0.1129) \tBatch Time 0.0292 (Average 0.0423) \t\n",
            "[Train] Epoch: [5][10/106]\tDice Loss 0.1104 (Average 0.1116) \tBatch Time 0.0303 (Average 0.0364) \t\n",
            "[Train] Epoch: [5][15/106]\tDice Loss 0.1094 (Average 0.1126) \tBatch Time 0.0310 (Average 0.0345) \t\n",
            "[Train] Epoch: [5][20/106]\tDice Loss 0.1126 (Average 0.1134) \tBatch Time 0.0310 (Average 0.0339) \t\n",
            "[Train] Epoch: [5][25/106]\tDice Loss 0.1130 (Average 0.1120) \tBatch Time 0.0308 (Average 0.0334) \t\n",
            "[Train] Epoch: [5][30/106]\tDice Loss 0.0990 (Average 0.1103) \tBatch Time 0.0307 (Average 0.0329) \t\n",
            "[Train] Epoch: [5][35/106]\tDice Loss 0.1278 (Average 0.1103) \tBatch Time 0.0313 (Average 0.0326) \t\n",
            "[Train] Epoch: [5][40/106]\tDice Loss 0.0982 (Average 0.1102) \tBatch Time 0.0300 (Average 0.0324) \t\n",
            "[Train] Epoch: [5][45/106]\tDice Loss 0.0974 (Average 0.1098) \tBatch Time 0.0322 (Average 0.0323) \t\n",
            "[Train] Epoch: [5][50/106]\tDice Loss 0.1119 (Average 0.1094) \tBatch Time 0.0297 (Average 0.0320) \t\n",
            "[Train] Epoch: [5][55/106]\tDice Loss 0.0970 (Average 0.1091) \tBatch Time 0.0301 (Average 0.0319) \t\n",
            "[Train] Epoch: [5][60/106]\tDice Loss 0.0876 (Average 0.1086) \tBatch Time 0.0301 (Average 0.0317) \t\n",
            "[Train] Epoch: [5][65/106]\tDice Loss 0.1080 (Average 0.1084) \tBatch Time 0.0306 (Average 0.0316) \t\n",
            "[Train] Epoch: [5][70/106]\tDice Loss 0.1076 (Average 0.1084) \tBatch Time 0.0322 (Average 0.0317) \t\n",
            "[Train] Epoch: [5][75/106]\tDice Loss 0.1064 (Average 0.1081) \tBatch Time 0.0311 (Average 0.0316) \t\n",
            "[Train] Epoch: [5][80/106]\tDice Loss 0.0930 (Average 0.1076) \tBatch Time 0.0307 (Average 0.0315) \t\n",
            "[Train] Epoch: [5][85/106]\tDice Loss 0.1048 (Average 0.1077) \tBatch Time 0.0298 (Average 0.0314) \t\n",
            "[Train] Epoch: [5][90/106]\tDice Loss 0.1159 (Average 0.1077) \tBatch Time 0.0323 (Average 0.0314) \t\n",
            "[Train] Epoch: [5][95/106]\tDice Loss 0.1058 (Average 0.1074) \tBatch Time 0.0324 (Average 0.0314) \t\n",
            "[Train] Epoch: [5][100/106]\tDice Loss 0.1007 (Average 0.1074) \tBatch Time 0.0297 (Average 0.0313) \t\n",
            "[Train] Epoch: [5][105/106]\tDice Loss 0.0988 (Average 0.1073) \tBatch Time 0.0298 (Average 0.0313) \t\n",
            "Validation\n",
            "[Val] Epoch: [5][5/19]\tDice Loss 0.2498 (Average 0.1898) \tBatch Time 0.0097 (Average 0.0178) \t\n",
            "[Val] Epoch: [5][10/19]\tDice Loss 0.2952 (Average 0.2278) \tBatch Time 0.0097 (Average 0.0139) \t\n",
            "[Val] Epoch: [5][15/19]\tDice Loss 0.1555 (Average 0.2182) \tBatch Time 0.0098 (Average 0.0125) \t\n"
          ]
        }
      ],
      "source": [
        "for epoch in range(epochs):  # loop over the dataset multiple times\n",
        "    print('******** Epoch [{}/{}]  ********'.format(epoch+1, epochs+1))\n",
        "    print(session_name)\n",
        "\n",
        "    # train for one epoch\n",
        "    model.train()\n",
        "    print('Training')\n",
        "\n",
        "    train_loss = train_loop(train_loader, model, criterion, optimizer, writer, epoch)\n",
        "\n",
        "    # evaluate on validation set\n",
        "    print('Validation')\n",
        "    with torch.no_grad():   # Disable gradient computation (faster and saves memory)\n",
        "        model.eval()        # Disable Dropout and BatchNormalization\n",
        "\n",
        "        val_loss = train_loop(val_loader, model, criterion, optimizer, writer, epoch)\n",
        "\n",
        "    if save_model and epoch % save_frequency == 0:\n",
        "        save_checkpoint({'epoch': epoch,\n",
        "                        'state_dict': model.state_dict(),\n",
        "                         'val_loss': val_loss,\n",
        "                         'optimizer': optimizer.state_dict()}, model_path)\n"
      ]
    },
    {
      "cell_type": "markdown",
      "metadata": {
        "id": "t5A4lVLHVHbg"
      },
      "source": [
        "#### Look at tensorboard to see the learning curves"
      ]
    },
    {
      "cell_type": "code",
      "execution_count": null,
      "metadata": {
        "id": "if7Rn5i9VHbh",
        "outputId": "92981067-9f11-4810-bcff-7dba1e1f5cd2"
      },
      "outputs": [
        {
          "name": "stdout",
          "output_type": "stream",
          "text": [
            "Serving TensorBoard on localhost; to expose to the network, use a proxy or pass --bind_all\n",
            "TensorBoard 2.2.2 at http://localhost:6006/ (Press CTRL+C to quit)\n",
            "^C\n"
          ]
        }
      ],
      "source": [
        "!tensorboard --logdir=./GEP1/save/tensorboard_logs/"
      ]
    },
    {
      "cell_type": "code",
      "execution_count": null,
      "metadata": {
        "id": "jqzFo-UD-gYM"
      },
      "outputs": [],
      "source": [
        "%reload_ext tensorboard\n",
        "%tensorboard --logdir './GEP1/save/tensorboard_logs/'\n",
        "\n",
        "from tensorboard import notebook\n",
        "notebook.list() # View open TensorBoard instances\n",
        "notebook.display(port=6006, height=1000)"
      ]
    },
    {
      "cell_type": "code",
      "execution_count": null,
      "metadata": {},
      "outputs": [],
      "source": [
        "# Load the saved checkpoint\n",
        "checkpoint = torch.load('model_checkpoint_0.pth')\n",
        "\n",
        "# Load the state_dict into the model\n",
        "model.load_state_dict(checkpoint['model_state_dict'])"
      ]
    },
    {
      "cell_type": "markdown",
      "metadata": {
        "id": "Q2kqcqsLqIQm"
      },
      "source": [
        "# **6. Prediction et Evaluation**\n",
        "\n",
        "\n",
        "Après avoir entraîné votre modèle, nous devons maintenant:\n",
        "\n",
        "1.  Utiliser le modèle pour prédire une segmentation.\n",
        "\n",
        "2.  Evaluer les performances du modèles sur le test set.\n",
        "\n",
        "L'évaluation du modèle doit être faite sur le test set, qui n'a pas été vu pendant le training. Le validation set n'était utile que pour contrôler les éventuels problèmes d'overfitting / underfitting.\n",
        "\n",
        "\n",
        "\n"
      ]
    },
    {
      "cell_type": "markdown",
      "metadata": {
        "id": "cnTIU3BrlhsY"
      },
      "source": [
        "## 6.a. Prediction et retour à l'espace d'origine\n",
        "\n",
        "Dans cet exercice:\n",
        ">- Nous allons charger le modèle pré-entraîné et utiliser la fonction `predict()` pour prédire une segmentation.\n",
        ">- La segmentation prédite aura pour taille `(96, 96, 4)`, pour une coupe selon l'axe Z.\n",
        ">- Afin de faire la comparaison avec les data d'origine, il est nécessaire de retransformer la prédiction en un volume de taille `(155, 240, 240)`.\n",
        "\n",
        "Afin de faire cela, il faudra:\n",
        "\n",
        "- Appliquer la fonction `predict()` à un dataloader. Dans cette étape d'évaluation, il n'y a pas besoin de faire de rétropropagation ni de mettre à jour les paramètres du modèle.\n",
        "- Appliquer la fonction `reconstruct_patient()` afin de reconstruire un volume entier pour un patient donné.\n",
        "- Appliquer la fonction  `get_mask2original_shape()` à la prédiction pour passer d'une taille `(78, 4, 96, 96)` à `(155, 240, 240)`\n",
        "\n",
        "**Questions**\n",
        "- Complétez la fonction `predict()`\n",
        "- Etudiez la fonction `get_mask2original_shape()`. Que font les différentes fonctions internes ? Essayez de deviner les tailles de chaque variable.\n"
      ]
    },
    {
      "cell_type": "code",
      "execution_count": null,
      "metadata": {
        "id": "Hhq4Eat0oJZ1"
      },
      "outputs": [],
      "source": [
        "def predict(loader, model, batch_size=1):\n",
        "    preds = {}\n",
        "    for i, sample in tqdm(enumerate(loader, 1)):\n",
        "        # Take variable and put them to GPU\n",
        "        (irms, masks, patients) = sample\n",
        "\n",
        "        irms = \"\"\"Complete here\"\"\"\n",
        "        masks = \"\"\"Complete here\"\"\"\n",
        "\n",
        "        batch_patient_names, batch_z_slices = patients[0], patients[1]\n",
        "\n",
        "        # compute output\n",
        "        pred_masks = predict(test_loader)\n",
        "\n",
        "        # Put the predictions in a dictionnary with one key being the\n",
        "        # patient and the z slice\n",
        "        n_batch = len(pred_masks)\n",
        "        for j in range(n_batch):\n",
        "            patient, z_slice = batch_patient_names[j], batch_z_slices[j]\n",
        "            name = patient + '_z_' + str(to_numpy(z_slice))\n",
        "            preds[name] = to_numpy(pred_masks[j])\n",
        "    return preds\n",
        "\n",
        "def reconstruct_patient(preds, patient, z_max = 78):\n",
        "    '''\n",
        "    From the dictionnary with prediction find the slice corresponding to\n",
        "    one patient and construct a 3D matrix of shape 77*96*96\n",
        "    '''\n",
        "    X = []\n",
        "    for i in range(z_max):\n",
        "        name = patient + '_z_' + str(i)\n",
        "        array_slice = preds[name]\n",
        "        X.append(array_slice)\n",
        "    X = np.stack(X, axis=0)\n",
        "    return X\n",
        "\n",
        "\n",
        "def get_mask2original_shape(predict_mask):\n",
        "    mask = np.zeros(shape=(155,240, 240))\n",
        "    res = skimage.transform.resize(predict_mask, (155, 4, 192, 192))\n",
        "    res = res > 0.5\n",
        "    res = np.argmax(res, axis=1)\n",
        "    mask[:, 24:-24, 24:-24] = res\n",
        "    mask[mask == 3] = 4\n",
        "    return mask.astype('int')"
      ]
    },
    {
      "cell_type": "code",
      "execution_count": null,
      "metadata": {
        "colab": {
          "base_uri": "https://localhost:8080/",
          "height": 420
        },
        "id": "R1ac8F9PsJgG",
        "outputId": "a8d44fe5-9101-4422-d93d-3277e1588db6"
      },
      "outputs": [
        {
          "name": "stdout",
          "output_type": "stream",
          "text": [
            "Mask shape: (78, 4, 96, 96)\n",
            "Resized mask shape: (155, 240, 240)\n"
          ]
        }
      ],
      "source": [
        "test_path = original_data_path\n",
        "patients = [os.path.basename(p) for p in glob(test_path + \"*\")]\n",
        "patient = patients[0]\n",
        "\n",
        "model.eval()\n",
        "# Make prediction\n",
        "with torch.no_grad():\n",
        "    preds = predict(test_loader, model)\n",
        "\n",
        "# reconstruct the patient's complete volume\n",
        "predict_mask = reconstruct_patient(preds, patient)\n",
        "\n",
        "for i in range(len(predict_mask)):\n",
        "    plt.figure()\n",
        "    plt.title(\"Model prediction - slice {}/{}\".format(i+1, len(predict_mask)+1))\n",
        "    plt.imshow(np.argmax(predict_mask[i, ...], axis=0))\n",
        "    plt.show()\n",
        "    clear_output(wait=True)\n",
        "\n",
        "print(\"Mask shape:\", predict_mask.shape)\n",
        "\n",
        "# Return to original shape\n",
        "predict_mask = get_mask2original_shape(predict_mask)\n",
        "\n",
        "\n",
        "print(\"Resized mask shape:\", predict_mask.shape)\n"
      ]
    },
    {
      "cell_type": "markdown",
      "metadata": {
        "id": "hjT3WF0el3yb"
      },
      "source": [
        "## 6.b. Comparaison visuelle\n",
        "\n",
        "\n",
        "Nous allons faire une comparaison qualitative entre la segmentation prédite par le modèle et la segmentation de référence.\n",
        "\n",
        "\n",
        "**Questions**\n",
        "- Chargez la segmentation de référence (dans le dossier `/GEP1/origin_data`) et, en utilisant les fonctions `plt.subplot`, `plt.imshow` et `plt.title`, affichez le masque de segmentation prédit par le modèle, et la segmentation de référence côte à côte.\n",
        "\n",
        "- Etudiez la fonction `numpy2nifti`. Que fait-elle ? Appliquez-là et sauvegardez les masques de segmentation prédits sous format nifti `.nii`."
      ]
    },
    {
      "cell_type": "code",
      "execution_count": null,
      "metadata": {
        "colab": {
          "base_uri": "https://localhost:8080/",
          "height": 1000
        },
        "id": "TKSDSeAkaBmC",
        "outputId": "8e13a176-1f1f-446e-e167-f3acbbf9c775"
      },
      "outputs": [
        {
          "data": {
            "image/png": "[encoded data removed]",
            "text/plain": [
              "<Figure size 936x432 with 2 Axes>"
            ]
          },
          "metadata": {},
          "output_type": "display_data"
        }
      ],
      "source": [
        "# Compare visual plot of prediction and original mask\n",
        "import matplotlib.pyplot as plt\n",
        "\n",
        "patient_folder = os.path.join(test_path, patient)\n",
        "orig_image = sitk.ReadImage(os.path.join(patient_folder, patient  + '_seg.nii.gz' ))\n",
        "orig_mask = sitk.GetArrayFromImage(orig_image)\n",
        "\n",
        "z_slice=100\n",
        "for z_slice in range(orig_mask.shape[0]):\n",
        "    plt.figure(figsize=(13, 6))\n",
        "\n",
        "    plt.subplot(1,2,1)\n",
        "    plt.imshow(orig_mask[z_slice, :,: ], vmin=0, vmax=4)\n",
        "    plt.title('Original mask (slice {})'.format(z_slice))\n",
        "\n",
        "    plt.subplot(1,2,2)\n",
        "    plt.imshow(predict_mask[z_slice, :,: ], vmin=0, vmax=4)\n",
        "    plt.title('Predicted mask (slice {})'.format(z_slice))\n",
        "\n",
        "    plt.show()\n",
        "\n",
        "    clear_output(wait=True)"
      ]
    },
    {
      "cell_type": "code",
      "execution_count": null,
      "metadata": {
        "id": "3A3-sCKcDtp0"
      },
      "outputs": [],
      "source": [
        "def numpy2sitk(predict_mask, orig_img):\n",
        "    '''\n",
        "    Input : predict_mask of type numpy array\n",
        "            orig_img of type SimpleITK image\n",
        "    Output : new_img of type SimpleITK image\n",
        "    '''\n",
        "    new_img = sitk.GetImageFromArray(predict_mask)\n",
        "    new_img.SetDirection(orig_img.GetDirection())\n",
        "    new_img.SetOrigin(orig_img.GetOrigin())\n",
        "    new_img.SetSpacing(orig_img.GetSpacing())\n",
        "    return new_img\n",
        "\n",
        "predict_img = numpy2sitk(predict_mask, orig_image)\n",
        "path = os.path.join(patient_folder, patient + '_predict_seg.nii.gz')\n",
        "sitk.WriteImage(predict_img, path)"
      ]
    },
    {
      "cell_type": "markdown",
      "metadata": {
        "id": "saALPYgDmFzt"
      },
      "source": [
        "## 6.c. Metrics\n",
        "\n",
        "\n",
        "Nous allons maintenant calculer les métriques d'évaluation pour valider la performance du modèle.\n",
        "\n",
        "Nous allons utiliser 3 métriques:\n",
        "- la sensitivité (aussi appelée le taux de vrais positifs),\n",
        "- la spécificité (aussi appelée le taux de vrais négatifs),\n",
        "- le Dice score (qui est modifier lorsqu'il s'agit de la loss pendant l'entraînement en 1 - Dice score).\n",
        "\n",
        "Nous allons évaluer le modèle selon ces métriques en considérant les 5 patients du dossier `/GEP1/origin_data`. Dans les applications réelles, nous devrions évaluer les métriques sur les patients du test set.\n",
        "\n",
        "**Questions :**\n",
        "- Complétez la fonction `metrics()` afin de calculer le Dice, la sensitivité et la spécificité.\n",
        "- En utilisant les arrays `predict_mask` and `orig_mask` précédents, calculez les métriques. Vous avez juste à appliquer la fonction `evalAllSample()`. Affichez le résultat.\n",
        "- En utilisant une boucle `for`et toutes les fonctions définies dans la partie 3 du TP, calculez les métriques pour les patients du dossier `/GEP1/origin_data`. Affichez les valeurs moyennes de Dice pour chaque catégorie (WT, ET, TC).\n",
        "\n",
        "\n"
      ]
    },
    {
      "cell_type": "code",
      "execution_count": null,
      "metadata": {
        "id": "ebE_L5HE-LXv"
      },
      "outputs": [],
      "source": [
        "import pandas as pd\n",
        "\n",
        "def metrics(mask_, gt_):\n",
        "    '''\n",
        "    Taking to binary array of same shape as input\n",
        "    This function compute the confusion matrix and use it to calculate\n",
        "    Dice metrics, Sensitivity and Specificity\n",
        "    Input : mask_, gt_ numpy array of identic shape (only 1 and 0)\n",
        "    Output : List of 3 scores\n",
        "    '''\n",
        "    lnot = np.logical_not\n",
        "    land = np.logical_and\n",
        "\n",
        "    true_positive = np.sum(land((mask_), (gt_)))\n",
        "    false_positive = np.sum(land((mask_), lnot(gt_)))\n",
        "    false_negative = np.sum(land(lnot(mask_), (gt_)))\n",
        "    true_negative = np.sum(land(lnot(mask_), lnot(gt_)))\n",
        "\n",
        "    M = np.array([[true_negative, false_negative],\n",
        "                [false_positive, true_positive]]).astype(np.float64)\n",
        "    metrics = {}\n",
        "    metrics['Sensitivity'] = \"\"\"Complete here\"\"\"\n",
        "    metrics['Specificity'] = \"\"\"Complete here\"\"\"\n",
        "    metrics['Dice'] =  \"\"\"Complete here\"\"\"\n",
        "\n",
        "\n",
        "    # metrics may be NaN if denominator is zero! use np.nanmean() while\n",
        "    # computing average to ignore NaNs.\n",
        "\n",
        "    return [metrics['Dice'], metrics['Sensitivity'], metrics['Specificity']]\n",
        "\n",
        "\n",
        "def evalAllSample(mask_, gt_):\n",
        "    '''\n",
        "    This functions takes as input two numpy arrays with labels between\n",
        "    0, 1, 2 and 4 and calculate the metrics as defined in BraTS data challenge\n",
        "    mask_ and gt_ should be array of int\n",
        "    '''\n",
        "    # whole tumor (labels 1,2,4)\n",
        "    mask_wt, gt_wt = (np.array([0, 1, 1, 0, 1])[mask_],\n",
        "                    np.array([0, 1, 1, 0, 1])[gt_])\n",
        "    wt_metrics = metrics(mask_wt, gt_wt)\n",
        "\n",
        "    # tumor core (labels 1,4)\n",
        "    mask_tc, gt_tc = (np.array([0, 1, 0, 0, 1])[mask_],\n",
        "                    np.array([0, 1, 0, 0, 1])[gt_])\n",
        "    tc_metrics = metrics(mask_tc, gt_tc)\n",
        "\n",
        "    # enhancing tumor (label 4)\n",
        "    mask_et, gt_et = (np.array([0, 0, 0, 0, 1])[mask_],\n",
        "                    np.array([0, 0, 0, 0, 1])[gt_])\n",
        "    et_metrics = metrics(mask_et, gt_et)\n",
        "\n",
        "    return pd.DataFrame({'wt': wt_metrics, 'tc': tc_metrics, 'et': et_metrics},\n",
        "                      index=['Dice', 'Sensitivity', 'Specificity'])"
      ]
    },
    {
      "cell_type": "code",
      "execution_count": null,
      "metadata": {
        "colab": {
          "base_uri": "https://localhost:8080/"
        },
        "id": "SLCmi1oC-t8u",
        "outputId": "529cc53d-2fc1-4774-915c-caa2e00f4a05"
      },
      "outputs": [
        {
          "name": "stderr",
          "output_type": "stream",
          "text": [
            "3276it [00:44, 73.61it/s]\n"
          ]
        },
        {
          "name": "stdout",
          "output_type": "stream",
          "text": [
            "*********** BraTS19_TCIA01_131_1 ***********\n",
            "                   wt        tc        et\n",
            "Dice         0.760534  0.824802  0.745901\n",
            "Sensitivity  0.697605  0.708131  0.611964\n",
            "Specificity  0.999417  0.999988  0.999971\n",
            "\n",
            "\n",
            "*********** BraTS19_TCIA10_442_1 ***********\n",
            "                   wt        tc        et\n",
            "Dice         0.627759  0.304091  0.635871\n",
            "Sensitivity  0.464006  0.179335  0.840426\n",
            "Specificity  0.999813  0.999998  0.999806\n",
            "\n",
            "\n",
            "*********** BraTS19_CBICA_ANP_1 ***********\n",
            "                   wt        tc        et\n",
            "Dice         0.625351  0.587809  0.553887\n",
            "Sensitivity  0.520103  0.637033  0.609440\n",
            "Specificity  0.999272  0.999879  0.999888\n",
            "\n",
            "\n",
            "*********** BraTS19_CBICA_AWV_1 ***********\n",
            "                   wt        tc        et\n",
            "Dice         0.546221  0.605168  0.490454\n",
            "Sensitivity  0.412998  0.437648  0.343872\n",
            "Specificity  0.999731  0.999986  0.999951\n",
            "\n",
            "\n"
          ]
        }
      ],
      "source": [
        "wt_dice_list = []\n",
        "et_dice_list = []\n",
        "tc_dice_list = []\n",
        "\n",
        "model.eval()\n",
        "with torch.no_grad():\n",
        "    preds = predict(test_loader, model, batch_size=batch_size)\n",
        "\n",
        "for patient in patients:\n",
        "    # Path to original image\n",
        "    patient_folder = os.path.join(test_path,patient)\n",
        "    # Open image\n",
        "    orig_image = sitk.ReadImage(os.path.join(patient_folder,\n",
        "                                            patient  + '_seg.nii.gz'))\n",
        "    # Convert image to numpy array\n",
        "    orig_mask = \"\"\"Complete here\"\"\"\n",
        "\n",
        "    # Reconstruct the whole patient predicted mask\n",
        "    predict_mask = \"\"\"Complete here\"\"\"\n",
        "    predict_mask = \"\"\"Complete here\"\"\"\n",
        "\n",
        "    print('*********** {} ***********'.format(patient))\n",
        "    # Use the evalAllSamples function to evaluate model\n",
        "    scores = \"\"\"Complete here\"\"\"\n",
        "    print(scores)\n",
        "    print(\"\\n\")\n",
        "\n",
        "    wt_dice_list.append(scores.loc['Dice', 'wt'])\n",
        "    et_dice_list.append(scores.loc['Dice', 'et'])\n",
        "    tc_dice_list.append(scores.loc['Dice', 'tc'])"
      ]
    },
    {
      "cell_type": "code",
      "execution_count": null,
      "metadata": {
        "colab": {
          "base_uri": "https://localhost:8080/"
        },
        "id": "BlCr9vpxO1-u",
        "outputId": "2c561c18-797f-47ea-c0ec-677a7dd16986"
      },
      "outputs": [
        {
          "name": "stdout",
          "output_type": "stream",
          "text": [
            "Whole Tumor Dice : 0.64\n",
            "Tumor Core Dice : 0.61\n",
            "Enhancing Tumor Dice : 0.58\n"
          ]
        }
      ],
      "source": [
        "print('Whole Tumor Dice : {:.2f}'.format(np.mean(wt_dice_list)))\n",
        "print('Tumor Core Dice : {:.2f}'.format(np.mean(et_dice_list)))\n",
        "print('Enhancing Tumor Dice : {:.2f}'.format(np.mean(tc_dice_list)))"
      ]
    },
    {
      "cell_type": "markdown",
      "metadata": {
        "id": "2KV5wjPZ_lo7"
      },
      "source": [
        "# **7. Data Augmentation**\n",
        " Dans cette partie, nous allons utiliser des techniques de data augmentation afin d'améliorer les performances du modèle. Parce que les réseaux de neurones convolutifs sont invariants par translation uniquement, l'idée est de créer des échantillons artificiels à partir des données du training set pour que le modèle \"voie\" plus de données et apprenne à mieux généraliser et donc à affiner ses prédictions\n",
        " .\n",
        "\n"
      ]
    },
    {
      "cell_type": "code",
      "execution_count": null,
      "metadata": {
        "id": "3opEW1YgEGOw"
      },
      "outputs": [],
      "source": [
        "import scipy\n",
        "import scipy.ndimage\n",
        "import numpy as np\n",
        "\n",
        "class AxialFlip(object):\n",
        "\n",
        "    def __call__(self, sample):\n",
        "        choice_x = np.random.randint(0, 2)\n",
        "        choice_y = np.random.randint(0, 2)\n",
        "        irm, mask = sample\n",
        "        new_sample = (self.axialflip(irm, choice_x, choice_y),\n",
        "                      self.axialflip(mask, choice_x, choice_y))\n",
        "        return new_sample\n",
        "\n",
        "    def axialflip(self, array, choice_x, choice_y):\n",
        "        if choice_x == 1:  array = array[:, ::-1, :]\n",
        "        if choice_y == 1:  array = array[:, ::-1, ::-1]\n",
        "        return np.ascontiguousarray(array)\n",
        "\n",
        "class RandomRotation90(object):\n",
        "    '''\n",
        "        Taken from augment_rot90 from MIC-DKFZ/batchgenerators\n",
        "        https://github.com/MIC-DKFZ/batchgenerators/blob/master/batchgenerators/augmentations/spatial_transformations.py\n",
        "    '''\n",
        "\n",
        "    def __init__(self, num_rot=(1, 2, 3, 4)):\n",
        "        self.num_rot = num_rot\n",
        "        self.axes = (1,2)\n",
        "\n",
        "    def __call__(self, sample):\n",
        "        '''\n",
        "          irm and mask have shape (Modality*Width*Height) and (Label*Width*Height)\n",
        "        '''\n",
        "        num_rot = np.random.choice(self.num_rot)\n",
        "        def f(img):\n",
        "            return np.ascontiguousarray(np.rot90(img, num_rot, self.axes))\n",
        "\n",
        "        irm, mask = sample\n",
        "        new_sample = (f(irm), f(mask))\n",
        "        return new_sample\n",
        "\n",
        "class RandomCrop(object):\n",
        "    \"\"\"Crop randomly the image in a sample.\n",
        "\n",
        "    Args:\n",
        "        output_size (tuple or int): Desired output size. If int, cubic crop\n",
        "            is made.\n",
        "    \"\"\"\n",
        "    def __init__(self, output_size, dim=2):\n",
        "        assert isinstance(output_size, (int, tuple, list))\n",
        "        if isinstance(output_size, int):\n",
        "            self.output_size = dim * (output_size,)\n",
        "        else:\n",
        "            assert len(output_size) == dim\n",
        "            self.output_size = output_size\n",
        "\n",
        "    def __call__(self, sample):\n",
        "        irm, mask = sample\n",
        "        _, height, width = irm.shape\n",
        "        i = np.random.randint(0, height - self.output_size[0])\n",
        "        j = np.random.randint(0, width - self.output_size[1])\n",
        "\n",
        "        def f(img):\n",
        "            return img[:, i: i + self.output_size[0], j : j + self.output_size[1]]\n",
        "\n",
        "        new_sample = ( f(irm), f(mask))\n",
        "        return new_sample\n",
        "\n",
        "def RandomTranslation(max_translation=30, transform_matrix=None, debug=False):\n",
        "    translation = np.random.randint(-max_translation, max_translation, 2)\n",
        "    if debug:\n",
        "        return getTranslationMatrix(translation, transform_matrix), (translation)\n",
        "    else:\n",
        "        return getTranslationMatrix(translation, transform_matrix)\n",
        "\n",
        "def RandomRotation(theta_max=20, transform_matrix=None, debug=False):\n",
        "    theta = np.random.uniform(-theta_max, theta_max)\n",
        "    if debug:\n",
        "        return getRotationMatrix(theta, transform_matrix), theta\n",
        "    else:\n",
        "        return getRotationMatrix(theta, transform_matrix)\n",
        "\n",
        "def RandomZoom(zoom_max=0.2, transform_matrix=None, debug=False):\n",
        "    zoom = np.random.uniform(1 - zoom_max, 1 + zoom_max)\n",
        "    if debug:\n",
        "          return getZoomMatrix(zoom, transform_matrix), zoom\n",
        "    else:\n",
        "        return getZoomMatrix(zoom, transform_matrix)\n",
        "\n",
        "def getTranslationMatrix(translation, transform_matrix=None):\n",
        "    '''\n",
        "        2D translation on the axis (0, 1).\n",
        "        Axis 3 is the modality axis\n",
        "        tx: Width shift.\n",
        "        ty: Heigh shift.\n",
        "\n",
        "    '''\n",
        "    shift_matrix = np.array([[1, 0, translation[0]],\n",
        "                            [0, 1, translation[1]],\n",
        "                            [0, 0, 1]])\n",
        "\n",
        "    if transform_matrix is None:\n",
        "        transform_matrix = shift_matrix\n",
        "    else:\n",
        "        transform_matrix = np.dot(transform_matrix, shift_matrix)\n",
        "    return transform_matrix\n",
        "\n",
        "def getZoomMatrix(zoom, transform_matrix=None):\n",
        "    '''\n",
        "        Affine Zoom in 2D\n",
        "        zx: Zoom in x direction.\n",
        "        zy: Zoom in y direction\n",
        "    '''\n",
        "    zoom_matrix = np.array([[zoom, 0, 0],\n",
        "                            [0, zoom, 0],\n",
        "                            [0, 0, 1]])\n",
        "    if transform_matrix is None:\n",
        "        transform_matrix = zoom_matrix\n",
        "    else:\n",
        "        transform_matrix = np.dot(transform_matrix, zoom_matrix)\n",
        "    return transform_matrix\n",
        "\n",
        "def getRotationMatrix(theta, transform_matrix=None):\n",
        "    '''\n",
        "        2D rotation on the axis (0, 1).\n",
        "        Axis 3 is the modality axis\n",
        "        theta: Rotation angle in degrees.\n",
        "    '''\n",
        "    theta = np.deg2rad(theta)\n",
        "    rotation_matrix = np.array([[np.cos(theta), -np.sin(theta), 0],\n",
        "                                [np.sin(theta), np.cos(theta), 0],\n",
        "                                [0, 0, 1]])\n",
        "    if transform_matrix is None:\n",
        "        transform_matrix = rotation_matrix\n",
        "    else:\n",
        "        transform_matrix = np.dot(transform_matrix, rotation_matrix)\n",
        "    return transform_matrix\n",
        "\n",
        "\n",
        "def apply_affine_transform(x, seg=None, transform_matrix=None, crop_shape=None,\n",
        "                           fill_mode='nearest', cval=0., order=3):\n",
        "    \"\"\"Applies an affine transformation specified by the parameters given.\n",
        "    # Arguments\n",
        "        x: 4D numpy array, single image, multimodalities (Modality*H*W)\n",
        "        fill_mode: Points outside the boundaries of the input\n",
        "            are filled according to the given mode\n",
        "            (one of `{'constant', 'nearest', 'reflect', 'wrap'}`).\n",
        "        cval: Value used for points outside the boundaries\n",
        "            of the input if `mode='constant'`.\n",
        "        order: int, order of interpolation\n",
        "    # Returns\n",
        "        The transformed version of the input.\n",
        "    \"\"\"\n",
        "    if scipy is None:\n",
        "        raise ImportError('Image transformations require SciPy. '\n",
        "                          'Install SciPy.')\n",
        "    if transform_matrix is not None:\n",
        "        channels, h, w = x.shape\n",
        "        transform_matrix = transform_matrix_offset_center(transform_matrix,\n",
        "                                                          h, w)\n",
        "        res = [ scipy.ndimage.affine_transform(x[channel, ...], transform_matrix,\n",
        "                                              order=order, mode=fill_mode, cval=cval)  for channel in range(channels)]\n",
        "        x = np.stack(res, axis=0)\n",
        "\n",
        "        if seg is not None:\n",
        "            labels = seg.shape[0]\n",
        "            res = [scipy.ndimage.affine_transform(seg[label, ...], transform_matrix,\n",
        "                                                                order=order, mode=fill_mode, cval=cval) for label in range(labels)]\n",
        "            seg = np.stack(res, axis=0)\n",
        "            seg[seg > 0.5] = 1\n",
        "            seg[seg < 0.5] = 0\n",
        "            return x, seg\n",
        "    return x\n",
        "\n",
        "def transform_matrix_offset_center(matrix, x, y):\n",
        "    o_x = float(x) / 2 + 0.5\n",
        "    o_y = float(y) / 2 + 0.5\n",
        "    offset_matrix = np.array([[1, 0, o_x],\n",
        "                              [0, 1, o_y],\n",
        "                              [0, 0, 1]])\n",
        "    reset_matrix = np.array([[1, 0, -o_x],\n",
        "                             [0, 1, -o_y],\n",
        "                             [0, 0, 1]])\n",
        "    transform_matrix = np.dot(np.dot(offset_matrix, matrix), reset_matrix)\n",
        "    return transform_matrix\n",
        "\n",
        "class AffineTransform(object):\n",
        "\n",
        "    def __init__(self, theta=0, max_translation=0, max_zoom=0):\n",
        "        self.theta = theta\n",
        "        self.max_translation = max_translation\n",
        "        self.max_zoom = max_zoom\n",
        "\n",
        "    def __call__(self, sample):\n",
        "        transform_matrix = np.eye(3)\n",
        "        if self.theta > 0:\n",
        "            transform_matrix = RandomRotation(self.theta)\n",
        "        if self.max_translation > 0:\n",
        "            transform_matrix = RandomTranslation(self.max_translation,\n",
        "                                                 transform_matrix)\n",
        "        if self.max_zoom > 0:\n",
        "            transform_matrix = RandomZoom(self.max_zoom,\n",
        "                                          transform_matrix)\n",
        "        new_irm, new_mask = apply_affine_transform(irm, mask, transform_matrix)\n",
        "        return (new_irm, new_mask)\n"
      ]
    },
    {
      "cell_type": "markdown",
      "metadata": {
        "id": "U5zrwq0EFT-S"
      },
      "source": [
        "## 7.a. Etude de l'augmentation de données.\n",
        "\n",
        "Complétez le code suivant afin de visualiser les effets de différentes techniques d'augmentation de données implémentées."
      ]
    },
    {
      "cell_type": "code",
      "execution_count": null,
      "metadata": {
        "colab": {
          "base_uri": "https://localhost:8080/",
          "height": 234
        },
        "id": "i4S28vKJ_hXL",
        "outputId": "23aa86ef-c64e-4c1f-9a87-616216a9e066"
      },
      "outputs": [
        {
          "ename": "NameError",
          "evalue": "ignored",
          "output_type": "error",
          "traceback": [
            "\u001b[0;31m---------------------------------------------------------------------------\u001b[0m",
            "\u001b[0;31mNameError\u001b[0m                                 Traceback (most recent call last)",
            "\u001b[0;32m<ipython-input-1-3838d0817ae3>\u001b[0m in \u001b[0;36m<module>\u001b[0;34m()\u001b[0m\n\u001b[1;32m      1\u001b[0m \u001b[0mk\u001b[0m \u001b[0;34m=\u001b[0m \u001b[0;36m3\u001b[0m\u001b[0;34m\u001b[0m\u001b[0;34m\u001b[0m\u001b[0m\n\u001b[1;32m      2\u001b[0m \u001b[0;34m\u001b[0m\u001b[0m\n\u001b[0;32m----> 3\u001b[0;31m \u001b[0mirms\u001b[0m\u001b[0;34m,\u001b[0m \u001b[0mmasks\u001b[0m\u001b[0;34m,\u001b[0m \u001b[0mpatient\u001b[0m \u001b[0;34m=\u001b[0m \u001b[0mval_loader\u001b[0m\u001b[0;34m.\u001b[0m\u001b[0m__iter__\u001b[0m\u001b[0;34m(\u001b[0m\u001b[0;34m)\u001b[0m\u001b[0;34m.\u001b[0m\u001b[0mnext\u001b[0m\u001b[0;34m(\u001b[0m\u001b[0;34m)\u001b[0m\u001b[0;34m\u001b[0m\u001b[0;34m\u001b[0m\u001b[0m\n\u001b[0m\u001b[1;32m      4\u001b[0m \u001b[0;34m\u001b[0m\u001b[0m\n\u001b[1;32m      5\u001b[0m \u001b[0;31m# irms is a list of a numpy array of shape [Batch * W*H*Modality]\u001b[0m\u001b[0;34m\u001b[0m\u001b[0;34m\u001b[0m\u001b[0;34m\u001b[0m\u001b[0m\n",
            "\u001b[0;31mNameError\u001b[0m: name 'val_loader' is not defined"
          ]
        }
      ],
      "source": [
        "k = 3\n",
        "\n",
        "# Create an iterator from the DataLoader\n",
        "val_iter = iter(val_loader)\n",
        "\n",
        "# Get the next batch from the iterator\n",
        "irms, masks, patient = next(val_iter)\n",
        "\n",
        "# irms is a list of a numpy array of shape [Batch * W*H*Modality]\n",
        "irm = irms[0,:].numpy()\n",
        "mask = masks[0,:].numpy()\n",
        "\n",
        "fig = plot(irm, mask)\n",
        "fig.suptitle('Original image')\n",
        "fig.savefig(save_path + 'orig.png')"
      ]
    },
    {
      "cell_type": "markdown",
      "metadata": {
        "id": "oDNKhDssJoJE"
      },
      "source": [
        "Axial Flip"
      ]
    },
    {
      "cell_type": "code",
      "execution_count": null,
      "metadata": {
        "id": "AJIcnxHDJnWQ"
      },
      "outputs": [],
      "source": [
        "flip = \"\"\"Complete here\"\"\"\n",
        "for i in range(k):\n",
        "\n",
        "    (new_irm, new_mask) = flip((irm, mask))\n",
        "\n",
        "    fig = plot(new_irm, new_mask)\n",
        "    fig.suptitle('Random Axial Flip')\n",
        "    fig.savefig(save_path + 'Axial_Flip{}.png'.format(k))"
      ]
    },
    {
      "cell_type": "markdown",
      "metadata": {
        "id": "j_pb5eNdJ-sh"
      },
      "source": [
        "90° Rotation"
      ]
    },
    {
      "cell_type": "code",
      "execution_count": null,
      "metadata": {
        "id": "fZV_gkMPKBoi"
      },
      "outputs": [],
      "source": [
        "random90rotation = \"\"\"Complete here\"\"\"\n",
        "for i in range(k):\n",
        "\n",
        "    (new_irm, new_mask) = random90rotation((irm, mask))\n",
        "\n",
        "    fig = plot(new_irm, new_mask)\n",
        "    fig.suptitle('Random 90 degrees Rotation')\n",
        "    fig.savefig(save_path + 'Random90Rotation{}.png'.format(k))"
      ]
    },
    {
      "cell_type": "code",
      "execution_count": null,
      "metadata": {
        "id": "72QMAGP7JTcw"
      },
      "outputs": [],
      "source": [
        "randomcrop = RandomCrop((64, 64))\n",
        "for i in range(k):\n",
        "\n",
        "    (new_irm, new_mask) = randomcrop((irm, mask))\n",
        "\n",
        "    fig = plot(new_irm, new_mask)\n",
        "    fig.suptitle('Random crop')\n",
        "    fig.savefig(save_path + 'Random90Rotation{}.png'.format(k))"
      ]
    },
    {
      "cell_type": "markdown",
      "metadata": {
        "id": "OJsXnMv-Fgsh"
      },
      "source": [
        "Random Rotation with +/- 30°"
      ]
    },
    {
      "cell_type": "code",
      "execution_count": null,
      "metadata": {
        "id": "WSjJsOzdFaqc"
      },
      "outputs": [],
      "source": [
        "rotate = \"\"\"Complete here\"\"\"\n",
        "\n",
        "for i in range(k):\n",
        "\n",
        "\n",
        "    (new_irm, new_mask) = rotate((irm, mask))\n",
        "\n",
        "    fig = plot(new_irm, new_mask)\n",
        "    fig.suptitle('Random rotation')\n",
        "    fig.savefig(save_path + 'Rotation{:.1f}.png'.format(i))\n"
      ]
    },
    {
      "cell_type": "markdown",
      "metadata": {
        "id": "tGSiqebIFm0d"
      },
      "source": [
        "Random Translation"
      ]
    },
    {
      "cell_type": "code",
      "execution_count": null,
      "metadata": {
        "id": "JZnTTCMUF-TO"
      },
      "outputs": [],
      "source": [
        "translate = \"\"\"Complete here\"\"\"\n",
        "\n",
        "for i in range(k):\n",
        "    new_irm, new_mask  = translate((irm, mask))\n",
        "\n",
        "    fig = plot(new_irm, new_mask)\n",
        "    fig.suptitle('Random translation')\n",
        "    fig.savefig(save_path + 'Translation_{}.png'.format(i))"
      ]
    },
    {
      "cell_type": "markdown",
      "metadata": {
        "id": "nWO-77u0F-1j"
      },
      "source": [
        "Random Zoom"
      ]
    },
    {
      "cell_type": "code",
      "execution_count": null,
      "metadata": {
        "id": "0Q4YHSk8GJcF"
      },
      "outputs": [],
      "source": [
        "zoom = \"\"\"Complete here\"\"\"\n",
        "\n",
        "for i in range(k):\n",
        "    (new_irm, new_mask)  = zoom((irm, mask))\n",
        "\n",
        "    fig = plot(new_irm, new_mask)\n",
        "    fig.suptitle('Random zoom ')\n",
        "    fig.savefig(save_path + 'Zoom_{}.png'.format(k))"
      ]
    },
    {
      "cell_type": "markdown",
      "metadata": {
        "id": "6fytm3C4GbZU"
      },
      "source": [
        "All transformations"
      ]
    },
    {
      "cell_type": "code",
      "execution_count": null,
      "metadata": {
        "id": "PNzPoFz5GbLP"
      },
      "outputs": [],
      "source": [
        "affine_transform = \"\"\"Complete here\"\"\"\n",
        "\n",
        "for i in range(k):\n",
        "    (new_irm, new_mask)  = affine_transform((irm, mask))\n",
        "\n",
        "    fig = plot(new_irm, new_mask)\n",
        "    fig.suptitle('Rotation Translation Zoom')\n",
        "    fig.savefig(save_path + 'All_transforms{}.png'.format(i))"
      ]
    },
    {
      "cell_type": "markdown",
      "metadata": {
        "id": "zaqqV3VeGngd"
      },
      "source": [
        "## 7.b. Entraînement avec data augmentation\n",
        "\n",
        "Relancer un nouvel entraînement avec les techniques d'augmentation de données dans `transformation`."
      ]
    },
    {
      "cell_type": "code",
      "execution_count": null,
      "metadata": {
        "id": "HqiwTM46GnQm"
      },
      "outputs": [],
      "source": [
        "transforms_list = [AffineTransform(theta=15, max_translation=15, max_zoom=0.3),\n",
        "                   AxialFlip(), RandomRotation90(), RandomCrop((64, 64))\n",
        "                   ]\n",
        "\n",
        "transformation = torchvision.transforms.Compose(transforms_list)\n",
        "\n",
        "\n",
        "train_Dataset = SegmentationDataset(train_IDs, data_path=data_path,\n",
        "                                    transform=transformation\n",
        "                                    )\n",
        "\n",
        "val_Dataset = SegmentationDataset(val_IDs, data_path=data_path,\n",
        "                                  transform=transformation\n",
        "                                  )\n",
        "\n",
        "test_Dataset = SegmentationDataset(test_IDs, data_path=data_path,\n",
        "                                  transform=None\n",
        "                                  )\n",
        "\n",
        "train_loader_data_augment = torch.utils.data.DataLoader(train_Dataset,\n",
        "                                           batch_size=batch_size, shuffle=True,\n",
        "                                           drop_last=True)\n",
        "\n",
        "val_loader_data_augment = torch.utils.data.DataLoader(val_Dataset,\n",
        "                                         batch_size=batch_size, drop_last=True)\n",
        "\n",
        "test_loader_data_augment = torch.utils.data.DataLoader(test_Dataset,\n",
        "                                         batch_size=1, drop_last=False)"
      ]
    },
    {
      "cell_type": "code",
      "execution_count": null,
      "metadata": {
        "id": "4zsSXipSP3R8"
      },
      "outputs": [],
      "source": [
        "learning_rate = 1e-4\n",
        "image_size = (96, 96)\n",
        "n_modalities = 4\n",
        "n_labels = 4\n",
        "epochs = 10\n",
        "batch_size = 64\n",
        "print_frequency = 5\n",
        "save_frequency = 10\n",
        "save_model = True\n",
        "tumor_percentage = 0.5\n",
        "tensorboard = True"
      ]
    },
    {
      "cell_type": "code",
      "execution_count": null,
      "metadata": {
        "colab": {
          "background_save": true,
          "base_uri": "https://localhost:8080/"
        },
        "id": "PjSlaLVgQnVL",
        "outputId": "23f5d54b-b456-41de-9905-704f4c14fc67"
      },
      "outputs": [
        {
          "name": "stdout",
          "output_type": "stream",
          "text": [
            "******** Epoch [1/11]  ********\n",
            "Test_session_10.11 13h12\n",
            "Training\n",
            "[Train] Epoch: [1][5/106]\tDice Loss 0.7400 (Average 0.8418) \tBatch Time 0.1115 (Average 0.1227) \t\n",
            "[Train] Epoch: [1][10/106]\tDice Loss 0.5275 (Average 0.7245) \tBatch Time 0.1099 (Average 0.1162) \t\n",
            "[Train] Epoch: [1][15/106]\tDice Loss 0.3481 (Average 0.6220) \tBatch Time 0.1110 (Average 0.1139) \t\n",
            "[Train] Epoch: [1][20/106]\tDice Loss 0.2147 (Average 0.5325) \tBatch Time 0.1117 (Average 0.1127) \t\n",
            "[Train] Epoch: [1][25/106]\tDice Loss 0.1249 (Average 0.4572) \tBatch Time 0.1100 (Average 0.1122) \t\n",
            "[Train] Epoch: [1][30/106]\tDice Loss 0.0761 (Average 0.3961) \tBatch Time 0.1086 (Average 0.1117) \t\n",
            "[Train] Epoch: [1][35/106]\tDice Loss 0.0503 (Average 0.3480) \tBatch Time 0.1113 (Average 0.1115) \t\n",
            "[Train] Epoch: [1][40/106]\tDice Loss 0.0413 (Average 0.3101) \tBatch Time 0.1108 (Average 0.1112) \t\n",
            "[Train] Epoch: [1][45/106]\tDice Loss 0.0309 (Average 0.2795) \tBatch Time 0.1109 (Average 0.1111) \t\n",
            "[Train] Epoch: [1][50/106]\tDice Loss 0.0265 (Average 0.2546) \tBatch Time 0.1097 (Average 0.1110) \t\n",
            "[Train] Epoch: [1][55/106]\tDice Loss 0.0229 (Average 0.2337) \tBatch Time 0.1112 (Average 0.1110) \t\n",
            "[Train] Epoch: [1][60/106]\tDice Loss 0.0212 (Average 0.2162) \tBatch Time 0.1099 (Average 0.1110) \t\n",
            "[Train] Epoch: [1][65/106]\tDice Loss 0.0206 (Average 0.2011) \tBatch Time 0.1101 (Average 0.1109) \t\n",
            "[Train] Epoch: [1][70/106]\tDice Loss 0.0196 (Average 0.1881) \tBatch Time 0.1115 (Average 0.1109) \t\n",
            "[Train] Epoch: [1][75/106]\tDice Loss 0.0167 (Average 0.1767) \tBatch Time 0.1099 (Average 0.1109) \t\n",
            "[Train] Epoch: [1][80/106]\tDice Loss 0.0172 (Average 0.1667) \tBatch Time 0.1113 (Average 0.1109) \t\n",
            "[Train] Epoch: [1][85/106]\tDice Loss 0.0137 (Average 0.1577) \tBatch Time 0.1115 (Average 0.1109) \t\n",
            "[Train] Epoch: [1][90/106]\tDice Loss 0.0134 (Average 0.1498) \tBatch Time 0.1099 (Average 0.1109) \t\n",
            "[Train] Epoch: [1][95/106]\tDice Loss 0.0135 (Average 0.1426) \tBatch Time 0.1113 (Average 0.1109) \t\n",
            "[Train] Epoch: [1][100/106]\tDice Loss 0.0113 (Average 0.1361) \tBatch Time 0.1116 (Average 0.1109) \t\n",
            "[Train] Epoch: [1][105/106]\tDice Loss 0.0112 (Average 0.1301) \tBatch Time 0.1100 (Average 0.1109) \t\n",
            "Validation\n",
            "[Val] Epoch: [1][5/19]\tDice Loss 0.0133 (Average 0.0127) \tBatch Time 0.0121 (Average 0.0127) \t\n",
            "[Val] Epoch: [1][10/19]\tDice Loss 0.0118 (Average 0.0125) \tBatch Time 0.0118 (Average 0.0125) \t\n",
            "[Val] Epoch: [1][15/19]\tDice Loss 0.0119 (Average 0.0125) \tBatch Time 0.0117 (Average 0.0125) \t\n",
            "******** Epoch [2/11]  ********\n",
            "Test_session_10.11 13h12\n",
            "Training\n",
            "[Train] Epoch: [2][5/106]\tDice Loss 0.0104 (Average 0.0107) \tBatch Time 0.1100 (Average 0.1126) \t\n",
            "[Train] Epoch: [2][10/106]\tDice Loss 0.0113 (Average 0.0110) \tBatch Time 0.1100 (Average 0.1111) \t\n",
            "[Train] Epoch: [2][15/106]\tDice Loss 0.0109 (Average 0.0108) \tBatch Time 0.1095 (Average 0.1105) \t\n",
            "[Train] Epoch: [2][20/106]\tDice Loss 0.0109 (Average 0.0108) \tBatch Time 0.1113 (Average 0.1106) \t\n",
            "[Train] Epoch: [2][25/106]\tDice Loss 0.0106 (Average 0.0105) \tBatch Time 0.1117 (Average 0.1105) \t\n",
            "[Train] Epoch: [2][30/106]\tDice Loss 0.0102 (Average 0.0104) \tBatch Time 0.1111 (Average 0.1106) \t\n",
            "[Train] Epoch: [2][35/106]\tDice Loss 0.0093 (Average 0.0103) \tBatch Time 0.1102 (Average 0.1105) \t\n",
            "[Train] Epoch: [2][40/106]\tDice Loss 0.0098 (Average 0.0101) \tBatch Time 0.1103 (Average 0.1106) \t\n",
            "[Train] Epoch: [2][45/106]\tDice Loss 0.0085 (Average 0.0100) \tBatch Time 0.1114 (Average 0.1105) \t\n",
            "[Train] Epoch: [2][50/106]\tDice Loss 0.0084 (Average 0.0099) \tBatch Time 0.1113 (Average 0.1106) \t\n",
            "[Train] Epoch: [2][55/106]\tDice Loss 0.0084 (Average 0.0098) \tBatch Time 0.1124 (Average 0.1106) \t\n",
            "[Train] Epoch: [2][60/106]\tDice Loss 0.0092 (Average 0.0097) \tBatch Time 0.1105 (Average 0.1106) \t\n",
            "[Train] Epoch: [2][65/106]\tDice Loss 0.0084 (Average 0.0096) \tBatch Time 0.1087 (Average 0.1105) \t\n",
            "[Train] Epoch: [2][70/106]\tDice Loss 0.0093 (Average 0.0095) \tBatch Time 0.1100 (Average 0.1105) \t\n",
            "[Train] Epoch: [2][75/106]\tDice Loss 0.0080 (Average 0.0094) \tBatch Time 0.1112 (Average 0.1106) \t\n",
            "[Train] Epoch: [2][80/106]\tDice Loss 0.0088 (Average 0.0094) \tBatch Time 0.1122 (Average 0.1106) \t\n",
            "[Train] Epoch: [2][85/106]\tDice Loss 0.0083 (Average 0.0093) \tBatch Time 0.1101 (Average 0.1105) \t\n",
            "[Train] Epoch: [2][90/106]\tDice Loss 0.0082 (Average 0.0092) \tBatch Time 0.1113 (Average 0.1105) \t\n",
            "[Train] Epoch: [2][95/106]\tDice Loss 0.0072 (Average 0.0091) \tBatch Time 0.1083 (Average 0.1105) \t\n",
            "[Train] Epoch: [2][100/106]\tDice Loss 0.0076 (Average 0.0091) \tBatch Time 0.1117 (Average 0.1105) \t\n",
            "[Train] Epoch: [2][105/106]\tDice Loss 0.0071 (Average 0.0090) \tBatch Time 0.1100 (Average 0.1106) \t\n",
            "Validation\n",
            "[Val] Epoch: [2][5/19]\tDice Loss 0.0085 (Average 0.0083) \tBatch Time 0.0124 (Average 0.0134) \t\n",
            "[Val] Epoch: [2][10/19]\tDice Loss 0.0080 (Average 0.0081) \tBatch Time 0.0125 (Average 0.0128) \t\n",
            "[Val] Epoch: [2][15/19]\tDice Loss 0.0072 (Average 0.0081) \tBatch Time 0.0124 (Average 0.0126) \t\n",
            "******** Epoch [3/11]  ********\n",
            "Test_session_10.11 13h12\n",
            "Training\n",
            "[Train] Epoch: [3][5/106]\tDice Loss 0.0078 (Average 0.0075) \tBatch Time 0.1120 (Average 0.1196) \t\n",
            "[Train] Epoch: [3][10/106]\tDice Loss 0.0074 (Average 0.0076) \tBatch Time 0.1081 (Average 0.1148) \t\n",
            "[Train] Epoch: [3][15/106]\tDice Loss 0.0071 (Average 0.0074) \tBatch Time 0.1103 (Average 0.1133) \t\n",
            "[Train] Epoch: [3][20/106]\tDice Loss 0.0072 (Average 0.0074) \tBatch Time 0.1084 (Average 0.1123) \t\n",
            "[Train] Epoch: [3][25/106]\tDice Loss 0.0067 (Average 0.0073) \tBatch Time 0.1114 (Average 0.1119) \t\n",
            "[Train] Epoch: [3][30/106]\tDice Loss 0.0073 (Average 0.0073) \tBatch Time 0.1103 (Average 0.1116) \t\n",
            "[Train] Epoch: [3][35/106]\tDice Loss 0.0069 (Average 0.0073) \tBatch Time 0.1101 (Average 0.1113) \t\n",
            "[Train] Epoch: [3][40/106]\tDice Loss 0.0073 (Average 0.0073) \tBatch Time 0.1119 (Average 0.1111) \t\n",
            "[Train] Epoch: [3][45/106]\tDice Loss 0.0070 (Average 0.0073) \tBatch Time 0.1121 (Average 0.1111) \t\n",
            "[Train] Epoch: [3][50/106]\tDice Loss 0.0071 (Average 0.0073) \tBatch Time 0.1099 (Average 0.1110) \t\n",
            "[Train] Epoch: [3][55/106]\tDice Loss 0.0065 (Average 0.0072) \tBatch Time 0.1066 (Average 0.1109) \t\n",
            "[Train] Epoch: [3][60/106]\tDice Loss 0.0070 (Average 0.0072) \tBatch Time 0.1102 (Average 0.1109) \t\n",
            "[Train] Epoch: [3][65/106]\tDice Loss 0.0056 (Average 0.0071) \tBatch Time 0.1107 (Average 0.1108) \t\n",
            "[Train] Epoch: [3][70/106]\tDice Loss 0.0069 (Average 0.0071) \tBatch Time 0.1100 (Average 0.1108) \t\n",
            "[Train] Epoch: [3][75/106]\tDice Loss 0.0067 (Average 0.0071) \tBatch Time 0.1112 (Average 0.1109) \t\n",
            "[Train] Epoch: [3][80/106]\tDice Loss 0.0065 (Average 0.0071) \tBatch Time 0.1113 (Average 0.1109) \t\n",
            "[Train] Epoch: [3][85/106]\tDice Loss 0.0067 (Average 0.0070) \tBatch Time 0.1114 (Average 0.1108) \t\n",
            "[Train] Epoch: [3][90/106]\tDice Loss 0.0061 (Average 0.0070) \tBatch Time 0.1115 (Average 0.1109) \t\n",
            "[Train] Epoch: [3][95/106]\tDice Loss 0.0057 (Average 0.0069) \tBatch Time 0.1096 (Average 0.1108) \t\n",
            "[Train] Epoch: [3][100/106]\tDice Loss 0.0060 (Average 0.0069) \tBatch Time 0.1115 (Average 0.1108) \t\n",
            "[Train] Epoch: [3][105/106]\tDice Loss 0.0069 (Average 0.0068) \tBatch Time 0.1116 (Average 0.1108) \t\n",
            "Validation\n",
            "[Val] Epoch: [3][5/19]\tDice Loss 0.0070 (Average 0.0067) \tBatch Time 0.0113 (Average 0.0123) \t\n",
            "[Val] Epoch: [3][10/19]\tDice Loss 0.0067 (Average 0.0067) \tBatch Time 0.0120 (Average 0.0120) \t\n",
            "[Val] Epoch: [3][15/19]\tDice Loss 0.0071 (Average 0.0067) \tBatch Time 0.0117 (Average 0.0119) \t\n",
            "******** Epoch [4/11]  ********\n",
            "Test_session_10.11 13h12\n",
            "Training\n",
            "[Train] Epoch: [4][5/106]\tDice Loss 0.0057 (Average 0.0062) \tBatch Time 0.1098 (Average 0.1212) \t\n",
            "[Train] Epoch: [4][10/106]\tDice Loss 0.0063 (Average 0.0061) \tBatch Time 0.1084 (Average 0.1154) \t\n",
            "[Train] Epoch: [4][15/106]\tDice Loss 0.0051 (Average 0.0060) \tBatch Time 0.1108 (Average 0.1138) \t\n",
            "[Train] Epoch: [4][20/106]\tDice Loss 0.0054 (Average 0.0059) \tBatch Time 0.1112 (Average 0.1128) \t\n",
            "[Train] Epoch: [4][25/106]\tDice Loss 0.0060 (Average 0.0059) \tBatch Time 0.1107 (Average 0.1124) \t\n",
            "[Train] Epoch: [4][30/106]\tDice Loss 0.0064 (Average 0.0059) \tBatch Time 0.1112 (Average 0.1120) \t\n",
            "[Train] Epoch: [4][35/106]\tDice Loss 0.0063 (Average 0.0059) \tBatch Time 0.1113 (Average 0.1118) \t\n",
            "[Train] Epoch: [4][40/106]\tDice Loss 0.0061 (Average 0.0059) \tBatch Time 0.1091 (Average 0.1116) \t\n",
            "[Train] Epoch: [4][45/106]\tDice Loss 0.0052 (Average 0.0059) \tBatch Time 0.1080 (Average 0.1115) \t\n",
            "[Train] Epoch: [4][50/106]\tDice Loss 0.0063 (Average 0.0059) \tBatch Time 0.1116 (Average 0.1114) \t\n",
            "[Train] Epoch: [4][55/106]\tDice Loss 0.0055 (Average 0.0059) \tBatch Time 0.1114 (Average 0.1113) \t\n",
            "[Train] Epoch: [4][60/106]\tDice Loss 0.0051 (Average 0.0058) \tBatch Time 0.1114 (Average 0.1112) \t\n",
            "[Train] Epoch: [4][65/106]\tDice Loss 0.0054 (Average 0.0058) \tBatch Time 0.1101 (Average 0.1112) \t\n",
            "[Train] Epoch: [4][70/106]\tDice Loss 0.0058 (Average 0.0058) \tBatch Time 0.1084 (Average 0.1110) \t\n",
            "[Train] Epoch: [4][75/106]\tDice Loss 0.0054 (Average 0.0058) \tBatch Time 0.1085 (Average 0.1110) \t\n",
            "[Train] Epoch: [4][80/106]\tDice Loss 0.0059 (Average 0.0057) \tBatch Time 0.1101 (Average 0.1109) \t\n",
            "[Train] Epoch: [4][85/106]\tDice Loss 0.0056 (Average 0.0057) \tBatch Time 0.1080 (Average 0.1108) \t\n",
            "[Train] Epoch: [4][90/106]\tDice Loss 0.0056 (Average 0.0057) \tBatch Time 0.1088 (Average 0.1107) \t\n",
            "[Train] Epoch: [4][95/106]\tDice Loss 0.0058 (Average 0.0057) \tBatch Time 0.1085 (Average 0.1105) \t\n",
            "[Train] Epoch: [4][100/106]\tDice Loss 0.0054 (Average 0.0057) \tBatch Time 0.1086 (Average 0.1105) \t\n",
            "[Train] Epoch: [4][105/106]\tDice Loss 0.0057 (Average 0.0057) \tBatch Time 0.1057 (Average 0.1105) \t\n",
            "Validation\n",
            "[Val] Epoch: [4][5/19]\tDice Loss 0.0061 (Average 0.0055) \tBatch Time 0.0118 (Average 0.0125) \t\n",
            "[Val] Epoch: [4][10/19]\tDice Loss 0.0054 (Average 0.0055) \tBatch Time 0.0128 (Average 0.0127) \t\n",
            "[Val] Epoch: [4][15/19]\tDice Loss 0.0050 (Average 0.0054) \tBatch Time 0.0119 (Average 0.0125) \t\n",
            "******** Epoch [5/11]  ********\n",
            "Test_session_10.11 13h12\n",
            "Training\n",
            "[Train] Epoch: [5][5/106]\tDice Loss 0.0051 (Average 0.0055) \tBatch Time 0.1084 (Average 0.1206) \t\n",
            "[Train] Epoch: [5][10/106]\tDice Loss 0.0059 (Average 0.0056) \tBatch Time 0.1118 (Average 0.1150) \t\n",
            "[Train] Epoch: [5][15/106]\tDice Loss 0.0051 (Average 0.0055) \tBatch Time 0.1102 (Average 0.1133) \t\n",
            "[Train] Epoch: [5][20/106]\tDice Loss 0.0052 (Average 0.0055) \tBatch Time 0.1105 (Average 0.1126) \t\n",
            "[Train] Epoch: [5][25/106]\tDice Loss 0.0057 (Average 0.0055) \tBatch Time 0.1098 (Average 0.1119) \t\n",
            "[Train] Epoch: [5][30/106]\tDice Loss 0.0051 (Average 0.0055) \tBatch Time 0.1080 (Average 0.1114) \t\n",
            "[Train] Epoch: [5][35/106]\tDice Loss 0.0052 (Average 0.0055) \tBatch Time 0.1087 (Average 0.1113) \t\n",
            "[Train] Epoch: [5][40/106]\tDice Loss 0.0055 (Average 0.0054) \tBatch Time 0.1123 (Average 0.1112) \t\n",
            "[Train] Epoch: [5][45/106]\tDice Loss 0.0055 (Average 0.0054) \tBatch Time 0.1085 (Average 0.1110) \t\n",
            "[Train] Epoch: [5][50/106]\tDice Loss 0.0065 (Average 0.0054) \tBatch Time 0.1114 (Average 0.1109) \t\n",
            "[Train] Epoch: [5][55/106]\tDice Loss 0.0051 (Average 0.0054) \tBatch Time 0.1120 (Average 0.1110) \t\n",
            "[Train] Epoch: [5][60/106]\tDice Loss 0.0052 (Average 0.0054) \tBatch Time 0.1113 (Average 0.1110) \t\n",
            "[Train] Epoch: [5][65/106]\tDice Loss 0.0047 (Average 0.0054) \tBatch Time 0.1114 (Average 0.1110) \t\n",
            "[Train] Epoch: [5][70/106]\tDice Loss 0.0051 (Average 0.0054) \tBatch Time 0.1090 (Average 0.1109) \t\n",
            "[Train] Epoch: [5][75/106]\tDice Loss 0.0055 (Average 0.0054) \tBatch Time 0.1123 (Average 0.1110) \t\n",
            "[Train] Epoch: [5][80/106]\tDice Loss 0.0053 (Average 0.0054) \tBatch Time 0.1102 (Average 0.1109) \t\n",
            "[Train] Epoch: [5][85/106]\tDice Loss 0.0053 (Average 0.0053) \tBatch Time 0.1115 (Average 0.1109) \t\n",
            "[Train] Epoch: [5][90/106]\tDice Loss 0.0056 (Average 0.0053) \tBatch Time 0.1121 (Average 0.1109) \t\n",
            "[Train] Epoch: [5][95/106]\tDice Loss 0.0050 (Average 0.0053) \tBatch Time 0.1101 (Average 0.1110) \t\n",
            "[Train] Epoch: [5][100/106]\tDice Loss 0.0049 (Average 0.0053) \tBatch Time 0.1100 (Average 0.1109) \t\n",
            "[Train] Epoch: [5][105/106]\tDice Loss 0.0049 (Average 0.0053) \tBatch Time 0.1113 (Average 0.1109) \t\n",
            "Validation\n",
            "[Val] Epoch: [5][5/19]\tDice Loss 0.0048 (Average 0.0050) \tBatch Time 0.0113 (Average 0.0124) \t\n",
            "[Val] Epoch: [5][10/19]\tDice Loss 0.0056 (Average 0.0050) \tBatch Time 0.0130 (Average 0.0125) \t\n",
            "[Val] Epoch: [5][15/19]\tDice Loss 0.0053 (Average 0.0051) \tBatch Time 0.0111 (Average 0.0123) \t\n",
            "******** Epoch [6/11]  ********\n",
            "Test_session_10.11 13h12\n",
            "Training\n",
            "[Train] Epoch: [6][5/106]\tDice Loss 0.0057 (Average 0.0052) \tBatch Time 0.1095 (Average 0.1177) \t\n",
            "[Train] Epoch: [6][10/106]\tDice Loss 0.0045 (Average 0.0050) \tBatch Time 0.1069 (Average 0.1135) \t\n",
            "[Train] Epoch: [6][15/106]\tDice Loss 0.0048 (Average 0.0050) \tBatch Time 0.1100 (Average 0.1125) \t\n",
            "[Train] Epoch: [6][20/106]\tDice Loss 0.0047 (Average 0.0050) \tBatch Time 0.1099 (Average 0.1118) \t\n",
            "[Train] Epoch: [6][25/106]\tDice Loss 0.0049 (Average 0.0051) \tBatch Time 0.1059 (Average 0.1113) \t\n",
            "[Train] Epoch: [6][30/106]\tDice Loss 0.0049 (Average 0.0051) \tBatch Time 0.1121 (Average 0.1112) \t\n",
            "[Train] Epoch: [6][35/106]\tDice Loss 0.0047 (Average 0.0051) \tBatch Time 0.1116 (Average 0.1111) \t\n",
            "[Train] Epoch: [6][40/106]\tDice Loss 0.0051 (Average 0.0051) \tBatch Time 0.1122 (Average 0.1112) \t\n",
            "[Train] Epoch: [6][45/106]\tDice Loss 0.0046 (Average 0.0051) \tBatch Time 0.1112 (Average 0.1111) \t\n",
            "[Train] Epoch: [6][50/106]\tDice Loss 0.0049 (Average 0.0051) \tBatch Time 0.1122 (Average 0.1110) \t\n",
            "[Train] Epoch: [6][55/106]\tDice Loss 0.0050 (Average 0.0051) \tBatch Time 0.1101 (Average 0.1110) \t\n",
            "[Train] Epoch: [6][60/106]\tDice Loss 0.0049 (Average 0.0051) \tBatch Time 0.1098 (Average 0.1110) \t\n",
            "[Train] Epoch: [6][65/106]\tDice Loss 0.0050 (Average 0.0051) \tBatch Time 0.1099 (Average 0.1109) \t\n",
            "[Train] Epoch: [6][70/106]\tDice Loss 0.0048 (Average 0.0051) \tBatch Time 0.1126 (Average 0.1109) \t\n",
            "[Train] Epoch: [6][75/106]\tDice Loss 0.0049 (Average 0.0051) \tBatch Time 0.1111 (Average 0.1108) \t\n",
            "[Train] Epoch: [6][80/106]\tDice Loss 0.0055 (Average 0.0051) \tBatch Time 0.1114 (Average 0.1108) \t\n",
            "[Train] Epoch: [6][85/106]\tDice Loss 0.0053 (Average 0.0051) \tBatch Time 0.1115 (Average 0.1108) \t\n",
            "[Train] Epoch: [6][90/106]\tDice Loss 0.0051 (Average 0.0051) \tBatch Time 0.1113 (Average 0.1108) \t\n",
            "[Train] Epoch: [6][95/106]\tDice Loss 0.0051 (Average 0.0051) \tBatch Time 0.1102 (Average 0.1108) \t\n",
            "[Train] Epoch: [6][100/106]\tDice Loss 0.0050 (Average 0.0051) \tBatch Time 0.1101 (Average 0.1107) \t\n",
            "[Train] Epoch: [6][105/106]\tDice Loss 0.0044 (Average 0.0051) \tBatch Time 0.1112 (Average 0.1107) \t\n",
            "Validation\n",
            "[Val] Epoch: [6][5/19]\tDice Loss 0.0047 (Average 0.0048) \tBatch Time 0.0128 (Average 0.0133) \t\n",
            "[Val] Epoch: [6][10/19]\tDice Loss 0.0050 (Average 0.0048) \tBatch Time 0.0124 (Average 0.0130) \t\n",
            "[Val] Epoch: [6][15/19]\tDice Loss 0.0048 (Average 0.0049) \tBatch Time 0.0125 (Average 0.0128) \t\n",
            "******** Epoch [7/11]  ********\n",
            "Test_session_10.11 13h12\n",
            "Training\n",
            "[Train] Epoch: [7][5/106]\tDice Loss 0.0051 (Average 0.0048) \tBatch Time 0.1088 (Average 0.1187) \t\n",
            "[Train] Epoch: [7][10/106]\tDice Loss 0.0041 (Average 0.0046) \tBatch Time 0.1095 (Average 0.1148) \t\n",
            "[Train] Epoch: [7][15/106]\tDice Loss 0.0050 (Average 0.0048) \tBatch Time 0.1112 (Average 0.1132) \t\n",
            "[Train] Epoch: [7][20/106]\tDice Loss 0.0045 (Average 0.0049) \tBatch Time 0.1118 (Average 0.1126) \t\n",
            "[Train] Epoch: [7][25/106]\tDice Loss 0.0048 (Average 0.0049) \tBatch Time 0.1081 (Average 0.1121) \t\n",
            "[Train] Epoch: [7][30/106]\tDice Loss 0.0050 (Average 0.0049) \tBatch Time 0.1111 (Average 0.1118) \t\n",
            "[Train] Epoch: [7][35/106]\tDice Loss 0.0048 (Average 0.0049) \tBatch Time 0.1105 (Average 0.1115) \t\n",
            "[Train] Epoch: [7][40/106]\tDice Loss 0.0053 (Average 0.0049) \tBatch Time 0.1099 (Average 0.1114) \t\n",
            "[Train] Epoch: [7][45/106]\tDice Loss 0.0048 (Average 0.0049) \tBatch Time 0.1109 (Average 0.1113) \t\n",
            "[Train] Epoch: [7][50/106]\tDice Loss 0.0054 (Average 0.0049) \tBatch Time 0.1087 (Average 0.1111) \t\n",
            "[Train] Epoch: [7][55/106]\tDice Loss 0.0046 (Average 0.0049) \tBatch Time 0.1102 (Average 0.1110) \t\n",
            "[Train] Epoch: [7][60/106]\tDice Loss 0.0047 (Average 0.0049) \tBatch Time 0.1086 (Average 0.1109) \t\n",
            "[Train] Epoch: [7][65/106]\tDice Loss 0.0051 (Average 0.0049) \tBatch Time 0.1087 (Average 0.1108) \t\n",
            "[Train] Epoch: [7][70/106]\tDice Loss 0.0048 (Average 0.0049) \tBatch Time 0.1113 (Average 0.1109) \t\n",
            "[Train] Epoch: [7][75/106]\tDice Loss 0.0052 (Average 0.0049) \tBatch Time 0.1109 (Average 0.1109) \t\n",
            "[Train] Epoch: [7][80/106]\tDice Loss 0.0052 (Average 0.0049) \tBatch Time 0.1089 (Average 0.1109) \t\n",
            "[Train] Epoch: [7][85/106]\tDice Loss 0.0046 (Average 0.0049) \tBatch Time 0.1111 (Average 0.1108) \t\n",
            "[Train] Epoch: [7][90/106]\tDice Loss 0.0049 (Average 0.0049) \tBatch Time 0.1117 (Average 0.1109) \t\n",
            "[Train] Epoch: [7][95/106]\tDice Loss 0.0050 (Average 0.0049) \tBatch Time 0.1116 (Average 0.1108) \t\n",
            "[Train] Epoch: [7][100/106]\tDice Loss 0.0045 (Average 0.0049) \tBatch Time 0.1123 (Average 0.1108) \t\n",
            "[Train] Epoch: [7][105/106]\tDice Loss 0.0043 (Average 0.0048) \tBatch Time 0.1100 (Average 0.1108) \t\n",
            "Validation\n",
            "[Val] Epoch: [7][5/19]\tDice Loss 0.0045 (Average 0.0045) \tBatch Time 0.0116 (Average 0.0123) \t\n",
            "[Val] Epoch: [7][10/19]\tDice Loss 0.0047 (Average 0.0045) \tBatch Time 0.0115 (Average 0.0122) \t\n",
            "[Val] Epoch: [7][15/19]\tDice Loss 0.0044 (Average 0.0044) \tBatch Time 0.0122 (Average 0.0122) \t\n",
            "******** Epoch [8/11]  ********\n",
            "Test_session_10.11 13h12\n",
            "Training\n",
            "[Train] Epoch: [8][5/106]\tDice Loss 0.0045 (Average 0.0046) \tBatch Time 0.1108 (Average 0.1210) \t\n",
            "[Train] Epoch: [8][10/106]\tDice Loss 0.0045 (Average 0.0046) \tBatch Time 0.1101 (Average 0.1153) \t\n",
            "[Train] Epoch: [8][15/106]\tDice Loss 0.0046 (Average 0.0046) \tBatch Time 0.1104 (Average 0.1133) \t\n",
            "[Train] Epoch: [8][20/106]\tDice Loss 0.0043 (Average 0.0045) \tBatch Time 0.1084 (Average 0.1124) \t\n",
            "[Train] Epoch: [8][25/106]\tDice Loss 0.0040 (Average 0.0044) \tBatch Time 0.1100 (Average 0.1120) \t\n",
            "[Train] Epoch: [8][30/106]\tDice Loss 0.0040 (Average 0.0043) \tBatch Time 0.1100 (Average 0.1116) \t\n",
            "[Train] Epoch: [8][35/106]\tDice Loss 0.0036 (Average 0.0043) \tBatch Time 0.1106 (Average 0.1114) \t\n",
            "[Train] Epoch: [8][40/106]\tDice Loss 0.0039 (Average 0.0042) \tBatch Time 0.1087 (Average 0.1111) \t\n",
            "[Train] Epoch: [8][45/106]\tDice Loss 0.0044 (Average 0.0041) \tBatch Time 0.1097 (Average 0.1110) \t\n",
            "[Train] Epoch: [8][50/106]\tDice Loss 0.0034 (Average 0.0041) \tBatch Time 0.1082 (Average 0.1109) \t\n",
            "[Train] Epoch: [8][55/106]\tDice Loss 0.0034 (Average 0.0040) \tBatch Time 0.1099 (Average 0.1109) \t\n",
            "[Train] Epoch: [8][60/106]\tDice Loss 0.0034 (Average 0.0040) \tBatch Time 0.1108 (Average 0.1108) \t\n",
            "[Train] Epoch: [8][65/106]\tDice Loss 0.0036 (Average 0.0040) \tBatch Time 0.1116 (Average 0.1109) \t\n",
            "[Train] Epoch: [8][70/106]\tDice Loss 0.0038 (Average 0.0039) \tBatch Time 0.1117 (Average 0.1109) \t\n",
            "[Train] Epoch: [8][75/106]\tDice Loss 0.0038 (Average 0.0039) \tBatch Time 0.1100 (Average 0.1109) \t\n",
            "[Train] Epoch: [8][80/106]\tDice Loss 0.0038 (Average 0.0039) \tBatch Time 0.1113 (Average 0.1109) \t\n",
            "[Train] Epoch: [8][85/106]\tDice Loss 0.0030 (Average 0.0039) \tBatch Time 0.1113 (Average 0.1109) \t\n",
            "[Train] Epoch: [8][90/106]\tDice Loss 0.0035 (Average 0.0038) \tBatch Time 0.1124 (Average 0.1108) \t\n",
            "[Train] Epoch: [8][95/106]\tDice Loss 0.0036 (Average 0.0038) \tBatch Time 0.1096 (Average 0.1108) \t\n",
            "[Train] Epoch: [8][100/106]\tDice Loss 0.0040 (Average 0.0038) \tBatch Time 0.1082 (Average 0.1108) \t\n",
            "[Train] Epoch: [8][105/106]\tDice Loss 0.0034 (Average 0.0038) \tBatch Time 0.1113 (Average 0.1107) \t\n",
            "Validation\n",
            "[Val] Epoch: [8][5/19]\tDice Loss 0.0031 (Average 0.0033) \tBatch Time 0.0118 (Average 0.0121) \t\n",
            "[Val] Epoch: [8][10/19]\tDice Loss 0.0034 (Average 0.0033) \tBatch Time 0.0142 (Average 0.0125) \t\n",
            "[Val] Epoch: [8][15/19]\tDice Loss 0.0034 (Average 0.0033) \tBatch Time 0.0125 (Average 0.0124) \t\n",
            "******** Epoch [9/11]  ********\n",
            "Test_session_10.11 13h12\n",
            "Training\n",
            "[Train] Epoch: [9][5/106]\tDice Loss 0.0037 (Average 0.0034) \tBatch Time 0.1107 (Average 0.1157) \t\n",
            "[Train] Epoch: [9][10/106]\tDice Loss 0.0034 (Average 0.0035) \tBatch Time 0.1114 (Average 0.1130) \t\n",
            "[Train] Epoch: [9][15/106]\tDice Loss 0.0036 (Average 0.0035) \tBatch Time 0.1110 (Average 0.1120) \t\n",
            "[Train] Epoch: [9][20/106]\tDice Loss 0.0035 (Average 0.0035) \tBatch Time 0.1096 (Average 0.1111) \t\n",
            "[Train] Epoch: [9][25/106]\tDice Loss 0.0038 (Average 0.0034) \tBatch Time 0.1095 (Average 0.1106) \t\n",
            "[Train] Epoch: [9][30/106]\tDice Loss 0.0041 (Average 0.0035) \tBatch Time 0.1089 (Average 0.1104) \t\n",
            "[Train] Epoch: [9][35/106]\tDice Loss 0.0030 (Average 0.0034) \tBatch Time 0.1096 (Average 0.1104) \t\n",
            "[Train] Epoch: [9][40/106]\tDice Loss 0.0033 (Average 0.0034) \tBatch Time 0.1101 (Average 0.1103) \t\n",
            "[Train] Epoch: [9][45/106]\tDice Loss 0.0031 (Average 0.0034) \tBatch Time 0.1057 (Average 0.1101) \t\n",
            "[Train] Epoch: [9][50/106]\tDice Loss 0.0033 (Average 0.0034) \tBatch Time 0.1088 (Average 0.1101) \t\n",
            "[Train] Epoch: [9][55/106]\tDice Loss 0.0031 (Average 0.0034) \tBatch Time 0.1112 (Average 0.1100) \t\n",
            "[Train] Epoch: [9][60/106]\tDice Loss 0.0031 (Average 0.0034) \tBatch Time 0.1100 (Average 0.1100) \t\n",
            "[Train] Epoch: [9][65/106]\tDice Loss 0.0034 (Average 0.0034) \tBatch Time 0.1102 (Average 0.1100) \t\n",
            "[Train] Epoch: [9][70/106]\tDice Loss 0.0036 (Average 0.0034) \tBatch Time 0.1084 (Average 0.1100) \t\n",
            "[Train] Epoch: [9][75/106]\tDice Loss 0.0039 (Average 0.0034) \tBatch Time 0.1079 (Average 0.1099) \t\n",
            "[Train] Epoch: [9][80/106]\tDice Loss 0.0036 (Average 0.0034) \tBatch Time 0.1110 (Average 0.1099) \t\n",
            "[Train] Epoch: [9][85/106]\tDice Loss 0.0033 (Average 0.0034) \tBatch Time 0.1083 (Average 0.1099) \t\n",
            "[Train] Epoch: [9][90/106]\tDice Loss 0.0032 (Average 0.0034) \tBatch Time 0.1100 (Average 0.1099) \t\n",
            "[Train] Epoch: [9][95/106]\tDice Loss 0.0034 (Average 0.0034) \tBatch Time 0.1096 (Average 0.1099) \t\n",
            "[Train] Epoch: [9][100/106]\tDice Loss 0.0032 (Average 0.0034) \tBatch Time 0.1081 (Average 0.1098) \t\n",
            "[Train] Epoch: [9][105/106]\tDice Loss 0.0030 (Average 0.0034) \tBatch Time 0.1062 (Average 0.1097) \t\n",
            "Validation\n",
            "[Val] Epoch: [9][5/19]\tDice Loss 0.0034 (Average 0.0033) \tBatch Time 0.0123 (Average 0.0127) \t\n",
            "[Val] Epoch: [9][10/19]\tDice Loss 0.0033 (Average 0.0033) \tBatch Time 0.0119 (Average 0.0127) \t\n",
            "[Val] Epoch: [9][15/19]\tDice Loss 0.0035 (Average 0.0033) \tBatch Time 0.0120 (Average 0.0125) \t\n",
            "******** Epoch [10/11]  ********\n",
            "Test_session_10.11 13h12\n",
            "Training\n",
            "[Train] Epoch: [10][5/106]\tDice Loss 0.0035 (Average 0.0034) \tBatch Time 0.1110 (Average 0.1196) \t\n",
            "[Train] Epoch: [10][10/106]\tDice Loss 0.0039 (Average 0.0034) \tBatch Time 0.1095 (Average 0.1148) \t\n",
            "[Train] Epoch: [10][15/106]\tDice Loss 0.0035 (Average 0.0033) \tBatch Time 0.1112 (Average 0.1133) \t\n",
            "[Train] Epoch: [10][20/106]\tDice Loss 0.0030 (Average 0.0033) \tBatch Time 0.1098 (Average 0.1123) \t\n",
            "[Train] Epoch: [10][25/106]\tDice Loss 0.0034 (Average 0.0033) \tBatch Time 0.1084 (Average 0.1118) \t\n",
            "[Train] Epoch: [10][30/106]\tDice Loss 0.0032 (Average 0.0033) \tBatch Time 0.1098 (Average 0.1113) \t\n",
            "[Train] Epoch: [10][35/106]\tDice Loss 0.0038 (Average 0.0033) \tBatch Time 0.1114 (Average 0.1111) \t\n",
            "[Train] Epoch: [10][40/106]\tDice Loss 0.0033 (Average 0.0033) \tBatch Time 0.1111 (Average 0.1111) \t\n",
            "[Train] Epoch: [10][45/106]\tDice Loss 0.0032 (Average 0.0033) \tBatch Time 0.1097 (Average 0.1109) \t\n",
            "[Train] Epoch: [10][50/106]\tDice Loss 0.0031 (Average 0.0033) \tBatch Time 0.1115 (Average 0.1110) \t\n",
            "[Train] Epoch: [10][55/106]\tDice Loss 0.0032 (Average 0.0033) \tBatch Time 0.1116 (Average 0.1110) \t\n",
            "[Train] Epoch: [10][60/106]\tDice Loss 0.0029 (Average 0.0033) \tBatch Time 0.1099 (Average 0.1109) \t\n",
            "[Train] Epoch: [10][65/106]\tDice Loss 0.0034 (Average 0.0033) \tBatch Time 0.1113 (Average 0.1109) \t\n",
            "[Train] Epoch: [10][70/106]\tDice Loss 0.0032 (Average 0.0033) \tBatch Time 0.1110 (Average 0.1109) \t\n",
            "[Train] Epoch: [10][75/106]\tDice Loss 0.0033 (Average 0.0033) \tBatch Time 0.1101 (Average 0.1109) \t\n",
            "[Train] Epoch: [10][80/106]\tDice Loss 0.0035 (Average 0.0033) \tBatch Time 0.1098 (Average 0.1108) \t\n",
            "[Train] Epoch: [10][85/106]\tDice Loss 0.0032 (Average 0.0033) \tBatch Time 0.1116 (Average 0.1109) \t\n",
            "[Train] Epoch: [10][90/106]\tDice Loss 0.0031 (Average 0.0033) \tBatch Time 0.1112 (Average 0.1108) \t\n",
            "[Train] Epoch: [10][95/106]\tDice Loss 0.0029 (Average 0.0033) \tBatch Time 0.1118 (Average 0.1109) \t\n",
            "[Train] Epoch: [10][100/106]\tDice Loss 0.0032 (Average 0.0033) \tBatch Time 0.1119 (Average 0.1109) \t\n",
            "[Train] Epoch: [10][105/106]\tDice Loss 0.0030 (Average 0.0033) \tBatch Time 0.1086 (Average 0.1109) \t\n",
            "Validation\n",
            "[Val] Epoch: [10][5/19]\tDice Loss 0.0032 (Average 0.0032) \tBatch Time 0.0131 (Average 0.0129) \t\n",
            "[Val] Epoch: [10][10/19]\tDice Loss 0.0029 (Average 0.0031) \tBatch Time 0.0125 (Average 0.0126) \t\n",
            "[Val] Epoch: [10][15/19]\tDice Loss 0.0028 (Average 0.0032) \tBatch Time 0.0123 (Average 0.0125) \t\n"
          ]
        }
      ],
      "source": [
        "model = \"\"\"Complete here\"\"\" # Create model\n",
        "model.cuda() # move model to GPU\n",
        "\n",
        "criterion = \"\"\"Complete here\"\"\" # Choose loss function\n",
        "optimizer = \"\"\"Complete here\"\"\" # Choose optimizer\n",
        "\n",
        "# Keep logs of training metrics. To visualize with tensorbard.\n",
        "log_dir = tensorboard_folder + session_name + '/'\n",
        "if not os.path.isdir(log_dir):\n",
        "    os.makedirs(log_dir)\n",
        "writer = torch.utils.tensorboard.SummaryWriter(log_dir)\n",
        "\n",
        "for epoch in range(epochs):  # loop over the dataset multiple times\n",
        "    print('******** Epoch [{}/{}]  ********'.format(epoch+1, epochs+1))\n",
        "    print(session_name)\n",
        "\n",
        "    # train for one epoch\n",
        "    model.train()\n",
        "    print('Training')\n",
        "    train_loop(train_loader_data_augment, model, criterion,\n",
        "               optimizer, writer, epoch)\n",
        "\n",
        "    # evaluate on validation set\n",
        "    print('Validation')\n",
        "    with torch.no_grad():  # Don't compute gradients\n",
        "        model.eval()       # Deactivate any BarchNormalization or Dropout layer\n",
        "        val_loss = train_loop(val_loader_data_augment, model, criterion,\n",
        "                              optimizer, writer, epoch)\n",
        "    # Save model and otpimizer states\n",
        "    # Saving the optimizer state allows to do further fine tuning later.\n",
        "    if save_model and epoch % save_frequency == 0:\n",
        "        save_checkpoint({'epoch': epoch,\n",
        "                        'state_dict': model.state_dict(),\n",
        "                         'val_loss': val_loss,\n",
        "                         'optimizer': optimizer.state_dict()}, model_path)\n"
      ]
    },
    {
      "cell_type": "code",
      "execution_count": null,
      "metadata": {},
      "outputs": [],
      "source": [
        "# Load the saved checkpoint\n",
        "checkpoint = torch.load('model_checkpoint_1.pth')\n",
        "\n",
        "# Load the state_dict into the model\n",
        "model.load_state_dict(checkpoint['model_state_dict'])"
      ]
    },
    {
      "cell_type": "markdown",
      "metadata": {
        "id": "2xfMg6ZI__HT"
      },
      "source": [
        "## 7.c. Evaluation du modèle\n",
        "\n",
        "Exécutez le code suivant pour évaluer le modèle."
      ]
    },
    {
      "cell_type": "code",
      "execution_count": null,
      "metadata": {
        "colab": {
          "base_uri": "https://localhost:8080/",
          "height": 332
        },
        "id": "PESqk1-0_9f-",
        "outputId": "cc915121-0f7a-4e03-d2c8-f71d1de89208"
      },
      "outputs": [
        {
          "name": "stderr",
          "output_type": "stream",
          "text": [
            "3276it [00:51, 63.28it/s]\n"
          ]
        },
        {
          "data": {
            "image/png": "[encoded data removed]",
            "text/plain": [
              "<Figure size 432x288 with 1 Axes>"
            ]
          },
          "metadata": {},
          "output_type": "display_data"
        },
        {
          "name": "stdout",
          "output_type": "stream",
          "text": [
            "Mask shape: (78, 4, 96, 96)\n",
            "Resized mask shape: (155, 240, 240)\n"
          ]
        }
      ],
      "source": [
        "test_path = original_data_path\n",
        "patients = [os.path.basename(p) for p in glob(test_path + \"*\")]\n",
        "patient = patients[0]\n",
        "\n",
        "model.eval()\n",
        "with torch.no_grad():\n",
        "    preds = predict(test_loader_data_augment, model, batch_size=batch_size)\n",
        "\n",
        "\n",
        "predict_mask = reconstruct_patient(preds, patient)\n",
        "\n",
        "\n",
        "plt.figure()\n",
        "plt.title(\"Model prediction\")\n",
        "plt.imshow(np.argmax(predict_mask[50, ...], axis=0))\n",
        "plt.show()\n",
        "\n",
        "print(\"Mask shape:\", predict_mask.shape)\n",
        "\n",
        "predict_mask = get_mask2original_shape(predict_mask)\n",
        "print(\"Resized mask shape:\", predict_mask.shape)"
      ]
    },
    {
      "cell_type": "code",
      "execution_count": null,
      "metadata": {
        "id": "2gWzEu7zCXqj"
      },
      "outputs": [],
      "source": [
        "wt_dice_list = []\n",
        "et_dice_list = []\n",
        "tc_dice_list = []\n",
        "\n",
        "model.eval()\n",
        "with torch.no_grad():\n",
        "    preds = predict(test_loader, model, batch_size=batch_size)\n",
        "\n",
        "for patient in patients:\n",
        "    # Path to original image\n",
        "    patient_folder = os.path.join(test_path,patient)\n",
        "    # Open image\n",
        "    orig_image = sitk.ReadImage(os.path.join(patient_folder,\n",
        "                                            patient  + '_seg.nii.gz' ))\n",
        "    # Convert image to numpy array\n",
        "    orig_mask = sitk.GetArrayFromImage(orig_image)\n",
        "\n",
        "    # Reconstruct the whole patient predicted mask\n",
        "    predict_mask = reconstruct_patient(preds, patient)\n",
        "    predict_mask = get_mask2original_shape(predict_mask)\n",
        "\n",
        "    print('*********** {} ***********'.format(patient))\n",
        "    scores = evalAllSample(predict_mask, orig_mask)\n",
        "    print(scores)\n",
        "    print(\"\\n\")\n",
        "\n",
        "    wt_dice_list.append(scores.loc['Dice', 'wt'])\n",
        "    et_dice_list.append(scores.loc['Dice', 'et'])\n",
        "    tc_dice_list.append(scores.loc['Dice', 'tc'])"
      ]
    },
    {
      "cell_type": "code",
      "execution_count": null,
      "metadata": {
        "id": "crUzG4gYCaaC"
      },
      "outputs": [],
      "source": [
        "print('Whole Tumor Dice : {:.2f}'.format(np.mean(wt_dice_list)))\n",
        "print('Tumor Core Dice : {:.2f}'.format(np.mean(et_dice_list)))\n",
        "print('Enhancing Tumor Dice : {:.2f}'.format(np.mean(tc_dice_list)))"
      ]
    },
    {
      "cell_type": "markdown",
      "metadata": {},
      "source": [
        "# **8. Load an architecture from GitHub**\n",
        "\n",
        "In the following code you will learn how to get an architure directly from a github repository.\n",
        "\n",
        "The github that we are cloning is [here](https://github.com/soniamartinot/BraTs_models)"
      ]
    },
    {
      "cell_type": "code",
      "execution_count": null,
      "metadata": {},
      "outputs": [
        {
          "name": "stdout",
          "output_type": "stream",
          "text": [
            "Cloning into 'BraTs_models'...\n",
            "remote: Enumerating objects: 1322, done.\u001b[K\n",
            "remote: Counting objects: 100% (49/49), done.\u001b[K\n",
            "remote: Compressing objects: 100% (19/19), done.\u001b[K\n",
            "remote: Total 1322 (delta 30), reused 47 (delta 30), pack-reused 1273 (from 1)\u001b[K\n",
            "Receiving objects: 100% (1322/1322), 18.80 MiB | 2.65 MiB/s, done.\n",
            "Resolving deltas: 100% (826/826), done.\n"
          ]
        }
      ],
      "source": [
        "\n",
        "!git clone https://github.com/soniamartinot/BraTs_models.git"
      ]
    },
    {
      "cell_type": "code",
      "execution_count": null,
      "metadata": {},
      "outputs": [
        {
          "data": {
            "text/plain": [
              "torch.Size([16, 4, 128, 128])"
            ]
          },
          "metadata": {},
          "output_type": "display_data"
        }
      ],
      "source": [
        "from BraTs_models.pytorch.models.deeplab import Deeplab_V3_Plus\n",
        "\n",
        "model = Deeplab_V3_Plus(class_num=4, n_input_channels=4, drop_rate=0)\n",
        "x = torch.rand(16, 4, 128, 128)\n",
        "model(x).shape"
      ]
    },
    {
      "cell_type": "code",
      "execution_count": null,
      "metadata": {},
      "outputs": [
        {
          "data": {
            "text/plain": [
              "Deeplab_V3_Plus(\n",
              "  (resnet): ResNet(\n",
              "    (conv1): Conv2d(4, 64, kernel_size=(7, 7), stride=(2, 2), padding=(3, 3), bias=False)\n",
              "    (bn1): BatchNorm2d(64, eps=1e-05, momentum=0.1, affine=True, track_running_stats=True)\n",
              "    (relu): ReLU(inplace=True)\n",
              "    (maxpool): MaxPool2d(kernel_size=3, stride=2, padding=1, dilation=1, ceil_mode=False)\n",
              "    (layer1): Sequential(\n",
              "      (0): BasicBlock(\n",
              "        (dp): Dropout2d(p=0, inplace=False)\n",
              "        (conv1): Conv2d(64, 64, kernel_size=(3, 3), stride=(1, 1), padding=(1, 1), bias=False)\n",
              "        (bn1): BatchNorm2d(64, eps=1e-05, momentum=0.1, affine=True, track_running_stats=True)\n",
              "        (relu): ReLU(inplace=True)\n",
              "        (conv2): Conv2d(64, 64, kernel_size=(3, 3), stride=(1, 1), padding=(1, 1), bias=False)\n",
              "        (bn2): BatchNorm2d(64, eps=1e-05, momentum=0.1, affine=True, track_running_stats=True)\n",
              "      )\n",
              "      (1): BasicBlock(\n",
              "        (dp): Dropout2d(p=0, inplace=False)\n",
              "        (conv1): Conv2d(64, 64, kernel_size=(3, 3), stride=(1, 1), padding=(1, 1), bias=False)\n",
              "        (bn1): BatchNorm2d(64, eps=1e-05, momentum=0.1, affine=True, track_running_stats=True)\n",
              "        (relu): ReLU(inplace=True)\n",
              "        (conv2): Conv2d(64, 64, kernel_size=(3, 3), stride=(1, 1), padding=(1, 1), bias=False)\n",
              "        (bn2): BatchNorm2d(64, eps=1e-05, momentum=0.1, affine=True, track_running_stats=True)\n",
              "      )\n",
              "      (2): BasicBlock(\n",
              "        (dp): Dropout2d(p=0, inplace=False)\n",
              "        (conv1): Conv2d(64, 64, kernel_size=(3, 3), stride=(1, 1), padding=(1, 1), bias=False)\n",
              "        (bn1): BatchNorm2d(64, eps=1e-05, momentum=0.1, affine=True, track_running_stats=True)\n",
              "        (relu): ReLU(inplace=True)\n",
              "        (conv2): Conv2d(64, 64, kernel_size=(3, 3), stride=(1, 1), padding=(1, 1), bias=False)\n",
              "        (bn2): BatchNorm2d(64, eps=1e-05, momentum=0.1, affine=True, track_running_stats=True)\n",
              "      )\n",
              "    )\n",
              "    (layer2): Sequential(\n",
              "      (0): BasicBlock(\n",
              "        (dp): Dropout2d(p=0, inplace=False)\n",
              "        (conv1): Conv2d(64, 128, kernel_size=(3, 3), stride=(2, 2), padding=(1, 1), bias=False)\n",
              "        (bn1): BatchNorm2d(128, eps=1e-05, momentum=0.1, affine=True, track_running_stats=True)\n",
              "        (relu): ReLU(inplace=True)\n",
              "        (conv2): Conv2d(128, 128, kernel_size=(3, 3), stride=(1, 1), padding=(1, 1), bias=False)\n",
              "        (bn2): BatchNorm2d(128, eps=1e-05, momentum=0.1, affine=True, track_running_stats=True)\n",
              "        (downsample): Sequential(\n",
              "          (0): Conv2d(64, 128, kernel_size=(1, 1), stride=(2, 2), bias=False)\n",
              "          (1): BatchNorm2d(128, eps=1e-05, momentum=0.1, affine=True, track_running_stats=True)\n",
              "          (2): Dropout2d(p=0, inplace=False)\n",
              "        )\n",
              "      )\n",
              "      (1): BasicBlock(\n",
              "        (dp): Dropout2d(p=0, inplace=False)\n",
              "        (conv1): Conv2d(128, 128, kernel_size=(3, 3), stride=(1, 1), padding=(1, 1), bias=False)\n",
              "        (bn1): BatchNorm2d(128, eps=1e-05, momentum=0.1, affine=True, track_running_stats=True)\n",
              "        (relu): ReLU(inplace=True)\n",
              "        (conv2): Conv2d(128, 128, kernel_size=(3, 3), stride=(1, 1), padding=(1, 1), bias=False)\n",
              "        (bn2): BatchNorm2d(128, eps=1e-05, momentum=0.1, affine=True, track_running_stats=True)\n",
              "      )\n",
              "      (2): BasicBlock(\n",
              "        (dp): Dropout2d(p=0, inplace=False)\n",
              "        (conv1): Conv2d(128, 128, kernel_size=(3, 3), stride=(1, 1), padding=(1, 1), bias=False)\n",
              "        (bn1): BatchNorm2d(128, eps=1e-05, momentum=0.1, affine=True, track_running_stats=True)\n",
              "        (relu): ReLU(inplace=True)\n",
              "        (conv2): Conv2d(128, 128, kernel_size=(3, 3), stride=(1, 1), padding=(1, 1), bias=False)\n",
              "        (bn2): BatchNorm2d(128, eps=1e-05, momentum=0.1, affine=True, track_running_stats=True)\n",
              "      )\n",
              "      (3): BasicBlock(\n",
              "        (dp): Dropout2d(p=0, inplace=False)\n",
              "        (conv1): Conv2d(128, 128, kernel_size=(3, 3), stride=(1, 1), padding=(1, 1), bias=False)\n",
              "        (bn1): BatchNorm2d(128, eps=1e-05, momentum=0.1, affine=True, track_running_stats=True)\n",
              "        (relu): ReLU(inplace=True)\n",
              "        (conv2): Conv2d(128, 128, kernel_size=(3, 3), stride=(1, 1), padding=(1, 1), bias=False)\n",
              "        (bn2): BatchNorm2d(128, eps=1e-05, momentum=0.1, affine=True, track_running_stats=True)\n",
              "      )\n",
              "    )\n",
              "    (layer3): Sequential(\n",
              "      (0): BasicBlock(\n",
              "        (dp): Dropout2d(p=0, inplace=False)\n",
              "        (conv1): Conv2d(128, 256, kernel_size=(3, 3), stride=(2, 2), padding=(1, 1), bias=False)\n",
              "        (bn1): BatchNorm2d(256, eps=1e-05, momentum=0.1, affine=True, track_running_stats=True)\n",
              "        (relu): ReLU(inplace=True)\n",
              "        (conv2): Conv2d(256, 256, kernel_size=(3, 3), stride=(1, 1), padding=(1, 1), bias=False)\n",
              "        (bn2): BatchNorm2d(256, eps=1e-05, momentum=0.1, affine=True, track_running_stats=True)\n",
              "        (downsample): Sequential(\n",
              "          (0): Conv2d(128, 256, kernel_size=(1, 1), stride=(2, 2), bias=False)\n",
              "          (1): BatchNorm2d(256, eps=1e-05, momentum=0.1, affine=True, track_running_stats=True)\n",
              "          (2): Dropout2d(p=0, inplace=False)\n",
              "        )\n",
              "      )\n",
              "      (1): BasicBlock(\n",
              "        (dp): Dropout2d(p=0, inplace=False)\n",
              "        (conv1): Conv2d(256, 256, kernel_size=(3, 3), stride=(1, 1), padding=(1, 1), bias=False)\n",
              "        (bn1): BatchNorm2d(256, eps=1e-05, momentum=0.1, affine=True, track_running_stats=True)\n",
              "        (relu): ReLU(inplace=True)\n",
              "        (conv2): Conv2d(256, 256, kernel_size=(3, 3), stride=(1, 1), padding=(1, 1), bias=False)\n",
              "        (bn2): BatchNorm2d(256, eps=1e-05, momentum=0.1, affine=True, track_running_stats=True)\n",
              "      )\n",
              "      (2): BasicBlock(\n",
              "        (dp): Dropout2d(p=0, inplace=False)\n",
              "        (conv1): Conv2d(256, 256, kernel_size=(3, 3), stride=(1, 1), padding=(1, 1), bias=False)\n",
              "        (bn1): BatchNorm2d(256, eps=1e-05, momentum=0.1, affine=True, track_running_stats=True)\n",
              "        (relu): ReLU(inplace=True)\n",
              "        (conv2): Conv2d(256, 256, kernel_size=(3, 3), stride=(1, 1), padding=(1, 1), bias=False)\n",
              "        (bn2): BatchNorm2d(256, eps=1e-05, momentum=0.1, affine=True, track_running_stats=True)\n",
              "      )\n",
              "      (3): BasicBlock(\n",
              "        (dp): Dropout2d(p=0, inplace=False)\n",
              "        (conv1): Conv2d(256, 256, kernel_size=(3, 3), stride=(1, 1), padding=(1, 1), bias=False)\n",
              "        (bn1): BatchNorm2d(256, eps=1e-05, momentum=0.1, affine=True, track_running_stats=True)\n",
              "        (relu): ReLU(inplace=True)\n",
              "        (conv2): Conv2d(256, 256, kernel_size=(3, 3), stride=(1, 1), padding=(1, 1), bias=False)\n",
              "        (bn2): BatchNorm2d(256, eps=1e-05, momentum=0.1, affine=True, track_running_stats=True)\n",
              "      )\n",
              "      (4): BasicBlock(\n",
              "        (dp): Dropout2d(p=0, inplace=False)\n",
              "        (conv1): Conv2d(256, 256, kernel_size=(3, 3), stride=(1, 1), padding=(1, 1), bias=False)\n",
              "        (bn1): BatchNorm2d(256, eps=1e-05, momentum=0.1, affine=True, track_running_stats=True)\n",
              "        (relu): ReLU(inplace=True)\n",
              "        (conv2): Conv2d(256, 256, kernel_size=(3, 3), stride=(1, 1), padding=(1, 1), bias=False)\n",
              "        (bn2): BatchNorm2d(256, eps=1e-05, momentum=0.1, affine=True, track_running_stats=True)\n",
              "      )\n",
              "      (5): BasicBlock(\n",
              "        (dp): Dropout2d(p=0, inplace=False)\n",
              "        (conv1): Conv2d(256, 256, kernel_size=(3, 3), stride=(1, 1), padding=(1, 1), bias=False)\n",
              "        (bn1): BatchNorm2d(256, eps=1e-05, momentum=0.1, affine=True, track_running_stats=True)\n",
              "        (relu): ReLU(inplace=True)\n",
              "        (conv2): Conv2d(256, 256, kernel_size=(3, 3), stride=(1, 1), padding=(1, 1), bias=False)\n",
              "        (bn2): BatchNorm2d(256, eps=1e-05, momentum=0.1, affine=True, track_running_stats=True)\n",
              "      )\n",
              "    )\n",
              "    (low_conv): Conv2d(64, 64, kernel_size=(3, 3), stride=(1, 1), padding=(1, 1), bias=False)\n",
              "    (atr_conv1): Sequential(\n",
              "      (0): Conv2d(256, 128, kernel_size=(3, 3), stride=(1, 1), padding=(1, 1), bias=False)\n",
              "      (1): BatchNorm2d(128, eps=1e-05, momentum=0.1, affine=True, track_running_stats=True)\n",
              "      (2): Dropout2d(p=0, inplace=False)\n",
              "      (3): ReLU(inplace=True)\n",
              "    )\n",
              "    (atr_conv2): Sequential(\n",
              "      (0): Conv2d(256, 128, kernel_size=(3, 3), stride=(1, 1), padding=(2, 2), dilation=(2, 2), bias=False)\n",
              "      (1): BatchNorm2d(128, eps=1e-05, momentum=0.1, affine=True, track_running_stats=True)\n",
              "      (2): Dropout2d(p=0, inplace=False)\n",
              "      (3): ReLU(inplace=True)\n",
              "    )\n",
              "    (atr_conv3): Sequential(\n",
              "      (0): Conv2d(256, 128, kernel_size=(3, 3), stride=(1, 1), padding=(4, 4), dilation=(4, 4), bias=False)\n",
              "      (1): BatchNorm2d(128, eps=1e-05, momentum=0.1, affine=True, track_running_stats=True)\n",
              "      (2): Dropout2d(p=0, inplace=False)\n",
              "      (3): ReLU(inplace=True)\n",
              "    )\n",
              "    (atr_conv4): Sequential(\n",
              "      (0): Conv2d(256, 128, kernel_size=(3, 3), stride=(1, 1), padding=(16, 16), dilation=(16, 16), bias=False)\n",
              "      (1): BatchNorm2d(128, eps=1e-05, momentum=0.1, affine=True, track_running_stats=True)\n",
              "      (2): Dropout2d(p=0, inplace=False)\n",
              "      (3): ReLU(inplace=True)\n",
              "    )\n",
              "  )\n",
              "  (conv0): Sequential(\n",
              "    (0): Conv2d(64, 256, kernel_size=(1, 1), stride=(1, 1), bias=False)\n",
              "    (1): BatchNorm2d(256, eps=1e-05, momentum=0.1, affine=True, track_running_stats=True)\n",
              "    (2): Dropout2d(p=0, inplace=False)\n",
              "    (3): ReLU(inplace=True)\n",
              "  )\n",
              "  (encoder): Encoder(\n",
              "    (dp): Dropout2d(p=0, inplace=False)\n",
              "    (conv1): Sequential(\n",
              "      (0): Conv2d(512, 256, kernel_size=(1, 1), stride=(1, 1), bias=False)\n",
              "      (1): BatchNorm2d(256, eps=1e-05, momentum=0.1, affine=True, track_running_stats=True)\n",
              "      (2): Dropout2d(p=0, inplace=False)\n",
              "      (3): ReLU(inplace=True)\n",
              "    )\n",
              "    (atr_conv1): Sequential(\n",
              "      (0): Conv2d(512, 256, kernel_size=(3, 3), stride=(1, 1), padding=(6, 6), dilation=(6, 6), bias=False)\n",
              "      (1): BatchNorm2d(256, eps=1e-05, momentum=0.1, affine=True, track_running_stats=True)\n",
              "      (2): Dropout2d(p=0, inplace=False)\n",
              "      (3): ReLU(inplace=True)\n",
              "    )\n",
              "    (atr_conv2): Sequential(\n",
              "      (0): Conv2d(512, 256, kernel_size=(3, 3), stride=(1, 1), padding=(12, 12), dilation=(12, 12), bias=False)\n",
              "      (1): BatchNorm2d(256, eps=1e-05, momentum=0.1, affine=True, track_running_stats=True)\n",
              "      (2): Dropout2d(p=0, inplace=False)\n",
              "      (3): ReLU(inplace=True)\n",
              "    )\n",
              "    (atr_conv3): Sequential(\n",
              "      (0): Conv2d(512, 256, kernel_size=(3, 3), stride=(1, 1), padding=(18, 18), dilation=(18, 18), bias=False)\n",
              "      (1): BatchNorm2d(256, eps=1e-05, momentum=0.1, affine=True, track_running_stats=True)\n",
              "      (2): Dropout2d(p=0, inplace=False)\n",
              "      (3): ReLU(inplace=True)\n",
              "    )\n",
              "    (avgpool): AvgPool2d(kernel_size=2, stride=2, padding=0)\n",
              "    (conv2): Sequential(\n",
              "      (0): Conv2d(512, 256, kernel_size=(1, 1), stride=(1, 1), bias=False)\n",
              "      (1): BatchNorm2d(256, eps=1e-05, momentum=0.1, affine=True, track_running_stats=True)\n",
              "      (2): Dropout2d(p=0, inplace=False)\n",
              "      (3): ReLU(inplace=True)\n",
              "    )\n",
              "    (conv_cat): Sequential(\n",
              "      (0): Conv2d(1024, 512, kernel_size=(1, 1), stride=(1, 1), bias=False)\n",
              "      (1): BatchNorm2d(512, eps=1e-05, momentum=0.1, affine=True, track_running_stats=True)\n",
              "      (2): Dropout2d(p=0, inplace=False)\n",
              "      (3): ReLU(inplace=True)\n",
              "    )\n",
              "  )\n",
              "  (conv1): Sequential(\n",
              "    (0): Conv2d(768, 512, kernel_size=(3, 3), stride=(1, 1), padding=(1, 1), bias=False)\n",
              "    (1): BatchNorm2d(512, eps=1e-05, momentum=0.1, affine=True, track_running_stats=True)\n",
              "    (2): Dropout2d(p=0, inplace=False)\n",
              "    (3): ReLU(inplace=True)\n",
              "  )\n",
              "  (conv2): Sequential(\n",
              "    (0): Conv2d(512, 256, kernel_size=(3, 3), stride=(1, 1), padding=(1, 1), bias=False)\n",
              "    (1): BatchNorm2d(256, eps=1e-05, momentum=0.1, affine=True, track_running_stats=True)\n",
              "    (2): Dropout2d(p=0, inplace=False)\n",
              "    (3): ReLU(inplace=True)\n",
              "  )\n",
              "  (conv3): Sequential(\n",
              "    (0): Conv2d(256, 4, kernel_size=(3, 3), stride=(1, 1), padding=(1, 1), bias=False)\n",
              "    (1): BatchNorm2d(4, eps=1e-05, momentum=0.1, affine=True, track_running_stats=True)\n",
              "    (2): Dropout2d(p=0, inplace=False)\n",
              "    (3): ReLU(inplace=True)\n",
              "  )\n",
              "  (conv4): Sequential(\n",
              "    (0): Conv2d(4, 4, kernel_size=(5, 5), stride=(1, 1), padding=(2, 2), bias=False)\n",
              "    (1): BatchNorm2d(4, eps=1e-05, momentum=0.1, affine=True, track_running_stats=True)\n",
              "    (2): Dropout2d(p=0, inplace=False)\n",
              "    (3): ReLU(inplace=True)\n",
              "  )\n",
              "  (conv5): Sequential(\n",
              "    (0): Conv2d(4, 4, kernel_size=(5, 5), stride=(1, 1), padding=(2, 2), bias=False)\n",
              "    (1): BatchNorm2d(4, eps=1e-05, momentum=0.1, affine=True, track_running_stats=True)\n",
              "    (2): Dropout2d(p=0, inplace=False)\n",
              "    (3): ReLU(inplace=True)\n",
              "  )\n",
              ")"
            ]
          },
          "metadata": {},
          "output_type": "display_data"
        }
      ],
      "source": [
        "model.to(\"cuda\")"
      ]
    },
    {
      "cell_type": "code",
      "execution_count": null,
      "metadata": {},
      "outputs": [
        {
          "name": "stderr",
          "output_type": "stream",
          "text": [
            "  5%|▍         | 5/106 [00:28<09:26,  5.61s/it]\n"
          ]
        },
        {
          "ename": "KeyboardInterrupt",
          "evalue": "",
          "output_type": "error",
          "traceback": [
            "\u001b[0;31m---------------------------------------------------------------------------\u001b[0m\n",
            "\u001b[0;31mKeyboardInterrupt\u001b[0m                         Traceback (most recent call last)\n",
            "\u001b[0;32m/var/folders/jf/by73pf5n03nb93hx_qcks6wc0000gp/T/ipykernel_20380/3874471646.py\u001b[0m in \u001b[0;36m?\u001b[0;34m()\u001b[0m\n",
            "\u001b[1;32m      6\u001b[0m \u001b[0;34m\u001b[0m\u001b[0m\n",
            "\u001b[1;32m      7\u001b[0m     \u001b[0mmodel\u001b[0m\u001b[0;34m.\u001b[0m\u001b[0mtrain\u001b[0m\u001b[0;34m(\u001b[0m\u001b[0;34m)\u001b[0m\u001b[0;34m\u001b[0m\u001b[0;34m\u001b[0m\u001b[0m\n",
            "\u001b[1;32m      8\u001b[0m \u001b[0;34m\u001b[0m\u001b[0m\n",
            "\u001b[1;32m      9\u001b[0m     \u001b[0;31m# train for one epoch\u001b[0m\u001b[0;34m\u001b[0m\u001b[0;34m\u001b[0m\u001b[0m\n",
            "\u001b[0;32m---> 10\u001b[0;31m     \u001b[0mtrain_loss_\u001b[0m \u001b[0;34m=\u001b[0m \u001b[0mtrain_loop\u001b[0m\u001b[0;34m(\u001b[0m\u001b[0mtrain_loader\u001b[0m\u001b[0;34m,\u001b[0m \u001b[0mmodel\u001b[0m\u001b[0;34m,\u001b[0m \u001b[0mcriterion\u001b[0m\u001b[0;34m,\u001b[0m \u001b[0moptimizer\u001b[0m\u001b[0;34m,\u001b[0m \u001b[0mwriter\u001b[0m\u001b[0;34m,\u001b[0m \u001b[0mepoch\u001b[0m\u001b[0;34m)\u001b[0m\u001b[0;34m\u001b[0m\u001b[0;34m\u001b[0m\u001b[0m\n",
            "\u001b[0m\u001b[1;32m     11\u001b[0m \u001b[0;34m\u001b[0m\u001b[0m\n",
            "\u001b[1;32m     12\u001b[0m \u001b[0;34m\u001b[0m\u001b[0m\n",
            "\u001b[1;32m     13\u001b[0m     \u001b[0;31m# evaluate on validation set\u001b[0m\u001b[0;34m\u001b[0m\u001b[0;34m\u001b[0m\u001b[0m\n",
            "\n",
            "\u001b[0;32m/var/folders/jf/by73pf5n03nb93hx_qcks6wc0000gp/T/ipykernel_20380/3928264069.py\u001b[0m in \u001b[0;36m?\u001b[0;34m(loader, model, criterion, optimizer, writer, epoch)\u001b[0m\n",
            "\u001b[1;32m      6\u001b[0m \u001b[0;34m\u001b[0m\u001b[0m\n",
            "\u001b[1;32m      7\u001b[0m     \u001b[0mepoch_time_sum\u001b[0m\u001b[0;34m,\u001b[0m \u001b[0mepoch_loss_sum\u001b[0m \u001b[0;34m=\u001b[0m \u001b[0;34m[\u001b[0m\u001b[0;34m]\u001b[0m\u001b[0;34m,\u001b[0m \u001b[0;34m[\u001b[0m\u001b[0;34m]\u001b[0m\u001b[0;34m\u001b[0m\u001b[0;34m\u001b[0m\u001b[0m\n",
            "\u001b[1;32m      8\u001b[0m \u001b[0;34m\u001b[0m\u001b[0m\n",
            "\u001b[1;32m      9\u001b[0m \u001b[0;34m\u001b[0m\u001b[0m\n",
            "\u001b[0;32m---> 10\u001b[0;31m     \u001b[0;32mfor\u001b[0m \u001b[0mi\u001b[0m\u001b[0;34m,\u001b[0m \u001b[0msample\u001b[0m \u001b[0;32min\u001b[0m \u001b[0mtqdm\u001b[0m\u001b[0;34m(\u001b[0m\u001b[0menumerate\u001b[0m\u001b[0;34m(\u001b[0m\u001b[0mloader\u001b[0m\u001b[0;34m,\u001b[0m \u001b[0;36m1\u001b[0m\u001b[0;34m)\u001b[0m\u001b[0;34m,\u001b[0m \u001b[0mtotal\u001b[0m\u001b[0;34m=\u001b[0m\u001b[0mlen\u001b[0m\u001b[0;34m(\u001b[0m\u001b[0mloader\u001b[0m\u001b[0;34m)\u001b[0m\u001b[0;34m)\u001b[0m\u001b[0;34m:\u001b[0m\u001b[0;34m\u001b[0m\u001b[0;34m\u001b[0m\u001b[0m\n",
            "\u001b[0m\u001b[1;32m     11\u001b[0m         \u001b[0mstart\u001b[0m \u001b[0;34m=\u001b[0m \u001b[0mtime\u001b[0m\u001b[0;34m.\u001b[0m\u001b[0mtime\u001b[0m\u001b[0;34m(\u001b[0m\u001b[0;34m)\u001b[0m\u001b[0;34m\u001b[0m\u001b[0;34m\u001b[0m\u001b[0m\n",
            "\u001b[1;32m     12\u001b[0m         \u001b[0;31m# Take variable\u001b[0m\u001b[0;34m\u001b[0m\u001b[0;34m\u001b[0m\u001b[0m\n",
            "\u001b[1;32m     13\u001b[0m         \u001b[0;34m(\u001b[0m\u001b[0mirms\u001b[0m\u001b[0;34m,\u001b[0m \u001b[0mmasks\u001b[0m\u001b[0;34m,\u001b[0m \u001b[0mpatients\u001b[0m\u001b[0;34m)\u001b[0m \u001b[0;34m=\u001b[0m \u001b[0msample\u001b[0m\u001b[0;34m\u001b[0m\u001b[0;34m\u001b[0m\u001b[0m\n",
            "\n",
            "\u001b[0;32m~/miniconda3/envs/test/lib/python3.12/site-packages/tqdm/std.py\u001b[0m in \u001b[0;36m?\u001b[0;34m(self)\u001b[0m\n",
            "\u001b[1;32m   1192\u001b[0m                         \u001b[0mlast_print_n\u001b[0m \u001b[0;34m=\u001b[0m \u001b[0mself\u001b[0m\u001b[0;34m.\u001b[0m\u001b[0mlast_print_n\u001b[0m\u001b[0;34m\u001b[0m\u001b[0;34m\u001b[0m\u001b[0m\n",
            "\u001b[1;32m   1193\u001b[0m                         \u001b[0mlast_print_t\u001b[0m \u001b[0;34m=\u001b[0m \u001b[0mself\u001b[0m\u001b[0;34m.\u001b[0m\u001b[0mlast_print_t\u001b[0m\u001b[0;34m\u001b[0m\u001b[0;34m\u001b[0m\u001b[0m\n",
            "\u001b[1;32m   1194\u001b[0m         \u001b[0;32mfinally\u001b[0m\u001b[0;34m:\u001b[0m\u001b[0;34m\u001b[0m\u001b[0;34m\u001b[0m\u001b[0m\n",
            "\u001b[1;32m   1195\u001b[0m             \u001b[0mself\u001b[0m\u001b[0;34m.\u001b[0m\u001b[0mn\u001b[0m \u001b[0;34m=\u001b[0m \u001b[0mn\u001b[0m\u001b[0;34m\u001b[0m\u001b[0;34m\u001b[0m\u001b[0m\n",
            "\u001b[0;32m-> 1196\u001b[0;31m             \u001b[0mself\u001b[0m\u001b[0;34m.\u001b[0m\u001b[0mclose\u001b[0m\u001b[0;34m(\u001b[0m\u001b[0;34m)\u001b[0m\u001b[0;34m\u001b[0m\u001b[0;34m\u001b[0m\u001b[0m\n",
            "\u001b[0m\n",
            "\u001b[0;32m~/miniconda3/envs/test/lib/python3.12/site-packages/torch/utils/data/dataloader.py\u001b[0m in \u001b[0;36m?\u001b[0;34m(self)\u001b[0m\n",
            "\u001b[1;32m    626\u001b[0m         \u001b[0;32mwith\u001b[0m \u001b[0mtorch\u001b[0m\u001b[0;34m.\u001b[0m\u001b[0mautograd\u001b[0m\u001b[0;34m.\u001b[0m\u001b[0mprofiler\u001b[0m\u001b[0;34m.\u001b[0m\u001b[0mrecord_function\u001b[0m\u001b[0;34m(\u001b[0m\u001b[0mself\u001b[0m\u001b[0;34m.\u001b[0m\u001b[0m_profile_name\u001b[0m\u001b[0;34m)\u001b[0m\u001b[0;34m:\u001b[0m\u001b[0;34m\u001b[0m\u001b[0;34m\u001b[0m\u001b[0m\n",
            "\u001b[1;32m    627\u001b[0m             \u001b[0;32mif\u001b[0m \u001b[0mself\u001b[0m\u001b[0;34m.\u001b[0m\u001b[0m_sampler_iter\u001b[0m \u001b[0;32mis\u001b[0m \u001b[0;32mNone\u001b[0m\u001b[0;34m:\u001b[0m\u001b[0;34m\u001b[0m\u001b[0;34m\u001b[0m\u001b[0m\n",
            "\u001b[1;32m    628\u001b[0m                 \u001b[0;31m# TODO(https://github.com/pytorch/pytorch/issues/76750)\u001b[0m\u001b[0;34m\u001b[0m\u001b[0;34m\u001b[0m\u001b[0m\n",
            "\u001b[1;32m    629\u001b[0m                 \u001b[0mself\u001b[0m\u001b[0;34m.\u001b[0m\u001b[0m_reset\u001b[0m\u001b[0;34m(\u001b[0m\u001b[0;34m)\u001b[0m  \u001b[0;31m# type: ignore[call-arg]\u001b[0m\u001b[0;34m\u001b[0m\u001b[0;34m\u001b[0m\u001b[0m\n",
            "\u001b[0;32m--> 630\u001b[0;31m             \u001b[0mdata\u001b[0m \u001b[0;34m=\u001b[0m \u001b[0mself\u001b[0m\u001b[0;34m.\u001b[0m\u001b[0m_next_data\u001b[0m\u001b[0;34m(\u001b[0m\u001b[0;34m)\u001b[0m\u001b[0;34m\u001b[0m\u001b[0;34m\u001b[0m\u001b[0m\n",
            "\u001b[0m\u001b[1;32m    631\u001b[0m             \u001b[0mself\u001b[0m\u001b[0;34m.\u001b[0m\u001b[0m_num_yielded\u001b[0m \u001b[0;34m+=\u001b[0m \u001b[0;36m1\u001b[0m\u001b[0;34m\u001b[0m\u001b[0;34m\u001b[0m\u001b[0m\n",
            "\u001b[1;32m    632\u001b[0m             if self._dataset_kind == _DatasetKind.Iterable and \\\n",
            "\u001b[1;32m    633\u001b[0m                     self._IterableDataset_len_called is not None and \\\n",
            "\n",
            "\u001b[0;32m~/miniconda3/envs/test/lib/python3.12/site-packages/torch/utils/data/dataloader.py\u001b[0m in \u001b[0;36m?\u001b[0;34m(self)\u001b[0m\n",
            "\u001b[1;32m    671\u001b[0m     \u001b[0;32mdef\u001b[0m \u001b[0m_next_data\u001b[0m\u001b[0;34m(\u001b[0m\u001b[0mself\u001b[0m\u001b[0;34m)\u001b[0m\u001b[0;34m:\u001b[0m\u001b[0;34m\u001b[0m\u001b[0;34m\u001b[0m\u001b[0m\n",
            "\u001b[1;32m    672\u001b[0m         \u001b[0mindex\u001b[0m \u001b[0;34m=\u001b[0m \u001b[0mself\u001b[0m\u001b[0;34m.\u001b[0m\u001b[0m_next_index\u001b[0m\u001b[0;34m(\u001b[0m\u001b[0;34m)\u001b[0m  \u001b[0;31m# may raise StopIteration\u001b[0m\u001b[0;34m\u001b[0m\u001b[0;34m\u001b[0m\u001b[0m\n",
            "\u001b[0;32m--> 673\u001b[0;31m         \u001b[0mdata\u001b[0m \u001b[0;34m=\u001b[0m \u001b[0mself\u001b[0m\u001b[0;34m.\u001b[0m\u001b[0m_dataset_fetcher\u001b[0m\u001b[0;34m.\u001b[0m\u001b[0mfetch\u001b[0m\u001b[0;34m(\u001b[0m\u001b[0mindex\u001b[0m\u001b[0;34m)\u001b[0m  \u001b[0;31m# may raise StopIteration\u001b[0m\u001b[0;34m\u001b[0m\u001b[0;34m\u001b[0m\u001b[0m\n",
            "\u001b[0m\u001b[1;32m    674\u001b[0m         \u001b[0;32mif\u001b[0m \u001b[0mself\u001b[0m\u001b[0;34m.\u001b[0m\u001b[0m_pin_memory\u001b[0m\u001b[0;34m:\u001b[0m\u001b[0;34m\u001b[0m\u001b[0;34m\u001b[0m\u001b[0m\n",
            "\u001b[1;32m    675\u001b[0m             \u001b[0mdata\u001b[0m \u001b[0;34m=\u001b[0m \u001b[0m_utils\u001b[0m\u001b[0;34m.\u001b[0m\u001b[0mpin_memory\u001b[0m\u001b[0;34m.\u001b[0m\u001b[0mpin_memory\u001b[0m\u001b[0;34m(\u001b[0m\u001b[0mdata\u001b[0m\u001b[0;34m,\u001b[0m \u001b[0mself\u001b[0m\u001b[0;34m.\u001b[0m\u001b[0m_pin_memory_device\u001b[0m\u001b[0;34m)\u001b[0m\u001b[0;34m\u001b[0m\u001b[0;34m\u001b[0m\u001b[0m\n",
            "\u001b[1;32m    676\u001b[0m         \u001b[0;32mreturn\u001b[0m \u001b[0mdata\u001b[0m\u001b[0;34m\u001b[0m\u001b[0;34m\u001b[0m\u001b[0m\n",
            "\n",
            "\u001b[0;32m~/miniconda3/envs/test/lib/python3.12/site-packages/torch/utils/data/_utils/fetch.py\u001b[0m in \u001b[0;36m?\u001b[0;34m(self, possibly_batched_index)\u001b[0m\n",
            "\u001b[1;32m     48\u001b[0m         \u001b[0;32mif\u001b[0m \u001b[0mself\u001b[0m\u001b[0;34m.\u001b[0m\u001b[0mauto_collation\u001b[0m\u001b[0;34m:\u001b[0m\u001b[0;34m\u001b[0m\u001b[0;34m\u001b[0m\u001b[0m\n",
            "\u001b[1;32m     49\u001b[0m             \u001b[0;32mif\u001b[0m \u001b[0mhasattr\u001b[0m\u001b[0;34m(\u001b[0m\u001b[0mself\u001b[0m\u001b[0;34m.\u001b[0m\u001b[0mdataset\u001b[0m\u001b[0;34m,\u001b[0m \u001b[0;34m\"__getitems__\"\u001b[0m\u001b[0;34m)\u001b[0m \u001b[0;32mand\u001b[0m \u001b[0mself\u001b[0m\u001b[0;34m.\u001b[0m\u001b[0mdataset\u001b[0m\u001b[0;34m.\u001b[0m\u001b[0m__getitems__\u001b[0m\u001b[0;34m:\u001b[0m\u001b[0;34m\u001b[0m\u001b[0;34m\u001b[0m\u001b[0m\n",
            "\u001b[1;32m     50\u001b[0m                 \u001b[0mdata\u001b[0m \u001b[0;34m=\u001b[0m \u001b[0mself\u001b[0m\u001b[0;34m.\u001b[0m\u001b[0mdataset\u001b[0m\u001b[0;34m.\u001b[0m\u001b[0m__getitems__\u001b[0m\u001b[0;34m(\u001b[0m\u001b[0mpossibly_batched_index\u001b[0m\u001b[0;34m)\u001b[0m\u001b[0;34m\u001b[0m\u001b[0;34m\u001b[0m\u001b[0m\n",
            "\u001b[1;32m     51\u001b[0m             \u001b[0;32melse\u001b[0m\u001b[0;34m:\u001b[0m\u001b[0;34m\u001b[0m\u001b[0;34m\u001b[0m\u001b[0m\n",
            "\u001b[0;32m---> 52\u001b[0;31m                 \u001b[0mdata\u001b[0m \u001b[0;34m=\u001b[0m \u001b[0;34m[\u001b[0m\u001b[0mself\u001b[0m\u001b[0;34m.\u001b[0m\u001b[0mdataset\u001b[0m\u001b[0;34m[\u001b[0m\u001b[0midx\u001b[0m\u001b[0;34m]\u001b[0m \u001b[0;32mfor\u001b[0m \u001b[0midx\u001b[0m \u001b[0;32min\u001b[0m \u001b[0mpossibly_batched_index\u001b[0m\u001b[0;34m]\u001b[0m\u001b[0;34m\u001b[0m\u001b[0;34m\u001b[0m\u001b[0m\n",
            "\u001b[0m\u001b[1;32m     53\u001b[0m         \u001b[0;32melse\u001b[0m\u001b[0;34m:\u001b[0m\u001b[0;34m\u001b[0m\u001b[0;34m\u001b[0m\u001b[0m\n",
            "\u001b[1;32m     54\u001b[0m             \u001b[0mdata\u001b[0m \u001b[0;34m=\u001b[0m \u001b[0mself\u001b[0m\u001b[0;34m.\u001b[0m\u001b[0mdataset\u001b[0m\u001b[0;34m[\u001b[0m\u001b[0mpossibly_batched_index\u001b[0m\u001b[0;34m]\u001b[0m\u001b[0;34m\u001b[0m\u001b[0;34m\u001b[0m\u001b[0m\n",
            "\u001b[1;32m     55\u001b[0m         \u001b[0;32mreturn\u001b[0m \u001b[0mself\u001b[0m\u001b[0;34m.\u001b[0m\u001b[0mcollate_fn\u001b[0m\u001b[0;34m(\u001b[0m\u001b[0mdata\u001b[0m\u001b[0;34m)\u001b[0m\u001b[0;34m\u001b[0m\u001b[0;34m\u001b[0m\u001b[0m\n",
            "\n",
            "\u001b[0;32m/var/folders/jf/by73pf5n03nb93hx_qcks6wc0000gp/T/ipykernel_20380/1736924339.py\u001b[0m in \u001b[0;36m?\u001b[0;34m(self, idx)\u001b[0m\n",
            "\u001b[1;32m     15\u001b[0m         \u001b[0;34m'Get a patient given idx'\u001b[0m\u001b[0;34m\u001b[0m\u001b[0;34m\u001b[0m\u001b[0m\n",
            "\u001b[1;32m     16\u001b[0m         \u001b[0mpatient\u001b[0m \u001b[0;34m=\u001b[0m \u001b[0mself\u001b[0m\u001b[0;34m.\u001b[0m\u001b[0mfiles_list\u001b[0m\u001b[0;34m[\u001b[0m\u001b[0midx\u001b[0m\u001b[0;34m]\u001b[0m\u001b[0;34m\u001b[0m\u001b[0;34m\u001b[0m\u001b[0m\n",
            "\u001b[1;32m     17\u001b[0m \u001b[0;34m\u001b[0m\u001b[0m\n",
            "\u001b[1;32m     18\u001b[0m         \u001b[0;31m# Load the patient's modalities and segmentation masks\u001b[0m\u001b[0;34m\u001b[0m\u001b[0;34m\u001b[0m\u001b[0m\n",
            "\u001b[0;32m---> 19\u001b[0;31m         \u001b[0mirm\u001b[0m\u001b[0;34m,\u001b[0m \u001b[0mmask\u001b[0m \u001b[0;34m=\u001b[0m \u001b[0mself\u001b[0m\u001b[0;34m.\u001b[0m\u001b[0mload\u001b[0m\u001b[0;34m(\u001b[0m\u001b[0mpatient\u001b[0m\u001b[0;34m)\u001b[0m\u001b[0;34m\u001b[0m\u001b[0;34m\u001b[0m\u001b[0m\n",
            "\u001b[0m\u001b[1;32m     20\u001b[0m         \u001b[0msample\u001b[0m \u001b[0;34m=\u001b[0m \u001b[0;34m(\u001b[0m\u001b[0mirm\u001b[0m\u001b[0;34m,\u001b[0m \u001b[0mmask\u001b[0m\u001b[0;34m)\u001b[0m\u001b[0;34m\u001b[0m\u001b[0;34m\u001b[0m\u001b[0m\n",
            "\u001b[1;32m     21\u001b[0m \u001b[0;34m\u001b[0m\u001b[0m\n",
            "\u001b[1;32m     22\u001b[0m         \u001b[0;31m# Apply data transformation\u001b[0m\u001b[0;34m\u001b[0m\u001b[0;34m\u001b[0m\u001b[0m\n",
            "\n",
            "\u001b[0;32m/var/folders/jf/by73pf5n03nb93hx_qcks6wc0000gp/T/ipykernel_20380/1736924339.py\u001b[0m in \u001b[0;36m?\u001b[0;34m(self, ID)\u001b[0m\n",
            "\u001b[1;32m     33\u001b[0m         \u001b[0mirm\u001b[0m \u001b[0;34m=\u001b[0m \u001b[0;34m[\u001b[0m\u001b[0;34m]\u001b[0m\u001b[0;34m\u001b[0m\u001b[0;34m\u001b[0m\u001b[0m\n",
            "\u001b[1;32m     34\u001b[0m         \u001b[0;32mfor\u001b[0m \u001b[0mmodality\u001b[0m \u001b[0;32min\u001b[0m \u001b[0mself\u001b[0m\u001b[0;34m.\u001b[0m\u001b[0mmodalities\u001b[0m\u001b[0;34m:\u001b[0m\u001b[0;34m\u001b[0m\u001b[0;34m\u001b[0m\u001b[0m\n",
            "\u001b[1;32m     35\u001b[0m             \u001b[0mfile_name\u001b[0m \u001b[0;34m=\u001b[0m \u001b[0;34m\"{patient}_{modality}_z_{z_slice}.nii.gz\"\u001b[0m\u001b[0;34m.\u001b[0m\u001b[0mformat\u001b[0m\u001b[0;34m(\u001b[0m\u001b[0mpatient\u001b[0m\u001b[0;34m=\u001b[0m\u001b[0mpatient\u001b[0m\u001b[0;34m,\u001b[0m \u001b[0mmodality\u001b[0m\u001b[0;34m=\u001b[0m\u001b[0mmodality\u001b[0m\u001b[0;34m,\u001b[0m \u001b[0mz_slice\u001b[0m\u001b[0;34m=\u001b[0m\u001b[0mz_slice\u001b[0m\u001b[0;34m)\u001b[0m\u001b[0;34m\u001b[0m\u001b[0;34m\u001b[0m\u001b[0m\n",
            "\u001b[1;32m     36\u001b[0m             \u001b[0mpath\u001b[0m \u001b[0;34m=\u001b[0m \u001b[0mos\u001b[0m\u001b[0;34m.\u001b[0m\u001b[0mpath\u001b[0m\u001b[0;34m.\u001b[0m\u001b[0mjoin\u001b[0m\u001b[0;34m(\u001b[0m\u001b[0mpatient_path\u001b[0m\u001b[0;34m,\u001b[0m \u001b[0mfile_name\u001b[0m\u001b[0;34m)\u001b[0m\u001b[0;34m\u001b[0m\u001b[0;34m\u001b[0m\u001b[0m\n",
            "\u001b[0;32m---> 37\u001b[0;31m             \u001b[0mirm\u001b[0m\u001b[0;34m.\u001b[0m\u001b[0mappend\u001b[0m\u001b[0;34m(\u001b[0m\u001b[0mload_sitk\u001b[0m\u001b[0;34m(\u001b[0m\u001b[0mpath\u001b[0m\u001b[0;34m)\u001b[0m\u001b[0;34m)\u001b[0m\u001b[0;34m\u001b[0m\u001b[0;34m\u001b[0m\u001b[0m\n",
            "\u001b[0m\u001b[1;32m     38\u001b[0m         \u001b[0mirm\u001b[0m \u001b[0;34m=\u001b[0m \u001b[0mnp\u001b[0m\u001b[0;34m.\u001b[0m\u001b[0mstack\u001b[0m\u001b[0;34m(\u001b[0m\u001b[0mirm\u001b[0m\u001b[0;34m,\u001b[0m \u001b[0maxis\u001b[0m\u001b[0;34m=\u001b[0m\u001b[0;36m0\u001b[0m\u001b[0;34m)\u001b[0m\u001b[0;34m\u001b[0m\u001b[0;34m\u001b[0m\u001b[0m\n",
            "\u001b[1;32m     39\u001b[0m \u001b[0;34m\u001b[0m\u001b[0m\n",
            "\u001b[1;32m     40\u001b[0m         \u001b[0;31m# Get the segmentation mask for the given slice\u001b[0m\u001b[0;34m\u001b[0m\u001b[0;34m\u001b[0m\u001b[0m\n",
            "\n",
            "\u001b[0;32m/var/folders/jf/by73pf5n03nb93hx_qcks6wc0000gp/T/ipykernel_20380/3605636057.py\u001b[0m in \u001b[0;36m?\u001b[0;34m(path)\u001b[0m\n",
            "\u001b[1;32m     15\u001b[0m \u001b[0;32mdef\u001b[0m \u001b[0mload_sitk\u001b[0m\u001b[0;34m(\u001b[0m\u001b[0mpath\u001b[0m\u001b[0;34m)\u001b[0m\u001b[0;34m:\u001b[0m\u001b[0;34m\u001b[0m\u001b[0;34m\u001b[0m\u001b[0m\n",
            "\u001b[0;32m---> 16\u001b[0;31m     \u001b[0;32mreturn\u001b[0m \u001b[0msitk\u001b[0m\u001b[0;34m.\u001b[0m\u001b[0mGetArrayFromImage\u001b[0m\u001b[0;34m(\u001b[0m\u001b[0msitk\u001b[0m\u001b[0;34m.\u001b[0m\u001b[0mReadImage\u001b[0m\u001b[0;34m(\u001b[0m\u001b[0mpath\u001b[0m\u001b[0;34m)\u001b[0m\u001b[0;34m)\u001b[0m\u001b[0;34m\u001b[0m\u001b[0;34m\u001b[0m\u001b[0m\n",
            "\u001b[0m\n",
            "\u001b[0;32m~/miniconda3/envs/test/lib/python3.12/site-packages/SimpleITK/extra.py\u001b[0m in \u001b[0;36m?\u001b[0;34m(fileName, outputPixelType, imageIO)\u001b[0m\n",
            "\u001b[1;32m    380\u001b[0m         \u001b[0mreader\u001b[0m\u001b[0;34m.\u001b[0m\u001b[0mSetFileNames\u001b[0m\u001b[0;34m(\u001b[0m\u001b[0mfileName\u001b[0m\u001b[0;34m)\u001b[0m\u001b[0;34m\u001b[0m\u001b[0;34m\u001b[0m\u001b[0m\n",
            "\u001b[1;32m    381\u001b[0m \u001b[0;34m\u001b[0m\u001b[0m\n",
            "\u001b[1;32m    382\u001b[0m     \u001b[0mreader\u001b[0m\u001b[0;34m.\u001b[0m\u001b[0mSetImageIO\u001b[0m\u001b[0;34m(\u001b[0m\u001b[0mimageIO\u001b[0m\u001b[0;34m)\u001b[0m\u001b[0;34m\u001b[0m\u001b[0;34m\u001b[0m\u001b[0m\n",
            "\u001b[1;32m    383\u001b[0m     \u001b[0mreader\u001b[0m\u001b[0;34m.\u001b[0m\u001b[0mSetOutputPixelType\u001b[0m\u001b[0;34m(\u001b[0m\u001b[0moutputPixelType\u001b[0m\u001b[0;34m)\u001b[0m\u001b[0;34m\u001b[0m\u001b[0;34m\u001b[0m\u001b[0m\n",
            "\u001b[0;32m--> 384\u001b[0;31m     \u001b[0;32mreturn\u001b[0m \u001b[0mreader\u001b[0m\u001b[0;34m.\u001b[0m\u001b[0mExecute\u001b[0m\u001b[0;34m(\u001b[0m\u001b[0;34m)\u001b[0m\u001b[0;34m\u001b[0m\u001b[0;34m\u001b[0m\u001b[0m\n",
            "\u001b[0m\n",
            "\u001b[0;32m~/miniconda3/envs/test/lib/python3.12/site-packages/SimpleITK/SimpleITK.py\u001b[0m in \u001b[0;36m?\u001b[0;34m(self)\u001b[0m\n",
            "\u001b[1;32m   8498\u001b[0m         \u001b[0mtype\u001b[0m \u001b[0mto\u001b[0m \u001b[0mbe\u001b[0m \u001b[0msame\u001b[0m \u001b[0;32mas\u001b[0m \u001b[0mthe\u001b[0m \u001b[0mfile\u001b[0m\u001b[0;34m.\u001b[0m \u001b[0mIf\u001b[0m \u001b[0mthe\u001b[0m \u001b[0mpixel\u001b[0m \u001b[0mtype\u001b[0m \u001b[0;32mis\u001b[0m \u001b[0mspecified\u001b[0m \u001b[0mthen\u001b[0m \u001b[0mthe\u001b[0m \u001b[0mitk\u001b[0m\u001b[0;34m:\u001b[0m\u001b[0;34m:\u001b[0m\u001b[0mConvertPixelBuffer\u001b[0m \u001b[0mwill\u001b[0m \u001b[0mbe\u001b[0m \u001b[0mused\u001b[0m \u001b[0mto\u001b[0m \u001b[0mconvert\u001b[0m \u001b[0mthe\u001b[0m \u001b[0mpixels\u001b[0m\u001b[0;34m.\u001b[0m\u001b[0;34m\u001b[0m\u001b[0;34m\u001b[0m\u001b[0m\n",
            "\u001b[1;32m   8499\u001b[0m \u001b[0;34m\u001b[0m\u001b[0m\n",
            "\u001b[1;32m   8500\u001b[0m \u001b[0;34m\u001b[0m\u001b[0m\n",
            "\u001b[1;32m   8501\u001b[0m         \"\"\"\n",
            "\u001b[0;32m-> 8502\u001b[0;31m         \u001b[0;32mreturn\u001b[0m \u001b[0m_SimpleITK\u001b[0m\u001b[0;34m.\u001b[0m\u001b[0mImageFileReader_Execute\u001b[0m\u001b[0;34m(\u001b[0m\u001b[0mself\u001b[0m\u001b[0;34m)\u001b[0m\u001b[0;34m\u001b[0m\u001b[0;34m\u001b[0m\u001b[0m\n",
            "\u001b[0m\n",
            "\u001b[0;31mKeyboardInterrupt\u001b[0m: "
          ]
        }
      ],
      "source": [
        "learning_curves = {\"train\": [],\n",
        "                   \"validation\": []}\n",
        "\n",
        "for epoch in range(epochs):  # loop over the dataset multiple times\n",
        "    # print('******** Epoch [{}/{}]  ********'.format(epoch+1, epochs+1))\n",
        "\n",
        "    model.train()\n",
        "\n",
        "    # train for one epoch\n",
        "    train_loss_ = train_loop(train_loader, model, criterion, optimizer, writer, epoch)\n",
        "\n",
        "\n",
        "    # evaluate on validation set\n",
        "    with torch.no_grad():   # Disable gradient computation (faster and saves memory)\n",
        "        model.eval()        # Disable Dropout and BatchNormalization\n",
        "        val_loss = train_loop(val_loader, model, criterion, optimizer, writer, epoch)\n",
        "\n",
        "    learning_curves['train'] += [train_loss_.item()]\n",
        "    learning_curves['validation'] += [val_loss.item()]\n",
        "\n",
        "    # Visualisez les courbes d'apprentissage\n",
        "    plt.figure(figsize=(5, 5))\n",
        "    plt.plot(learning_curves['train'], '-*', label=\"train\")\n",
        "    plt.plot(learning_curves['validation'], '--*', label=\"validation\")\n",
        "    plt.xlabel(\"Epoch\")\n",
        "    plt.ylabel(\"Loss value\")\n",
        "    plt.legend()\n",
        "    plt.title(f\"Learning curves - Epoch: {epoch}\")\n",
        "    plt.show()\n",
        "    clear_output(wait=True)\n",
        "\n",
        "    # if save_model and epoch % save_frequency == 0:\n",
        "        # save_checkpoint({'epoch': epoch,\n",
        "        #                 'state_dict': model.state_dict(),\n",
        "        #                  'val_loss': val_loss,\n",
        "        #                  'optimizer': optimizer.state_dict()}, model_path)\n"
      ]
    },
    {
      "cell_type": "code",
      "execution_count": null,
      "metadata": {},
      "outputs": [],
      "source": [
        "# Load the saved checkpoint\n",
        "checkpoint = torch.load('model_checkpoint_2.pth')\n",
        "\n",
        "# Load the state_dict into the model\n",
        "model.load_state_dict(checkpoint['model_state_dict'])"
      ]
    },
    {
      "cell_type": "code",
      "execution_count": null,
      "metadata": {},
      "outputs": [
        {
          "name": "stderr",
          "output_type": "stream",
          "text": [
            "  1%|          | 23/3276 [00:03<08:16,  6.55it/s] \n"
          ]
        },
        {
          "ename": "KeyboardInterrupt",
          "evalue": "",
          "output_type": "error",
          "traceback": [
            "\u001b[0;31m---------------------------------------------------------------------------\u001b[0m\n",
            "\u001b[0;31mKeyboardInterrupt\u001b[0m                         Traceback (most recent call last)\n",
            "Cell \u001b[0;32mIn[83], line 7\u001b[0m\n",
            "\u001b[1;32m      5\u001b[0m model\u001b[38;5;241m.\u001b[39meval()\n",
            "\u001b[1;32m      6\u001b[0m \u001b[38;5;28;01mwith\u001b[39;00m torch\u001b[38;5;241m.\u001b[39mno_grad():\n",
            "\u001b[0;32m----> 7\u001b[0m     preds \u001b[38;5;241m=\u001b[39m \u001b[43mpredict\u001b[49m\u001b[43m(\u001b[49m\u001b[43mtest_loader\u001b[49m\u001b[43m,\u001b[49m\u001b[43m \u001b[49m\u001b[43mmodel\u001b[49m\u001b[43m,\u001b[49m\u001b[43m \u001b[49m\u001b[43mbatch_size\u001b[49m\u001b[38;5;241;43m=\u001b[39;49m\u001b[43mbatch_size\u001b[49m\u001b[43m)\u001b[49m\n",
            "\u001b[1;32m      9\u001b[0m \u001b[38;5;28;01mfor\u001b[39;00m patient \u001b[38;5;129;01min\u001b[39;00m patients:\n",
            "\u001b[1;32m     10\u001b[0m     \u001b[38;5;66;03m# Path to original image\u001b[39;00m\n",
            "\u001b[1;32m     11\u001b[0m     patient_folder \u001b[38;5;241m=\u001b[39m os\u001b[38;5;241m.\u001b[39mpath\u001b[38;5;241m.\u001b[39mjoin(test_path,patient)\n",
            "\n",
            "Cell \u001b[0;32mIn[57], line 13\u001b[0m, in \u001b[0;36mpredict\u001b[0;34m(loader, model, batch_size)\u001b[0m\n",
            "\u001b[1;32m     10\u001b[0m batch_patient_names, batch_z_slices \u001b[38;5;241m=\u001b[39m patients[\u001b[38;5;241m0\u001b[39m], patients[\u001b[38;5;241m1\u001b[39m]\n",
            "\u001b[1;32m     12\u001b[0m \u001b[38;5;66;03m# compute output\u001b[39;00m\n",
            "\u001b[0;32m---> 13\u001b[0m pred_masks \u001b[38;5;241m=\u001b[39m \u001b[43mmodel\u001b[49m\u001b[43m(\u001b[49m\u001b[43mirms\u001b[49m\u001b[43m)\u001b[49m\n",
            "\u001b[1;32m     15\u001b[0m \u001b[38;5;66;03m# Put the predictions in a dictionnary with one key being the\u001b[39;00m\n",
            "\u001b[1;32m     16\u001b[0m \u001b[38;5;66;03m# patient and the z slice\u001b[39;00m\n",
            "\u001b[1;32m     17\u001b[0m n_batch \u001b[38;5;241m=\u001b[39m \u001b[38;5;28mlen\u001b[39m(pred_masks)\n",
            "\n",
            "File \u001b[0;32m~/miniconda3/envs/test/lib/python3.12/site-packages/torch/nn/modules/module.py:1553\u001b[0m, in \u001b[0;36mModule._wrapped_call_impl\u001b[0;34m(self, *args, **kwargs)\u001b[0m\n",
            "\u001b[1;32m   1551\u001b[0m     \u001b[38;5;28;01mreturn\u001b[39;00m \u001b[38;5;28mself\u001b[39m\u001b[38;5;241m.\u001b[39m_compiled_call_impl(\u001b[38;5;241m*\u001b[39margs, \u001b[38;5;241m*\u001b[39m\u001b[38;5;241m*\u001b[39mkwargs)  \u001b[38;5;66;03m# type: ignore[misc]\u001b[39;00m\n",
            "\u001b[1;32m   1552\u001b[0m \u001b[38;5;28;01melse\u001b[39;00m:\n",
            "\u001b[0;32m-> 1553\u001b[0m     \u001b[38;5;28;01mreturn\u001b[39;00m \u001b[38;5;28;43mself\u001b[39;49m\u001b[38;5;241;43m.\u001b[39;49m\u001b[43m_call_impl\u001b[49m\u001b[43m(\u001b[49m\u001b[38;5;241;43m*\u001b[39;49m\u001b[43margs\u001b[49m\u001b[43m,\u001b[49m\u001b[43m \u001b[49m\u001b[38;5;241;43m*\u001b[39;49m\u001b[38;5;241;43m*\u001b[39;49m\u001b[43mkwargs\u001b[49m\u001b[43m)\u001b[49m\n",
            "\n",
            "File \u001b[0;32m~/miniconda3/envs/test/lib/python3.12/site-packages/torch/nn/modules/module.py:1562\u001b[0m, in \u001b[0;36mModule._call_impl\u001b[0;34m(self, *args, **kwargs)\u001b[0m\n",
            "\u001b[1;32m   1557\u001b[0m \u001b[38;5;66;03m# If we don't have any hooks, we want to skip the rest of the logic in\u001b[39;00m\n",
            "\u001b[1;32m   1558\u001b[0m \u001b[38;5;66;03m# this function, and just call forward.\u001b[39;00m\n",
            "\u001b[1;32m   1559\u001b[0m \u001b[38;5;28;01mif\u001b[39;00m \u001b[38;5;129;01mnot\u001b[39;00m (\u001b[38;5;28mself\u001b[39m\u001b[38;5;241m.\u001b[39m_backward_hooks \u001b[38;5;129;01mor\u001b[39;00m \u001b[38;5;28mself\u001b[39m\u001b[38;5;241m.\u001b[39m_backward_pre_hooks \u001b[38;5;129;01mor\u001b[39;00m \u001b[38;5;28mself\u001b[39m\u001b[38;5;241m.\u001b[39m_forward_hooks \u001b[38;5;129;01mor\u001b[39;00m \u001b[38;5;28mself\u001b[39m\u001b[38;5;241m.\u001b[39m_forward_pre_hooks\n",
            "\u001b[1;32m   1560\u001b[0m         \u001b[38;5;129;01mor\u001b[39;00m _global_backward_pre_hooks \u001b[38;5;129;01mor\u001b[39;00m _global_backward_hooks\n",
            "\u001b[1;32m   1561\u001b[0m         \u001b[38;5;129;01mor\u001b[39;00m _global_forward_hooks \u001b[38;5;129;01mor\u001b[39;00m _global_forward_pre_hooks):\n",
            "\u001b[0;32m-> 1562\u001b[0m     \u001b[38;5;28;01mreturn\u001b[39;00m \u001b[43mforward_call\u001b[49m\u001b[43m(\u001b[49m\u001b[38;5;241;43m*\u001b[39;49m\u001b[43margs\u001b[49m\u001b[43m,\u001b[49m\u001b[43m \u001b[49m\u001b[38;5;241;43m*\u001b[39;49m\u001b[38;5;241;43m*\u001b[39;49m\u001b[43mkwargs\u001b[49m\u001b[43m)\u001b[49m\n",
            "\u001b[1;32m   1564\u001b[0m \u001b[38;5;28;01mtry\u001b[39;00m:\n",
            "\u001b[1;32m   1565\u001b[0m     result \u001b[38;5;241m=\u001b[39m \u001b[38;5;28;01mNone\u001b[39;00m\n",
            "\n",
            "File \u001b[0;32m~/Downloads/BraTs_models/pytorch/models/deeplab.py:286\u001b[0m, in \u001b[0;36mDeeplab_V3_Plus.forward\u001b[0;34m(self, x)\u001b[0m\n",
            "\u001b[1;32m    284\u001b[0m y, low_y \u001b[38;5;241m=\u001b[39m \u001b[38;5;28mself\u001b[39m\u001b[38;5;241m.\u001b[39mresnet(x)\n",
            "\u001b[1;32m    285\u001b[0m low_y \u001b[38;5;241m=\u001b[39m \u001b[38;5;28mself\u001b[39m\u001b[38;5;241m.\u001b[39mconv0(low_y)\n",
            "\u001b[0;32m--> 286\u001b[0m y \u001b[38;5;241m=\u001b[39m \u001b[38;5;28;43mself\u001b[39;49m\u001b[38;5;241;43m.\u001b[39;49m\u001b[43mencoder\u001b[49m\u001b[43m(\u001b[49m\u001b[43my\u001b[49m\u001b[43m)\u001b[49m\n",
            "\u001b[1;32m    287\u001b[0m y \u001b[38;5;241m=\u001b[39m torch\u001b[38;5;241m.\u001b[39mcat([low_y, y], dim\u001b[38;5;241m=\u001b[39m\u001b[38;5;241m1\u001b[39m)\n",
            "\u001b[1;32m    288\u001b[0m y \u001b[38;5;241m=\u001b[39m \u001b[38;5;28mself\u001b[39m\u001b[38;5;241m.\u001b[39mconv1(y)\n",
            "\n",
            "File \u001b[0;32m~/miniconda3/envs/test/lib/python3.12/site-packages/torch/nn/modules/module.py:1553\u001b[0m, in \u001b[0;36mModule._wrapped_call_impl\u001b[0;34m(self, *args, **kwargs)\u001b[0m\n",
            "\u001b[1;32m   1551\u001b[0m     \u001b[38;5;28;01mreturn\u001b[39;00m \u001b[38;5;28mself\u001b[39m\u001b[38;5;241m.\u001b[39m_compiled_call_impl(\u001b[38;5;241m*\u001b[39margs, \u001b[38;5;241m*\u001b[39m\u001b[38;5;241m*\u001b[39mkwargs)  \u001b[38;5;66;03m# type: ignore[misc]\u001b[39;00m\n",
            "\u001b[1;32m   1552\u001b[0m \u001b[38;5;28;01melse\u001b[39;00m:\n",
            "\u001b[0;32m-> 1553\u001b[0m     \u001b[38;5;28;01mreturn\u001b[39;00m \u001b[38;5;28;43mself\u001b[39;49m\u001b[38;5;241;43m.\u001b[39;49m\u001b[43m_call_impl\u001b[49m\u001b[43m(\u001b[49m\u001b[38;5;241;43m*\u001b[39;49m\u001b[43margs\u001b[49m\u001b[43m,\u001b[49m\u001b[43m \u001b[49m\u001b[38;5;241;43m*\u001b[39;49m\u001b[38;5;241;43m*\u001b[39;49m\u001b[43mkwargs\u001b[49m\u001b[43m)\u001b[49m\n",
            "\n",
            "File \u001b[0;32m~/miniconda3/envs/test/lib/python3.12/site-packages/torch/nn/modules/module.py:1562\u001b[0m, in \u001b[0;36mModule._call_impl\u001b[0;34m(self, *args, **kwargs)\u001b[0m\n",
            "\u001b[1;32m   1557\u001b[0m \u001b[38;5;66;03m# If we don't have any hooks, we want to skip the rest of the logic in\u001b[39;00m\n",
            "\u001b[1;32m   1558\u001b[0m \u001b[38;5;66;03m# this function, and just call forward.\u001b[39;00m\n",
            "\u001b[1;32m   1559\u001b[0m \u001b[38;5;28;01mif\u001b[39;00m \u001b[38;5;129;01mnot\u001b[39;00m (\u001b[38;5;28mself\u001b[39m\u001b[38;5;241m.\u001b[39m_backward_hooks \u001b[38;5;129;01mor\u001b[39;00m \u001b[38;5;28mself\u001b[39m\u001b[38;5;241m.\u001b[39m_backward_pre_hooks \u001b[38;5;129;01mor\u001b[39;00m \u001b[38;5;28mself\u001b[39m\u001b[38;5;241m.\u001b[39m_forward_hooks \u001b[38;5;129;01mor\u001b[39;00m \u001b[38;5;28mself\u001b[39m\u001b[38;5;241m.\u001b[39m_forward_pre_hooks\n",
            "\u001b[1;32m   1560\u001b[0m         \u001b[38;5;129;01mor\u001b[39;00m _global_backward_pre_hooks \u001b[38;5;129;01mor\u001b[39;00m _global_backward_hooks\n",
            "\u001b[1;32m   1561\u001b[0m         \u001b[38;5;129;01mor\u001b[39;00m _global_forward_hooks \u001b[38;5;129;01mor\u001b[39;00m _global_forward_pre_hooks):\n",
            "\u001b[0;32m-> 1562\u001b[0m     \u001b[38;5;28;01mreturn\u001b[39;00m \u001b[43mforward_call\u001b[49m\u001b[43m(\u001b[49m\u001b[38;5;241;43m*\u001b[39;49m\u001b[43margs\u001b[49m\u001b[43m,\u001b[49m\u001b[43m \u001b[49m\u001b[38;5;241;43m*\u001b[39;49m\u001b[38;5;241;43m*\u001b[39;49m\u001b[43mkwargs\u001b[49m\u001b[43m)\u001b[49m\n",
            "\u001b[1;32m   1564\u001b[0m \u001b[38;5;28;01mtry\u001b[39;00m:\n",
            "\u001b[1;32m   1565\u001b[0m     result \u001b[38;5;241m=\u001b[39m \u001b[38;5;28;01mNone\u001b[39;00m\n",
            "\n",
            "File \u001b[0;32m~/Downloads/BraTs_models/pytorch/models/deeplab.py:262\u001b[0m, in \u001b[0;36mEncoder.forward\u001b[0;34m(self, x)\u001b[0m\n",
            "\u001b[1;32m    260\u001b[0m y5 \u001b[38;5;241m=\u001b[39m \u001b[38;5;28mself\u001b[39m\u001b[38;5;241m.\u001b[39mavgpool(x)\n",
            "\u001b[1;32m    261\u001b[0m y5 \u001b[38;5;241m=\u001b[39m \u001b[38;5;28mself\u001b[39m\u001b[38;5;241m.\u001b[39mconv2(y5)\n",
            "\u001b[0;32m--> 262\u001b[0m y5 \u001b[38;5;241m=\u001b[39m \u001b[43minterpolate\u001b[49m\u001b[43m(\u001b[49m\u001b[43my5\u001b[49m\u001b[43m,\u001b[49m\u001b[43m \u001b[49m\u001b[43mscale_factor\u001b[49m\u001b[38;5;241;43m=\u001b[39;49m\u001b[38;5;241;43m2\u001b[39;49m\u001b[43m,\u001b[49m\u001b[43m \u001b[49m\u001b[43mmode\u001b[49m\u001b[38;5;241;43m=\u001b[39;49m\u001b[38;5;124;43m'\u001b[39;49m\u001b[38;5;124;43mbilinear\u001b[39;49m\u001b[38;5;124;43m'\u001b[39;49m\u001b[43m,\u001b[49m\u001b[43m \u001b[49m\u001b[43malign_corners\u001b[49m\u001b[38;5;241;43m=\u001b[39;49m\u001b[38;5;28;43;01mTrue\u001b[39;49;00m\u001b[43m)\u001b[49m\n",
            "\u001b[1;32m    264\u001b[0m y \u001b[38;5;241m=\u001b[39m torch\u001b[38;5;241m.\u001b[39mcat([y1, y2, y3, y4], dim\u001b[38;5;241m=\u001b[39m\u001b[38;5;241m1\u001b[39m)\n",
            "\u001b[1;32m    265\u001b[0m y \u001b[38;5;241m=\u001b[39m \u001b[38;5;28mself\u001b[39m\u001b[38;5;241m.\u001b[39mconv_cat(y)\n",
            "\n",
            "File \u001b[0;32m~/miniconda3/envs/test/lib/python3.12/site-packages/torch/nn/functional.py:4087\u001b[0m, in \u001b[0;36minterpolate\u001b[0;34m(input, size, scale_factor, mode, align_corners, recompute_scale_factor, antialias)\u001b[0m\n",
            "\u001b[1;32m   4081\u001b[0m         \u001b[38;5;28;01mif\u001b[39;00m torch\u001b[38;5;241m.\u001b[39mare_deterministic_algorithms_enabled() \u001b[38;5;129;01mand\u001b[39;00m \u001b[38;5;28minput\u001b[39m\u001b[38;5;241m.\u001b[39mis_cuda:\n",
            "\u001b[1;32m   4082\u001b[0m             \u001b[38;5;66;03m# Use slow decomp whose backward will be in terms of index_put\u001b[39;00m\n",
            "\u001b[1;32m   4083\u001b[0m             \u001b[38;5;66;03m# importlib is required because the import cannot be top level\u001b[39;00m\n",
            "\u001b[1;32m   4084\u001b[0m             \u001b[38;5;66;03m# (cycle) and cannot be nested (TS doesn't support)\u001b[39;00m\n",
            "\u001b[1;32m   4085\u001b[0m             \u001b[38;5;28;01mreturn\u001b[39;00m importlib\u001b[38;5;241m.\u001b[39mimport_module(\u001b[38;5;124m'\u001b[39m\u001b[38;5;124mtorch._decomp.decompositions\u001b[39m\u001b[38;5;124m'\u001b[39m)\u001b[38;5;241m.\u001b[39m_upsample_linear_vec(\n",
            "\u001b[1;32m   4086\u001b[0m                 \u001b[38;5;28minput\u001b[39m, output_size, align_corners, scale_factors)\n",
            "\u001b[0;32m-> 4087\u001b[0m     \u001b[38;5;28;01mreturn\u001b[39;00m \u001b[43mtorch\u001b[49m\u001b[38;5;241;43m.\u001b[39;49m\u001b[43m_C\u001b[49m\u001b[38;5;241;43m.\u001b[39;49m\u001b[43m_nn\u001b[49m\u001b[38;5;241;43m.\u001b[39;49m\u001b[43mupsample_bilinear2d\u001b[49m\u001b[43m(\u001b[49m\u001b[38;5;28;43minput\u001b[39;49m\u001b[43m,\u001b[49m\u001b[43m \u001b[49m\u001b[43moutput_size\u001b[49m\u001b[43m,\u001b[49m\u001b[43m \u001b[49m\u001b[43malign_corners\u001b[49m\u001b[43m,\u001b[49m\u001b[43m \u001b[49m\u001b[43mscale_factors\u001b[49m\u001b[43m)\u001b[49m\n",
            "\u001b[1;32m   4088\u001b[0m \u001b[38;5;28;01mif\u001b[39;00m \u001b[38;5;28minput\u001b[39m\u001b[38;5;241m.\u001b[39mdim() \u001b[38;5;241m==\u001b[39m \u001b[38;5;241m5\u001b[39m \u001b[38;5;129;01mand\u001b[39;00m mode \u001b[38;5;241m==\u001b[39m \u001b[38;5;124m\"\u001b[39m\u001b[38;5;124mtrilinear\u001b[39m\u001b[38;5;124m\"\u001b[39m:\n",
            "\u001b[1;32m   4089\u001b[0m     \u001b[38;5;28;01massert\u001b[39;00m align_corners \u001b[38;5;129;01mis\u001b[39;00m \u001b[38;5;129;01mnot\u001b[39;00m \u001b[38;5;28;01mNone\u001b[39;00m\n",
            "\n",
            "\u001b[0;31mKeyboardInterrupt\u001b[0m: "
          ]
        }
      ],
      "source": [
        "wt_dice_list = []\n",
        "et_dice_list = []\n",
        "tc_dice_list = []\n",
        "\n",
        "model.eval()\n",
        "with torch.no_grad():\n",
        "    preds = predict(test_loader, model, batch_size=batch_size)\n",
        "\n",
        "for patient in patients:\n",
        "    # Path to original image\n",
        "    patient_folder = os.path.join(test_path,patient)\n",
        "    # Open image\n",
        "    orig_image = sitk.ReadImage(os.path.join(patient_folder,\n",
        "                                            patient  + '_seg.nii.gz' ))\n",
        "    # Convert image to numpy array\n",
        "    orig_mask = sitk.GetArrayFromImage(orig_image)\n",
        "\n",
        "    # Reconstruct the whole patient predicted mask\n",
        "    predict_mask = reconstruct_patient(preds, patient)\n",
        "    predict_mask = get_mask2original_shape(predict_mask)\n",
        "\n",
        "    print('*********** {} ***********'.format(patient))\n",
        "    scores = evalAllSample(predict_mask, orig_mask)\n",
        "    print(scores)\n",
        "    print(\"\\n\")\n",
        "\n",
        "    wt_dice_list.append(scores.loc['Dice', 'wt'])\n",
        "    et_dice_list.append(scores.loc['Dice', 'et'])\n",
        "    tc_dice_list.append(scores.loc['Dice', 'tc'])"
      ]
    },
    {
      "cell_type": "code",
      "execution_count": null,
      "metadata": {},
      "outputs": [],
      "source": []
    }
  ],
  "metadata": {
    "accelerator": "GPU",
    "colab": {
      "collapsed_sections": [
        "U5zrwq0EFT-S"
      ],
      "provenance": [],
      "toc_visible": true
    },
    "kernelspec": {
      "display_name": "Python 3",
      "language": "python",
      "name": "python3"
    },
    "language_info": {
      "codemirror_mode": {
        "name": "ipython",
        "version": 3
      },
      "file_extension": ".py",
      "mimetype": "text/x-python",
      "name": "python",
      "nbconvert_exporter": "python",
      "pygments_lexer": "ipython3",
      "version": "3.8.5"
    }
  },
  "nbformat": 4,
  "nbformat_minor": 0
}
